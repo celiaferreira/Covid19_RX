{
  "nbformat": 4,
  "nbformat_minor": 0,
  "metadata": {
    "colab": {
      "name": "6_1_ML_SMOTE.ipynb",
      "provenance": [],
      "collapsed_sections": [],
      "include_colab_link": true
    },
    "kernelspec": {
      "name": "python3",
      "display_name": "Python 3"
    }
  },
  "cells": [
    {
      "cell_type": "markdown",
      "metadata": {
        "id": "view-in-github",
        "colab_type": "text"
      },
      "source": [
        "<a href=\"https://colab.research.google.com/github/celiaferreira/Covid19_RX/blob/master/6_1_ML_SMOTE.ipynb\" target=\"_parent\"><img src=\"https://colab.research.google.com/assets/colab-badge.svg\" alt=\"Open In Colab\"/></a>"
      ]
    },
    {
      "cell_type": "markdown",
      "metadata": {
        "id": "gkGjd454YCFA",
        "colab_type": "text"
      },
      "source": [
        "### 6.1 Modelos de machine learning - SMOTE\n",
        "\n",
        "Nesta secção são apresentados <u>modelos tradicionais</u> de **machine learning**, tendo os dados de treino sido aumentados via <u>oversampling</u> (SMOTE).\n",
        "Começamos por colocar as imagens numa lista, de modo a servirem de input para os modelos."
      ]
    },
    {
      "cell_type": "markdown",
      "metadata": {
        "id": "LaaXtp-taYqp",
        "colab_type": "text"
      },
      "source": [
        "Técnicas exigem que dados de input estejam em vetores."
      ]
    },
    {
      "cell_type": "code",
      "metadata": {
        "id": "Zh6PpZ9laAVK",
        "colab_type": "code",
        "colab": {}
      },
      "source": [
        "def X_to_vector(X):\n",
        "  X_all_vec=[]\n",
        "  X_allReshaped = X.reshape(len(X),200,200)\n",
        "  print(X_allReshaped.shape)\n",
        "  for i in X_allReshaped:\n",
        "      img = i\n",
        "      #print(img.shape)\n",
        "      cols,colors = img.shape # gives dimensions for RGB array\n",
        "      img_size = cols*colors\n",
        "      img_1D_vector = img.reshape(img_size)\n",
        "      # you can recover the orginal image with:\n",
        "      img2 = img_1D_vector.reshape(cols,colors)\n",
        "      X_all_vec.append(img_1D_vector)\n",
        "  return X_all_vec"
      ],
      "execution_count": 12,
      "outputs": []
    },
    {
      "cell_type": "code",
      "metadata": {
        "id": "RKx13s6ykEar",
        "colab_type": "code",
        "colab": {
          "base_uri": "https://localhost:8080/",
          "height": 50
        },
        "outputId": "fe5350df-7199-4bcd-e4f4-085c5b7aa48c"
      },
      "source": [
        "X_train_vec=X_to_vector(X_train)\n",
        "X_test_vec=X_to_vector(X_test)"
      ],
      "execution_count": 13,
      "outputs": [
        {
          "output_type": "stream",
          "text": [
            "(3441, 200, 200)\n",
            "(2107, 200, 200)\n"
          ],
          "name": "stdout"
        }
      ]
    },
    {
      "cell_type": "markdown",
      "metadata": {
        "id": "uFOI23YSkgdf",
        "colab_type": "text"
      },
      "source": [
        "### 6.1.1 Random Forests\n",
        "O primeiro modelo de ML a testar é uma Random Forest.\n",
        "\n",
        "* **Target com 4 labels**"
      ]
    },
    {
      "cell_type": "code",
      "metadata": {
        "id": "MqygHoANkrj-",
        "colab_type": "code",
        "colab": {
          "base_uri": "https://localhost:8080/",
          "height": 293
        },
        "outputId": "faffb852-a840-4be1-a4c6-5d69f2e0a9f3"
      },
      "source": [
        "Rfc = RandomForestClassifier(n_estimators = 200, criterion = \"entropy\", random_state = 42,\n",
        "                                      min_samples_split=10,min_samples_leaf=1,\n",
        "                                      max_features='sqrt',max_depth=90,bootstrap=False)\n",
        "\n",
        "Rfc=Rfc.fit(X_train_vec, y_train)\n",
        "y_pred_4  = Rfc.predict(X_test_vec)\n",
        "\n",
        "\n",
        "Accuracy_total_Rfc=Rfc.score(X_test_vec, y_test)\n",
        "print('Accuracy total:',Accuracy_total_Rfc)\n",
        "\n",
        "cm = confusion_matrix(y_test, y_pred_4)\n",
        "conf_mat=pd.DataFrame(cm)\n",
        "conf_mat.index.name='Actual'\n",
        "conf_mat.columns.name='Predicted'\n",
        "print(conf_mat)\n",
        "\n",
        "print('accuracy total:', accuracy(cm))\n",
        "print('precision covid:', precision(0,cm))\n",
        "print('recall covid:', recall(0,cm))\n",
        "print('precision total:', precision_macro_average(cm))\n",
        "print('recall total:', recall_macro_average(cm))\n",
        "print(\"label precision recall\")\n",
        "for label in range(len(unique_labels(y_test))):\n",
        " print(f\"{label:5d} {precision(label, cm):9.3f} {recall(label, cm):6.3f}\")"
      ],
      "execution_count": 9,
      "outputs": [
        {
          "output_type": "stream",
          "text": [
            "Accuracy total: 0.8424299952539155\n",
            "Predicted    0    1    2    3\n",
            "Actual                       \n",
            "0          315    6    5    9\n",
            "1            7  526   37   68\n",
            "2            0  157  117   18\n",
            "3            4   20    1  817\n",
            "accuracy total: 0.8424299952539155\n",
            "precision covid: 0.9662576687116564\n",
            "recall covid: 0.9402985074626866\n",
            "precision total: 0.8338077469851544\n",
            "recall total: 0.7839359095566045\n",
            "label precision recall\n",
            "    0     0.966  0.940\n",
            "    1     0.742  0.824\n",
            "    2     0.731  0.401\n",
            "    3     0.896  0.970\n"
          ],
          "name": "stdout"
        }
      ]
    },
    {
      "cell_type": "markdown",
      "metadata": {
        "id": "IDFAfkUFt3Fk",
        "colab_type": "text"
      },
      "source": [
        "Conclui-se que o modelo apresenta uma **precisão global de 84,2%**, identificando **94% dos casos COVID-19**.\n",
        "\n",
        "O maior erro está associado à distinção entre pneumonia bacteriana e viral.\n",
        "\n",
        "Ainda, constata-se a existência de **overfitting**: o conjunto de treino tem uma accuracy de 100%. Tal accuracy pode estar associada à profundidade da árvore (max_depth=90)."
      ]
    },
    {
      "cell_type": "code",
      "metadata": {
        "id": "hKpFY1rW6C5p",
        "colab_type": "code",
        "colab": {
          "base_uri": "https://localhost:8080/",
          "height": 33
        },
        "outputId": "3862cdd3-b2af-4524-b13a-768f419f4ef8"
      },
      "source": [
        "print('accuracy total:', accuracy(confusion_matrix(y_train, Rfc.predict(X_train_vec))))"
      ],
      "execution_count": 10,
      "outputs": [
        {
          "output_type": "stream",
          "text": [
            "accuracy total: 1.0\n"
          ],
          "name": "stdout"
        }
      ]
    },
    {
      "cell_type": "markdown",
      "metadata": {
        "id": "ogHV5hqf_P7v",
        "colab_type": "text"
      },
      "source": [
        "* **Otimização da profundidade das árvores**"
      ]
    },
    {
      "cell_type": "markdown",
      "metadata": {
        "id": "FDjYfV_h86Ww",
        "colab_type": "text"
      },
      "source": [
        "De seguida tentamos identificar a profundidade ótima das árvores, de modo a minimizar o overfitting. Testamos profundidades entre 1 e 51, com um espaçamento de 5."
      ]
    },
    {
      "cell_type": "code",
      "metadata": {
        "id": "osY1Zvo971eo",
        "colab_type": "code",
        "colab": {
          "base_uri": "https://localhost:8080/",
          "height": 278
        },
        "outputId": "e55cb527-3072-4d8b-e720-432db1de0567"
      },
      "source": [
        "max_depths = np.linspace(1, 51, 11, endpoint=True)\n",
        "train_results = []\n",
        "test_results = []\n",
        "for max_depth in max_depths:\n",
        "   rf = RandomForestClassifier(n_estimators = 200, criterion = \"entropy\", random_state = 42,min_samples_split=10,min_samples_leaf=1,max_features='sqrt',max_depth=max_depth,bootstrap=False)\n",
        "   rf.fit(X_train_vec, y_train)\n",
        "   train_pred = rf.predict(X_train_vec)\n",
        "   train_acc=rf.score(X_train_vec, y_train)\n",
        "   train_results.append(train_acc)\n",
        "\n",
        "   test_pred = rf.predict(X_test_vec)\n",
        "   test_acc=rf.score(X_test_vec, y_test)\n",
        "   test_results.append(test_acc)\n",
        "\n",
        "from matplotlib.legend_handler import HandlerLine2D\n",
        "line1, = plt.plot(max_depths, train_results, 'b', label='Train Accuracy')\n",
        "line2, = plt.plot(max_depths, test_results, 'r', label='Test Accuracy')\n",
        "plt.legend(handler_map={line1: HandlerLine2D(numpoints=2)})\n",
        "plt.ylabel('Accuracy')\n",
        "plt.xlabel('Tree depth')\n",
        "plt.show()"
      ],
      "execution_count": 11,
      "outputs": [
        {
          "output_type": "display_data",
          "data": {
            "image/png": "[encoded data removed]",
            "text/plain": [
              "<Figure size 432x288 with 1 Axes>"
            ]
          },
          "metadata": {
            "tags": [],
            "needs_background": "light"
          }
        }
      ]
    },
    {
      "cell_type": "markdown",
      "metadata": {
        "id": "DmTxTOvKMA6k",
        "colab_type": "text"
      },
      "source": [
        "O gráfico acima mostra que não existem ganhos na accuracy global em considerar profundidades para as árvores superiores a 11. O overfitting é anulando se a profundidade máxima das árvores for 6."
      ]
    },
    {
      "cell_type": "markdown",
      "metadata": {
        "id": "q4isd2iV-YlX",
        "colab_type": "text"
      },
      "source": [
        "* **Target com 3 labels**"
      ]
    },
    {
      "cell_type": "markdown",
      "metadata": {
        "id": "IbCNQNYG6A76",
        "colab_type": "text"
      },
      "source": [
        "\n",
        "\n",
        "O modelo seguinte é desenvolvido apenas com 3 labels, agregando penumonia viral e bacteriana. Recorda-se que o objetivo do projeto é distinguir bem o COVID-19 das restantes patologias e das situações normais. É ainda utilizada a <u>profundidade máxima ótima</u> identificada para as árvores: 6."
      ]
    },
    {
      "cell_type": "code",
      "metadata": {
        "id": "EtuQefSF4pou",
        "colab_type": "code",
        "colab": {
          "base_uri": "https://localhost:8080/",
          "height": 261
        },
        "outputId": "ef34c9f2-2fc1-40e7-e19f-b14ff833df2e"
      },
      "source": [
        "Rfc = RandomForestClassifier(n_estimators = 200, criterion = \"entropy\", random_state = 42,min_samples_split=10, min_samples_leaf=1, \n",
        "                             max_features='sqrt', max_depth=6, bootstrap=False)\n",
        "Rfc=Rfc.fit(X_train_vec, y_train3)\n",
        "y_pred_3  = Rfc.predict(X_test_vec)\n",
        "\n",
        "\n",
        "Accuracy_total_Rfc=Rfc.score(X_test_vec, y_test3)\n",
        "print('Accuracy total:',Accuracy_total_Rfc)\n",
        "\n",
        "cm = confusion_matrix(y_test3, y_pred_3)\n",
        "conf_mat=pd.DataFrame(cm)\n",
        "conf_mat.index.name='Actual'\n",
        "conf_mat.columns.name='Predicted'\n",
        "print(conf_mat)\n",
        "\n",
        "print('accuracy total:', accuracy(cm))\n",
        "print('precision covid:', precision(0,cm))\n",
        "print('recall covid:', recall(0,cm))\n",
        "print('precision total:', precision_macro_average(cm))\n",
        "print('recall total:', recall_macro_average(cm))\n",
        "print(\"label precision recall\")\n",
        "for label in range(len(unique_labels(y_test3))):\n",
        " print(f\"{label:5d} {precision(label, cm):9.3f} {recall(label, cm):6.3f}\")"
      ],
      "execution_count": 9,
      "outputs": [
        {
          "output_type": "stream",
          "text": [
            "Accuracy total: 0.9093497864261983\n",
            "Predicted    0    1    2\n",
            "Actual                  \n",
            "0          296   27   12\n",
            "1            6  844   80\n",
            "2            5   61  776\n",
            "accuracy total: 0.9093497864261983\n",
            "precision covid: 0.9641693811074918\n",
            "recall covid: 0.8835820895522388\n",
            "precision total: 0.9212526656129948\n",
            "recall total: 0.9042413910576355\n",
            "label precision recall\n",
            "    0     0.964  0.884\n",
            "    1     0.906  0.908\n",
            "    2     0.894  0.922\n"
          ],
          "name": "stdout"
        }
      ]
    },
    {
      "cell_type": "markdown",
      "metadata": {
        "id": "H_DGP1wtDeBN",
        "colab_type": "text"
      },
      "source": [
        "A performanca da random forest com 3 labels é de 90,9%, o que compara com 84,2% no caso do modelo com 4 labels. As métricas identificam uma boa classidicação das várias labels pelo modelo. O recall para o COVID é de 88%, pelo que, nesta classe, o modelo apresenta uma taxa de falsos negativos de 12% (apenas 12 casos são, no entanto, classificados como 'normais')."
      ]
    },
    {
      "cell_type": "markdown",
      "metadata": {
        "id": "PH3N95CzuGhp",
        "colab_type": "text"
      },
      "source": [
        "### 6.1.2 Ensamble-Adaptative Boosting\n",
        "\n",
        "Esta secção apresenta um modelo de Adaptative Boosting.\n",
        "Neste modelos, as classificações subsequentes são ajustadas a favor das classificadas erradas por classificações anteriores, sendo construídos *weak learners*."
      ]
    },
    {
      "cell_type": "code",
      "metadata": {
        "id": "4XEPT7UauG_U",
        "colab_type": "code",
        "colab": {}
      },
      "source": [
        "ada_tree = AdaBoostClassifier(n_estimators=100)\n",
        "ada_tree=ada_tree.fit(X_train_vec, y_train)"
      ],
      "execution_count": 10,
      "outputs": []
    },
    {
      "cell_type": "code",
      "metadata": {
        "id": "JldtnuV53Bdf",
        "colab_type": "code",
        "colab": {}
      },
      "source": [
        "Y_pred_test = ada_tree.predict(X_test_vec)"
      ],
      "execution_count": 11,
      "outputs": []
    },
    {
      "cell_type": "code",
      "metadata": {
        "id": "VegzeZYauOky",
        "colab_type": "code",
        "colab": {
          "base_uri": "https://localhost:8080/",
          "height": 131
        },
        "outputId": "0264ac8e-a655-4574-bf2c-ff9fe28b7ee4"
      },
      "source": [
        "Accuracy_total_AdaBoost=ada_tree.score(X_test_vec, y_test)\n",
        "print('Accuracy total:',Accuracy_total_AdaBoost)\n",
        "\n",
        "conf_mat=confusion_matrix(y_test,Y_pred_test)\n",
        "conf_mat=pd.DataFrame(conf_mat)\n",
        "conf_mat.index.name='Actual'\n",
        "conf_mat.columns.name='Predicted'\n",
        "print(conf_mat)"
      ],
      "execution_count": 12,
      "outputs": [
        {
          "output_type": "stream",
          "text": [
            "Accuracy total: 0.6511627906976745\n",
            "Predicted    0    1    2    3\n",
            "Actual                       \n",
            "0          291   27    6   11\n",
            "1            1  213  258  166\n",
            "2            3  100  150   39\n",
            "3            9   72   43  718\n"
          ],
          "name": "stdout"
        }
      ]
    },
    {
      "cell_type": "markdown",
      "metadata": {
        "id": "VWKbDGnJuUuO",
        "colab_type": "text"
      },
      "source": [
        "Este modelo apresenta uma precisão de 65,1%, inferior às random forests. O maior erro continua associado à distinção entre pneumonia viral e bacteriana.\n",
        "\n",
        "As características do AdaBoost tornam-no suscetível à perda da capacidade de generalização após a aprendizagem de muitos padrões de treino (overfitting), o que pode justificar a baixa accuracy. Constata-se, no entanto, que a accuracy no train set é de 70,1%, o que não evidencia overfitting significativo."
      ]
    },
    {
      "cell_type": "code",
      "metadata": {
        "id": "VKjMdNMYAWYz",
        "colab_type": "code",
        "colab": {
          "base_uri": "https://localhost:8080/",
          "height": 33
        },
        "outputId": "4634a363-65d0-47c0-b6ff-48e6eccbfbcb"
      },
      "source": [
        "ada_tree.score(X_train_vec, y_train)"
      ],
      "execution_count": 13,
      "outputs": [
        {
          "output_type": "execute_result",
          "data": {
            "text/plain": [
              "0.7012496367335077"
            ]
          },
          "metadata": {
            "tags": []
          },
          "execution_count": 13
        }
      ]
    },
    {
      "cell_type": "markdown",
      "metadata": {
        "id": "bmqGFqK-ucZZ",
        "colab_type": "text"
      },
      "source": [
        "### 6.1.3 KNN\n",
        "Apresenta-se nesta secção outra versão de classificaçao usando modelos de machine learning: K-NeighborsClassifier.\n",
        "\n",
        "* **Target com 4 labels**"
      ]
    },
    {
      "cell_type": "code",
      "metadata": {
        "id": "gCU4qVnRueXI",
        "colab_type": "code",
        "colab": {
          "base_uri": "https://localhost:8080/",
          "height": 66
        },
        "outputId": "12539600-3d49-424e-bafc-11ca34943999"
      },
      "source": [
        "from sklearn.neighbors import KNeighborsClassifier\n",
        "knn = KNeighborsClassifier(n_neighbors=1,p=1, weights='uniform')\n",
        "knn_model=knn.fit(X_train_vec, y_train)\n",
        "print(knn_model)\n",
        "Y_pred_test = knn_model.predict(X_test_vec)"
      ],
      "execution_count": 14,
      "outputs": [
        {
          "output_type": "stream",
          "text": [
            "KNeighborsClassifier(algorithm='auto', leaf_size=30, metric='minkowski',\n",
            "                     metric_params=None, n_jobs=None, n_neighbors=1, p=1,\n",
            "                     weights='uniform')\n"
          ],
          "name": "stdout"
        }
      ]
    },
    {
      "cell_type": "code",
      "metadata": {
        "id": "uviTuUtbUAbn",
        "colab_type": "code",
        "colab": {
          "base_uri": "https://localhost:8080/",
          "height": 115
        },
        "outputId": "997332d4-d1a9-499b-ed81-6de829711dc0"
      },
      "source": [
        "conf_mat=confusion_matrix(y_test,knn.predict(X_test_vec))\n",
        "\n",
        "conf_mat2=pd.DataFrame(conf_mat)\n",
        "conf_mat2.index.name='Actual'\n",
        "conf_mat2.columns.name='Predicted'\n",
        "print(conf_mat2)"
      ],
      "execution_count": 15,
      "outputs": [
        {
          "output_type": "stream",
          "text": [
            "Predicted    0    1    2    3\n",
            "Actual                       \n",
            "0          299   15   14    7\n",
            "1            3  494   92   49\n",
            "2            3  145  125   19\n",
            "3           10   58   14  760\n"
          ],
          "name": "stdout"
        }
      ]
    },
    {
      "cell_type": "code",
      "metadata": {
        "id": "Jz3wp3_ST5yg",
        "colab_type": "code",
        "colab": {
          "base_uri": "https://localhost:8080/",
          "height": 34
        },
        "outputId": "93c90449-2a58-4016-b5d2-f0d6c4b184ab"
      },
      "source": [
        "knn_model_score=knn_model.score(X_test_vec, y_test)\n",
        "print('Score:',knn_model_score)"
      ],
      "execution_count": null,
      "outputs": [
        {
          "output_type": "stream",
          "text": [
            "Score: 0.8135675939482675\n"
          ],
          "name": "stdout"
        }
      ]
    },
    {
      "cell_type": "markdown",
      "metadata": {
        "id": "Lpl3AoECAm8N",
        "colab_type": "text"
      },
      "source": [
        "O modelo KNN apresenta uma accuracy global de 81,4%, comparável com as random forests, sendo também o principal inibidor de uma accuracy superior a distinção entre pneumonia viral e bacteriana."
      ]
    },
    {
      "cell_type": "markdown",
      "metadata": {
        "id": "mXsu_WdTBdHB",
        "colab_type": "text"
      },
      "source": [
        "* **Target com 3 labels**\n",
        "\n",
        "À semelhança dos modelos anteriores, apresenta-se um modelo KNN desenvolvido apenas com 3 labels, agregando penumonia viral e bacteriana."
      ]
    },
    {
      "cell_type": "code",
      "metadata": {
        "id": "Qdz_HvMK6twZ",
        "colab_type": "code",
        "colab": {
          "base_uri": "https://localhost:8080/",
          "height": 163
        },
        "outputId": "f70c79bf-c7d9-4057-8dc8-08854afb943f"
      },
      "source": [
        "from sklearn.neighbors import KNeighborsClassifier\n",
        "knn3 = KNeighborsClassifier(n_neighbors=1,p=1, weights='uniform')\n",
        "knn_model3=knn3.fit(X_train_vec, y_train3)\n",
        "print(knn_model3)\n",
        "Y_pred_test3 = knn_model3.predict(X_test_vec)\n",
        "\n",
        "conf_mat=confusion_matrix(y_test3,Y_pred_test3)\n",
        "conf_mat=pd.DataFrame(conf_mat)\n",
        "conf_mat.index.name='Actual'\n",
        "conf_mat.columns.name='Predicted'\n",
        "\n",
        "print(conf_mat)\n",
        "knn_model_score=knn_model3.score(X_test_vec, y_test3)\n",
        "print('Score:',knn_model_score)"
      ],
      "execution_count": 16,
      "outputs": [
        {
          "output_type": "stream",
          "text": [
            "KNeighborsClassifier(algorithm='auto', leaf_size=30, metric='minkowski',\n",
            "                     metric_params=None, n_jobs=None, n_neighbors=1, p=1,\n",
            "                     weights='uniform')\n",
            "Predicted    0    1    2\n",
            "Actual                  \n",
            "0          299   29    7\n",
            "1            6  856   68\n",
            "2           10   72  760\n",
            "Score: 0.908875177978168\n"
          ],
          "name": "stdout"
        }
      ]
    },
    {
      "cell_type": "markdown",
      "metadata": {
        "id": "Yvj2bbZzCj5x",
        "colab_type": "text"
      },
      "source": [
        "O modelo anterior apresenta uma accuracy de 90,9%, identificando 89% dos casos de COVID-19."
      ]
    },
    {
      "cell_type": "markdown",
      "metadata": {
        "id": "V1V_rdy3RADl",
        "colab_type": "text"
      },
      "source": [
        "### 6.1.4 Ensamble - voting classifier\n",
        "\n",
        "Nesta secção apresenta-se a performance de um modelo com classificadores distintos, usando um sistema de votação com pesos. Será atribuído um menor peso ao AdaBoost, por ter apresentado uma pior performance individual. Será usado o <u>target com 4 labels</u>."
      ]
    },
    {
      "cell_type": "code",
      "metadata": {
        "id": "OIEdE-mpRam-",
        "colab_type": "code",
        "colab": {}
      },
      "source": [
        "from sklearn.ensemble import VotingClassifier\n",
        "from sklearn.neighbors import KNeighborsClassifier\n",
        "\n",
        "knn = KNeighborsClassifier(n_neighbors=1,p=1, weights='uniform')\n",
        "ada_tree = AdaBoostClassifier(n_estimators=100)\n",
        "Rfc = RandomForestClassifier(n_estimators = 200, criterion = \"entropy\", random_state = 42,min_samples_split=10, min_samples_leaf=1, \n",
        "                             max_features='sqrt',max_depth=6,bootstrap=False)\n",
        "\n",
        "voting = VotingClassifier(estimators=[('knn', knn), ('ada_tree', ada_tree), ('Rfc', Rfc)], voting='soft', weights=[2, 1, 2])\n",
        "# hard: usa class (0/1/2)\n",
        "# soft: usa a probabilidade da classe"
      ],
      "execution_count": 17,
      "outputs": []
    },
    {
      "cell_type": "code",
      "metadata": {
        "id": "p9zZvK-pSXTs",
        "colab_type": "code",
        "colab": {}
      },
      "source": [
        "voting = voting.fit(X_train_vec, y_train)"
      ],
      "execution_count": 19,
      "outputs": []
    },
    {
      "cell_type": "code",
      "metadata": {
        "id": "ZaFdVgYMlYCS",
        "colab_type": "code",
        "colab": {
          "base_uri": "https://localhost:8080/",
          "height": 33
        },
        "outputId": "fe35bba7-1385-478e-9332-b68cfb8f15fc"
      },
      "source": [
        "print(voting.score(X_test_vec, y_test))"
      ],
      "execution_count": 20,
      "outputs": [
        {
          "output_type": "stream",
          "text": [
            "0.7978168011390603\n"
          ],
          "name": "stdout"
        }
      ]
    },
    {
      "cell_type": "code",
      "metadata": {
        "id": "iGjy7hkNbBF-",
        "colab_type": "code",
        "colab": {
          "base_uri": "https://localhost:8080/",
          "height": 277
        },
        "outputId": "0fc8ae79-af71-4a8a-efcb-17a5ca08dce3"
      },
      "source": [
        "Y_pred_test = voting.predict(X_test_vec)\n",
        "\n",
        "cm=confusion_matrix(y_test,Y_pred_test)\n",
        "conf_mat=pd.DataFrame(cm)\n",
        "conf_mat.index.name='Actual'\n",
        "conf_mat.columns.name='Predicted'\n",
        "print(conf_mat)\n",
        "\n",
        "print('accuracy total:', accuracy(cm))\n",
        "print('precision covid:', precision(0,cm))\n",
        "print('recall covid:', recall(0,cm))\n",
        "print('precision total:', precision_macro_average(cm))\n",
        "print('recall total:', recall_macro_average(cm))\n",
        "print(\"label precision recall\")\n",
        "for label in range(len(unique_labels(y_test))):\n",
        " print(f\"{label:5d} {precision(label, cm):9.3f} {recall(label, cm):6.3f}\")"
      ],
      "execution_count": 21,
      "outputs": [
        {
          "output_type": "stream",
          "text": [
            "Predicted    0    1    2    3\n",
            "Actual                       \n",
            "0          307   19    7   10\n",
            "1            8  476  111   35\n",
            "2            1  143  134   14\n",
            "3            4   61   13  764\n",
            "accuracy total: 0.7978168011390603\n",
            "precision covid: 0.959375\n",
            "recall covid: 0.8950437317784257\n",
            "precision total: 0.7685798131946264\n",
            "recall total: 0.7542167043376439\n",
            "label precision recall\n",
            "    0     0.959  0.895\n",
            "    1     0.681  0.756\n",
            "    2     0.506  0.459\n",
            "    3     0.928  0.907\n"
          ],
          "name": "stdout"
        }
      ]
    },
    {
      "cell_type": "markdown",
      "metadata": {
        "id": "RStduGBWS3DC",
        "colab_type": "text"
      },
      "source": [
        "O ensamble de modelos originou uma accuracy de 79,8%. Não se verificam assim ganhos em relação aos modelos individuais mais preditivos (KNN e random forests)."
      ]
    }
  ]
}
