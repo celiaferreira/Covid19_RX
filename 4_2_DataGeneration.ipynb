{
  "nbformat": 4,
  "nbformat_minor": 0,
  "metadata": {
    "colab": {
      "name": "Import_Data_Pre_Data_Colab (1) (1).ipynb",
      "provenance": [],
      "toc_visible": true,
      "include_colab_link": true
    },
    "kernelspec": {
      "name": "python3",
      "display_name": "Python 3"
    },
    "accelerator": "GPU"
  },
  "cells": [
    {
      "cell_type": "markdown",
      "metadata": {
        "id": "view-in-github",
        "colab_type": "text"
      },
      "source": [
        "<a href=\"https://colab.research.google.com/github/celiaferreira/Covid19_RX/blob/master/4_2_DataGeneration.ipynb\" target=\"_parent\"><img src=\"https://colab.research.google.com/assets/colab-badge.svg\" alt=\"Open In Colab\"/></a>"
      ]
    },
    {
      "cell_type": "markdown",
      "metadata": {
        "id": "4tYHnQQL1Sjf",
        "colab_type": "text"
      },
      "source": [
        "### 4.2. Data Augmentation\n",
        "In order to increase COVID data, which is still scarcely available, new data was generated. This action will help control **overfitting** and model prediction.\n",
        "\n",
        "For each COVID-19 image (label=0) in the training set, the following function **will generate 3 additional images**, using slight translations and rotations of the initial image. For the problem under analysis, the remaining transformations (skew , zoom, symmetry) were not considered appropriate."  
]
    },
    {
      "cell_type": "code",
      "metadata": {
        "id": "ERsV1PlV1Ruo",
        "colab_type": "code",
        "colab": {}
      },
      "source": [
        "!mkdir /content/Augmentation"
      ],
      "execution_count": null,
      "outputs": []
    },
    {
      "cell_type": "code",
      "metadata": {
        "id": "KxnEs9QB0nws",
        "colab_type": "code",
        "colab": {}
      },
      "source": [
        "rain_datagen = ImageDataGenerator(\n",
        "      rotation_range=25,#rotacao:0;180\n",
        "      width_shift_range=0.1,#translaçao vertical\n",
        "      height_shift_range=0.1,# translação horizontal\n",
        "      shear_range=0,#enviezamento: quadrado->losango\n",
        "      zoom_range=0,#zoom\n",
        "      horizontal_flip=False,#simetria\n",
        "      fill_mode='nearest')\n",
        "k=0\n",
        "#max_len=len(y_all)-1\n",
        "\n",
        "for j in range(1,len(y_train),1):\n",
        "    if y_train[j]==0: #covid19\n",
        "        k=k+1\n",
        "        img = X_train[j]\n",
        "        # Convert it to a Numpy array\n",
        "        x = image.img_to_array(img)\n",
        "\n",
        "        # Reshape it to (1, shape)\n",
        "        x = x.reshape((1,) + x.shape)\n",
        "\n",
        "        # The .flow() command below generates batches of randomly transformed images.\n",
        "        # It will loop indefinitely, so we need to `break` the loop at some point!\n",
        "        i = 0\n",
        "        plt.rcParams['figure.figsize'] = (10.0, 10.0)\n",
        "        plt.subplots_adjust(wspace=0.5, hspace=0.2)\n",
        "        for batch in train_datagen.flow(x, batch_size=1):\n",
        "            imgplot = plt.imshow(image.array_to_img(batch[0]),cmap='gray', vmin=0, vmax=255)\n",
        "            i += 1\n",
        "            #triplicar imagens\n",
        "            if i % 4 == 0:\n",
        "                break\n",
        "            plt.axis('off')\n",
        "            #plt.savefig(\"test.jpg\", bbox_inches='tight')\n",
        "\n",
        "            plt.savefig('Augmentation/augmented_'+str(j)+str(i)+\".jpg\")\n",
        "        #plt.show() \n",
        "print(k)"
      ],
      "execution_count": null,
      "outputs": []
    },
    {
      "cell_type": "markdown",
      "metadata": {
        "id": "Jv7A4sHl1di-",
        "colab_type": "text"
      },
      "source": [
        "Then, the generated images are saved again in arrays:"
      ]
    },
    {
      "cell_type": "code",
      "metadata": {
        "id": "kIhNnhET1Yc6",
        "colab_type": "code",
        "colab": {}
      },
      "source": [
        "def get_data_augmented(folderName):\n",
        "    X = []\n",
        "    y = []\n",
        "    label=0\n",
        "    for image_filename in tqdm(os.listdir(folderName)):\n",
        "        img_file = cv2.imread(folderName + '/' + image_filename)\n",
        "        if img_file is not None:\n",
        "            img_file = skimage.transform.resize(img_file, (200, 200, 3),mode='constant',anti_aliasing=True)\n",
        "            img_file = rgb2gray(img_file)\n",
        "            img_arr = np.asarray(img_file)\n",
        "            X.append(img_arr)\n",
        "            y.append(label)\n",
        "                    \n",
        "    X = np.asarray(X)\n",
        "    y = np.asarray(y)  \n",
        "    return X,y"
      ],
      "execution_count": null,
      "outputs": []
    },
    {
      "cell_type": "markdown",
      "metadata": {
        "id": "W7A8dB_F1ro5",
        "colab_type": "text"
      },
      "source": [
       "Finally, the original training images are attached:"
      ]
    },
    {
      "cell_type": "code",
      "metadata": {
        "id": "ycwspjpd1YZd",
        "colab_type": "code",
        "colab": {}
      },
      "source": [
        "Augmented_Data='Augmentation'\n",
        "#LOAD_FROM_IMAGES = True\n",
        "LOAD_FROM_IMAGES = False\n",
        "if LOAD_FROM_IMAGES:\n",
        "    #converter imagens em arrays\n",
        "    BD_X, BD_Y = get_data_augmented(Augmented_Data)\n",
        "    #anexar aos dadps anteriores\n",
        "    X_all_aug=np.append(X_train,BD_X)\n",
        "    y_all_aug=np.append(y_train,BD_Y)\n",
        "    #gravar os arrays em ficheiros binários numpy (.npy)   \n",
        "    np.save('x_Arg_2.npy', X_train_aug)\n",
        "    np.save('y_Arg_2.npy',y_train_aug)    \n",
        "else:\n",
        "    #fazer o load dos arrays guardados\n",
        "    X_train_aug = np.load('x_Arg_2.npy')\n",
        "    y_train_aug = np.load('y_Arg_2.npy') "
      ],
      "execution_count": null,
      "outputs": []
    },
    {
      "cell_type": "markdown",
      "metadata": {
        "id": "vj0ZOJyl1_AD",
        "colab_type": "text"
      },
      "source": [
        "* Reshape das imagens: 200x200, gray-scale:"
      ]
    },
    {
      "cell_type": "code",
      "metadata": {
        "id": "eIK50xVJ12QC",
        "colab_type": "code",
        "colab": {}
      },
      "source": [
        "X_train_aug = X_train_aug.reshape(len(y_train_aug),200,200,1)"
      ],
      "execution_count": null,
      "outputs": []
    },
    {
      "cell_type": "code",
      "metadata": {
        "id": "0xKo4ZtAWhm1",
        "colab_type": "code",
        "colab": {
          "base_uri": "https://localhost:8080/",
          "height": 66
        },
        "outputId": "1a5c0f55-195a-453e-9b86-3669a7af46b0"
      },
      "source": [
        "print('X_train:',X_train_aug.shape)\n",
        "print('X_test:',X_test.shape)\n",
        "print('X_val:',X_val.shape)"
      ],
      "execution_count": null,
      "outputs": [
        {
          "output_type": "stream",
          "text": [
            "X_train: (5134, 200, 200, 1)\n",
            "X_test: (2006, 200, 200, 1)\n",
            "X_val: (1404, 200, 200, 1)\n"
          ],
          "name": "stdout"
        }
      ]
    },
    {
      "cell_type": "markdown",
      "metadata": {
        "id": "ErzP_ZKMjrEY",
        "colab_type": "text"
      },
      "source": [
        "The plot highlights a more balanced data set."
      ]
    },
    {
      "cell_type": "code",
      "metadata": {
        "id": "3NnknIKXUw72",
        "colab_type": "code",
        "colab": {
          "base_uri": "https://localhost:8080/",
          "height": 315
        },
        "outputId": "0d7fb76a-7dd4-4f35-8708-ba275f70f31c"
      },
      "source": [
        "labels = '0-COVID-19', '1-Viral Pneumonia', '2-Bacterial Pneumonia', '3-Normal'\n",
        "colors = ['gold', 'yellowgreen', 'lightcoral', 'lightblue']\n",
        "explode = (0.2, 0, 0, 0)  # explode 1st slice\n",
        "sizes = count_labels(y_all)\n",
        "# Plot\n",
        "plt.pie(sizes, explode=explode, labels=labels, colors=colors,\n",
        "autopct='%1.1f%%', shadow=True, startangle=140)\n",
        "\n",
        "plt.axis('equal')\n",
        "plt.show()"
      ],
      "execution_count": null,
      "outputs": [
        {
          "output_type": "stream",
          "text": [
            "#covid: 2669\n",
            "#viral: 2082\n",
            "#bacteria: 974\n",
            "#normal: 2819\n"
          ],
          "name": "stdout"
        },
        {
          "output_type": "display_data",
          "data": {
            "image/png": "[encoded data removed]",
            "text/plain": [
              "<Figure size 432x288 with 1 Axes>"
            ]
          },
          "metadata": {
            "tags": []
          }
        }
      ]
    }
  ]
}
