{
  "nbformat": 4,
  "nbformat_minor": 0,
  "metadata": {
    "colab": {
      "name": "2_PreProcessamento.ipynb",
      "provenance": [],
      "collapsed_sections": [],
      "include_colab_link": true
    },
    "kernelspec": {
      "name": "python3",
      "display_name": "Python 3"
    }
  },
  "cells": [
    {
      "cell_type": "markdown",
      "metadata": {
        "id": "view-in-github",
        "colab_type": "text"
      },
      "source": [
        "<a href=\"https://colab.research.google.com/github/celiaferreira/Covid19_RX/blob/master/2_PreProcessamento.ipynb\" target=\"_parent\"><img src=\"https://colab.research.google.com/assets/colab-badge.svg\" alt=\"Open In Colab\"/></a>"
      ]
    },
    {
      "cell_type": "markdown",
      "metadata": {
        "id": "5BdbI0rrJGTh",
        "colab_type": "text"
      },
      "source": [
        "### 2. Data preprocessing\n",
        "\n"
      ]
    },
    {
      "cell_type": "markdown",
      "metadata": {
        "id": "wznS04ATN9_x",
        "colab_type": "text"
      },
      "source": [
        "### 2.1 Reshape das imagens\n",
        "\n",
        "Let’s start by visualizing the shape of the data:"
      ]
    },
    {
      "cell_type": "code",
      "metadata": {
        "id": "uibZ-KbeBLbp",
        "colab_type": "code",
        "colab": {
          "base_uri": "https://localhost:8080/",
          "height": 52
        },
        "outputId": "ce5d883b-ef67-4864-8e17-fc7382e479c9"
      },
      "source": [
        "print('X_all_shape:',X_all.shape)\n",
        "print('y_all_shape:',y_all.shape)"
      ],
      "execution_count": null,
      "outputs": [
        {
          "output_type": "stream",
          "text": [
            "X_all_shape: (6829, 200, 200)\n",
            "y_all_shape: (6829,)\n"
          ],
          "name": "stdout"
        }
      ]
    },
    {
      "cell_type": "markdown",
      "metadata": {
        "id": "QkDbsWHtOQRv",
        "colab_type": "text"
      },
      "source": [
        "For standardization, the images will be reshaped to a single size of 200x200, gray-scale:"
      ]
    },
    {
      "cell_type": "code",
      "metadata": {
        "id": "12l7VnhPOI52",
        "colab_type": "code",
        "colab": {
          "base_uri": "https://localhost:8080/",
          "height": 34
        },
        "outputId": "df489257-a02d-4137-95d4-ff4018288be5"
      },
      "source": [
        "X_all = X_all.reshape(len(y_all),200,200,1)\n",
        "print('X_all_shape:',X_all.shape)"
      ],
      "execution_count": null,
      "outputs": [
        {
          "output_type": "stream",
          "text": [
            "X_all_shape: (6829, 200, 200, 1)\n"
          ],
          "name": "stdout"
        }
      ]
    },
    {
      "cell_type": "markdown",
      "metadata": {
        "id": "i-0w0nSmBL1F",
        "colab_type": "text"
      },
      "source": [
        "### 2.2 Input standardization\n",
        "\n",
        "The images are already standardized:"
      ]
    },
    {
      "cell_type": "code",
      "metadata": {
        "id": "C6tYpQRAAxHH",
        "colab_type": "code",
        "colab": {
          "base_uri": "https://localhost:8080/",
          "height": 34
        },
        "outputId": "545df8e4-a402-4ac0-df52-299fcc8e5944"
      },
      "source": [
        "# confirm pixel range is 0-255\n",
        "pixels = np.asarray(X_all)\n",
        "\n",
        "print('Pixel min: %.3f, Pixel max: %.3f' % (pixels.min(), pixels.max()))\n",
        "# convert from integers to floats\n",
        "pixels = pixels.astype('float32')\n",
        "# a gray-scale image would only have one channel, i.e., \n",
        "# it would be a single matrix with pixel values ​​ranging from 0 to 255, with 0 indicating black and 255 indicating white "
      ],
      "execution_count": null,
      "outputs": [
        {
          "output_type": "stream",
          "text": [
            "Pixel min: 0.000, Pixel max: 1.000\n"
          ],
          "name": "stdout"
        }
      ]
    },
    {
      "cell_type": "markdown",
      "metadata": {
        "id": "6KOP2V2-BVLc",
        "colab_type": "text"
      },
      "source": [
        "### 2.3 Data partition\n",
        "\n",
        "* 30% of data will be used for testing\n",
        "* of the remaining 70%, a sub-group of 30% will be used for validation: 21% of the images for validation and 49% for training"
      ]
    },
    {
      "cell_type": "code",
      "metadata": {
        "id": "BgB6MhVrBPr8",
        "colab_type": "code",
        "colab": {}
      },
      "source": [
        "X_train, X_test, y_train, y_test = train_test_split(X_all, y_all, test_size = 0.3,random_state=1)"
      ],
      "execution_count": null,
      "outputs": []
    },
    {
      "cell_type": "code",
      "metadata": {
        "id": "f6z0XZ_MTBwF",
        "colab_type": "code",
        "colab": {}
      },
      "source": [
        "X_train, X_val, y_train, y_val = train_test_split(X_train, y_train, test_size = 0.3,random_state=1)"
      ],
      "execution_count": null,
      "outputs": []
    },
    {
      "cell_type": "code",
      "metadata": {
        "id": "dRu5M_2fTB8-",
        "colab_type": "code",
        "colab": {
          "base_uri": "https://localhost:8080/",
          "height": 70
        },
        "outputId": "47f7b92f-14d4-4d90-bbe7-bc82b3556609"
      },
      "source": [
        "print('X_train:',X_train.shape)\n",
        "print('X_test:',X_test.shape)\n",
        "print('X_val:',X_val.shape)"
      ],
      "execution_count": null,
      "outputs": [
        {
          "output_type": "stream",
          "text": [
            "X_train: (3346, 200, 200, 1)\n",
            "X_test: (2049, 200, 200, 1)\n",
            "X_val: (1434, 200, 200, 1)\n"
          ],
          "name": "stdout"
        }
      ]
    },
    {
      "cell_type": "markdown",
      "metadata": {
        "id": "0ZCGO1jgTnXY",
        "colab_type": "text"
      },
      "source": [
        "Let's visualize the size of each data set:"
      ]
    },
    {
      "cell_type": "code",
      "metadata": {
        "id": "mbTIs6PJTPKY",
        "colab_type": "code",
        "colab": {}
      },
      "source": [
        "def count_labels(y_all):\n",
        "  how_many_0 = len(np.where(y_all==0)[0])\n",
        "  how_many_1 = len(np.where(y_all==1)[0])\n",
        "  how_many_2 = len(np.where(y_all==2)[0])\n",
        "  how_many_3 = len(np.where(y_all==3)[0])\n",
        "\n",
        "  print('#covid:',how_many_0)\n",
        "  print('#viral:',how_many_1)\n",
        "  print('#bacteriana:',how_many_2)\n",
        "  print('#normal:',how_many_3)\n"
      ],
      "execution_count": null,
      "outputs": []
    },
    {
      "cell_type": "code",
      "metadata": {
        "id": "vkdRLtYXTFTp",
        "colab_type": "code",
        "colab": {
          "base_uri": "https://localhost:8080/",
          "height": 87
        },
        "outputId": "d6cb8a06-f07c-492d-84c9-f270b8caf8f0"
      },
      "source": [
        "count_labels(y_train)"
      ],
      "execution_count": null,
      "outputs": [
        {
          "output_type": "stream",
          "text": [
            "#covid: 469\n",
            "#viral: 1039\n",
            "#bacteriana: 466\n",
            "#normal: 1372\n"
          ],
          "name": "stdout"
        }
      ]
    },
    {
      "cell_type": "code",
      "metadata": {
        "id": "5K1c6oJ3TFXF",
        "colab_type": "code",
        "colab": {
          "base_uri": "https://localhost:8080/",
          "height": 87
        },
        "outputId": "c2718228-521e-4ecb-fe5b-37859ff1b085"
      },
      "source": [
        "count_labels(y_test)"
      ],
      "execution_count": null,
      "outputs": [
        {
          "output_type": "stream",
          "text": [
            "#covid: 276\n",
            "#viral: 629\n",
            "#bacteriana: 301\n",
            "#normal: 843\n"
          ],
          "name": "stdout"
        }
      ]
    },
    {
      "cell_type": "code",
      "metadata": {
        "id": "W5xLQAAfTFaZ",
        "colab_type": "code",
        "colab": {
          "base_uri": "https://localhost:8080/",
          "height": 87
        },
        "outputId": "2e1c0793-0232-479c-dd28-fd399a5a55c5"
      },
      "source": [
        "count_labels(y_val)"
      ],
      "execution_count": null,
      "outputs": [
        {
          "output_type": "stream",
          "text": [
            "#covid: 207\n",
            "#viral: 416\n",
            "#bacteriana: 207\n",
            "#normal: 604\n"
          ],
          "name": "stdout"
        }
      ]
    },
    {
      "cell_type": "markdown",
      "metadata": {
        "id": "MLwNsnzKBIe8",
        "colab_type": "text"
      },
      "source": [
        "\n",
        "**cross-validation** will not be performed because the training data has a relevant dimension.\n"
      ]
    },
    {
      "cell_type": "markdown",
      "metadata": {
        "id": "mn3U_cPRPGtn",
        "colab_type": "text"
      },
      "source": [
       "### 2.4 Label categorization\n",
        "\n",
        "In this project, **loss sparse_categorical_crossentropy** will be used as an alternative to loss categorical_crossentropy. This alternative eliminates the categorization of labels (one-hot-encoding), still benefiting from the advantages of loss categorical_crossentropy."
      ]
    }
  ]
}
