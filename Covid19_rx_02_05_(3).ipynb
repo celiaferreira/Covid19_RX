{
  "nbformat": 4,
  "nbformat_minor": 0,
  "metadata": {
    "accelerator": "GPU",
    "colab": {
      "name": "Covid19_rx_02_05 (3).ipynb",
      "provenance": [],
      "collapsed_sections": [
        "SCMSVwSBMVPe"
      ],
      "toc_visible": true,
      "machine_shape": "hm",
      "include_colab_link": true
    },
    "kernelspec": {
      "display_name": "Python 3",
      "language": "python",
      "name": "python3"
    },
    "language_info": {
      "codemirror_mode": {
        "name": "ipython",
        "version": 3
      },
      "file_extension": ".py",
      "mimetype": "text/x-python",
      "name": "python",
      "nbconvert_exporter": "python",
      "pygments_lexer": "ipython3",
      "version": "3.7.4"
    }
  },
  "cells": [
    {
      "cell_type": "markdown",
      "metadata": {
        "id": "view-in-github",
        "colab_type": "text"
      },
      "source": [
        "<a href=\"https://colab.research.google.com/github/celiaferreira/Covid19_RX/blob/master/Covid19_rx_02_05_(3).ipynb\" target=\"_parent\"><img src=\"https://colab.research.google.com/assets/colab-badge.svg\" alt=\"Open In Colab\"/></a>"
      ]
    },
    {
      "cell_type": "markdown",
      "metadata": {
        "colab_type": "text",
        "id": "pw0XQUVjTcqa"
      },
      "source": [
        "# Identificação de COVID-19 em imagens pulmonares\n",
        "\n",
        "#### Aprendizagem Automática II\n",
        "* Célia Manuela Fernandes Ferreira\n",
        "* Mohammad Reza Tabrizi\n",
        "\n",
        "\n",
        "\n",
        "\n",
        "### 1. Motivação\n",
        "* Os testes COVID-19 são difíceis de obter: não são suficientes para testar toda população, o que dificulta o diagnóstico atempado e a mitigação do contágio. Este cenário pode ainda potenciar a ocorrência de situações oportunistas, com a criação de testes falsos.\n",
        "\n",
        "* Estas limitações podem ser mitigadas com o recurso a outras formas de diagnóstico. Como o COVID-19 ataca as células epiteliais que revestem o trato respiratório, os raios-X podem ser usados para analisar a saúde pulmonares de um paciente e identificar o COVID-19 sem os kits de teste usuais.\n",
        "\n",
        "* Porém, a análise de raios-X consome preciosos recursos humanos e tempo, pelo que o desenvolvimento de um sistema de análise automática de raios-X se constitui uma mais-valia. É este o objetivo deste projeto. \n",
        "\n",
        "* Como existem ainda poucas imagens de raios-X COVID-19, realizar-se-á **data augmentation** nesta classe de patologia.\n",
        "\n",
        "\n",
        "### 2. Objetivos\n",
        "* Identificar automaticamente pneumonia em raios-X\n",
        "* Devido à escassez atual de dados sobre eventos Covid, usar modelos generativos\n",
        "* Comparar a performance de algoritmos tradicionais de machine learning e deep learning\n",
        "* Interpretar resultados\n"
      ]
    },
    {
      "cell_type": "markdown",
      "metadata": {
        "colab_type": "text",
        "id": "IFFFyhy6Tcqd"
      },
      "source": [
        "### 3. Import packages"
      ]
    },
    {
      "cell_type": "code",
      "metadata": {
        "colab_type": "code",
        "id": "VBIZFshpTcqf",
        "outputId": "212b429d-356b-4570-e406-ae61f1b4a84d",
        "colab": {
          "base_uri": "https://localhost:8080/",
          "height": 183
        }
      },
      "source": [
        "from sklearn.utils.multiclass import unique_labels\n",
        "from sklearn.ensemble import RandomForestClassifier,AdaBoostClassifier\n",
        "from sklearn.metrics import confusion_matrix,classification_report\n",
        "from sklearn.model_selection import cross_val_score\n",
        "from sklearn.externals import joblib\n",
        "from sklearn.model_selection import train_test_split\n",
        "import tensorflow as tf\n",
        "import matplotlib.pyplot as plt\n",
        "import pandas as pd\n",
        "import numpy as np\n",
        "from numpy import expand_dims\n",
        "import os\n",
        "from tqdm import tqdm #barra de progreso`\n",
        "import cv2\n",
        "from PIL import Image\n",
        "from glob import glob\n",
        "import keras\n",
        "from keras.preprocessing import image\n",
        "from keras.preprocessing.image import ImageDataGenerator,img_to_array\n",
        "#para redimencionar\n",
        "import sklearn\n",
        "import skimage\n",
        "from skimage.transform import resize\n",
        "import random\n",
        "from sklearn.metrics import confusion_matrix\n",
        "import datetime\n",
        "import seaborn as sns\n",
        "from imblearn.over_sampling import RandomOverSampler\n",
        "from imblearn.under_sampling import RandomUnderSampler\n",
        "from skimage.color import rgb2gray\n",
        "from keras.utils import plot_model\n",
        "from keras.models import Model,Sequential\n",
        "from keras.callbacks import EarlyStopping, ModelCheckpoint,ReduceLROnPlateau\n",
        "from keras.layers import Dense, Conv2D, MaxPooling2D,MaxPool2D, Flatten, Embedding, Dropout,BatchNormalization\n",
        "from keras.layers import MaxPooling2D,AveragePooling2D,concatenate,Input\n",
        "from keras.utils import to_categorical\n",
        "import pydot\n",
        "from IPython.display import SVG\n",
        "from keras.utils.vis_utils import model_to_dot\n",
        "from keras.utils import plot_model\n",
        "from keras import datasets, layers, models, optimizers\n",
        "from keras.applications.imagenet_utils import preprocess_input"
      ],
      "execution_count": 0,
      "outputs": [
        {
          "output_type": "stream",
          "text": [
            "/usr/local/lib/python3.6/dist-packages/sklearn/externals/joblib/__init__.py:15: FutureWarning: sklearn.externals.joblib is deprecated in 0.21 and will be removed in 0.23. Please import this functionality directly from joblib, which can be installed with: pip install joblib. If this warning is raised when loading pickled models, you may need to re-serialize those models with scikit-learn 0.21+.\n",
            "  warnings.warn(msg, category=FutureWarning)\n",
            "Using TensorFlow backend.\n",
            "/usr/local/lib/python3.6/dist-packages/statsmodels/tools/_testing.py:19: FutureWarning: pandas.util.testing is deprecated. Use the functions in the public API at pandas.testing instead.\n",
            "  import pandas.util.testing as tm\n",
            "/usr/local/lib/python3.6/dist-packages/sklearn/externals/six.py:31: FutureWarning: The module is deprecated in version 0.21 and will be removed in version 0.23 since we've dropped support for Python 2.7. Please rely on the official version of six (https://pypi.org/project/six/).\n",
            "  \"(https://pypi.org/project/six/).\", FutureWarning)\n",
            "/usr/local/lib/python3.6/dist-packages/sklearn/utils/deprecation.py:144: FutureWarning: The sklearn.neighbors.base module is  deprecated in version 0.22 and will be removed in version 0.24. The corresponding classes / functions should instead be imported from sklearn.neighbors. Anything that cannot be imported from sklearn.neighbors is now part of the private API.\n",
            "  warnings.warn(message, FutureWarning)\n"
          ],
          "name": "stderr"
        }
      ]
    },
    {
      "cell_type": "markdown",
      "metadata": {
        "colab_type": "text",
        "id": "_X3Vc55rTcqt"
      },
      "source": [
        "### 4. Importar dados de várias fontes\n",
        "Uma <u>aprendizagem eficiente</u> permitirá distinguir os casos de **penumonia COVID-19** dos **restantes tipos de pneumonia** e das **situações normais**. \n",
        "\n",
        "Encontram-se na internet repositórios com as seguintes situações, que propomos distinguir no âmbito deste projeto:\n",
        "\n",
        "* Covid-19\n",
        "* Pneumonia viral\n",
        "* Pneumonia bacteriana\n",
        "* Situações sem patologia (normais)\n",
        "\n",
        "Neste projeto foram recolhidos dados das seguintes fontes:\n",
        "\n",
        "* https://www.kaggle.com/darshan1504/covid19-detection-xray-dataset\n",
        "* https://www.kaggle.com/tawsifurrahman/covid19-radiography-database \n",
        "* https://github.com/ieee8023/covid-chestxray-dataset\n",
        "* https://www.kaggle.com/theroyakash/covid19\n"
      ]
    },
    {
      "cell_type": "code",
      "metadata": {
        "colab_type": "code",
        "id": "VpqghKZspzbE",
        "outputId": "c23c9ff4-0dbd-4ce5-a67c-28e5dc851cdc",
        "colab": {
          "base_uri": "https://localhost:8080/",
          "height": 265
        }
      },
      "source": [
        "!pip install pydrive\n",
        "from pydrive.auth import GoogleAuth\n",
        "from pydrive.drive import GoogleDrive\n",
        "from google.colab import auth\n",
        "from oauth2client.client import GoogleCredentials\n",
        "auth.authenticate_user()\n",
        "gauth = GoogleAuth()\n",
        "gauth.credentials = GoogleCredentials.get_application_default()\n",
        "drive = GoogleDrive(gauth)"
      ],
      "execution_count": 0,
      "outputs": [
        {
          "output_type": "stream",
          "text": [
            "Requirement already satisfied: pydrive in /usr/local/lib/python3.6/dist-packages (1.3.1)\n",
            "Requirement already satisfied: PyYAML>=3.0 in /usr/local/lib/python3.6/dist-packages (from pydrive) (3.13)\n",
            "Requirement already satisfied: oauth2client>=4.0.0 in /usr/local/lib/python3.6/dist-packages (from pydrive) (4.1.3)\n",
            "Requirement already satisfied: google-api-python-client>=1.2 in /usr/local/lib/python3.6/dist-packages (from pydrive) (1.7.12)\n",
            "Requirement already satisfied: pyasn1-modules>=0.0.5 in /usr/local/lib/python3.6/dist-packages (from oauth2client>=4.0.0->pydrive) (0.2.8)\n",
            "Requirement already satisfied: rsa>=3.1.4 in /usr/local/lib/python3.6/dist-packages (from oauth2client>=4.0.0->pydrive) (4.0)\n",
            "Requirement already satisfied: httplib2>=0.9.1 in /usr/local/lib/python3.6/dist-packages (from oauth2client>=4.0.0->pydrive) (0.17.3)\n",
            "Requirement already satisfied: pyasn1>=0.1.7 in /usr/local/lib/python3.6/dist-packages (from oauth2client>=4.0.0->pydrive) (0.4.8)\n",
            "Requirement already satisfied: six>=1.6.1 in /usr/local/lib/python3.6/dist-packages (from oauth2client>=4.0.0->pydrive) (1.12.0)\n",
            "Requirement already satisfied: uritemplate<4dev,>=3.0.0 in /usr/local/lib/python3.6/dist-packages (from google-api-python-client>=1.2->pydrive) (3.0.1)\n",
            "Requirement already satisfied: google-auth>=1.4.1 in /usr/local/lib/python3.6/dist-packages (from google-api-python-client>=1.2->pydrive) (1.7.2)\n",
            "Requirement already satisfied: google-auth-httplib2>=0.0.3 in /usr/local/lib/python3.6/dist-packages (from google-api-python-client>=1.2->pydrive) (0.0.3)\n",
            "Requirement already satisfied: setuptools>=40.3.0 in /usr/local/lib/python3.6/dist-packages (from google-auth>=1.4.1->google-api-python-client>=1.2->pydrive) (46.1.3)\n",
            "Requirement already satisfied: cachetools<3.2,>=2.0.0 in /usr/local/lib/python3.6/dist-packages (from google-auth>=1.4.1->google-api-python-client>=1.2->pydrive) (3.1.1)\n"
          ],
          "name": "stdout"
        }
      ]
    },
    {
      "cell_type": "code",
      "metadata": {
        "colab_type": "code",
        "id": "oqbTqA4mpz85",
        "colab": {}
      },
      "source": [
        "x_BD_2 = drive.CreateFile({'id':\"1Ya8zLzMdKSSoZPFqcYRzepN814pxRRyB\"})   # id of file to accesshttps://drive.google.com/open?id=1Ya8zLzMdKSSoZPFqcYRzepN814pxRRyB\n",
        "x_BD_2.GetContentFile('x_BD_2.npy')        # file name \n",
        "y_BD_2 = drive.CreateFile({'id':\"1Z-gB_Ksv3phMjvT4lbwK_EX2TeEeYhPC\"})  #https://drive.google.com/open?id=1Z-gB_Ksv3phMjvT4lbwK_EX2TeEeYhPC\n",
        "y_BD_2.GetContentFile('y_BD_2.npy')"
      ],
      "execution_count": 0,
      "outputs": []
    },
    {
      "cell_type": "markdown",
      "metadata": {
        "colab_type": "text",
        "id": "dIlocuVI-PW2"
      },
      "source": [
        "Importação direta dados das fontes online:"
      ]
    },
    {
      "cell_type": "code",
      "metadata": {
        "colab_type": "code",
        "id": "EYOe3Dedpggs",
        "colab": {}
      },
      "source": [
        "X_all = np.load('x_BD_2.npy')\n",
        "y_all = np.load('y_BD_2.npy') "
      ],
      "execution_count": 0,
      "outputs": []
    },
    {
      "cell_type": "code",
      "metadata": {
        "colab_type": "code",
        "id": "GA-PXx4IWnPp",
        "colab": {}
      },
      "source": [
        "def count_labels(y_all):\n",
        "    how_many_0 = len(np.where(y_all==0)[0])\n",
        "    how_many_1 = len(np.where(y_all==1)[0])\n",
        "    how_many_2 = len(np.where(y_all==2)[0])\n",
        "    how_many_3 = len(np.where(y_all==3)[0])\n",
        "\n",
        "    print('#covid:',how_many_0)\n",
        "    print('#viral:',how_many_1)\n",
        "    print('#bacteria:',how_many_2)\n",
        "    print('#normal:',how_many_3)\n",
        "    return how_many_0,how_many_1,how_many_2,how_many_3"
      ],
      "execution_count": 0,
      "outputs": []
    },
    {
      "cell_type": "markdown",
      "metadata": {
        "colab_type": "text",
        "id": "Tj1Sgx2RreU7"
      },
      "source": [
        "Nesta fase, foram importadas 6622 imagens: 747 COVID-19, 2082 peumonia viral, 974 penumonia bacteriana e 2819 situações normais."
      ]
    },
    {
      "cell_type": "code",
      "metadata": {
        "colab_type": "code",
        "id": "7ayCK9UvTcrG",
        "outputId": "274cce4f-5db4-4b8a-ac22-93050f65d6c7",
        "colab": {
          "base_uri": "https://localhost:8080/",
          "height": 50
        }
      },
      "source": [
        "print('X_all:',X_all.shape)\n",
        "print('y_all:',y_all.shape)"
      ],
      "execution_count": 0,
      "outputs": [
        {
          "output_type": "stream",
          "text": [
            "X_all: (354520000,)\n",
            "y_all: (8863,)\n"
          ],
          "name": "stdout"
        }
      ]
    },
    {
      "cell_type": "code",
      "metadata": {
        "colab_type": "code",
        "id": "ov2IZeS9Wz_i",
        "outputId": "929058d5-7d61-431a-b3c4-72ed5cd8e544",
        "colab": {
          "base_uri": "https://localhost:8080/",
          "height": 82
        }
      },
      "source": [
        "how_many_0,how_many_1,how_many_2,how_many_3=count_labels(y_all)\n"
      ],
      "execution_count": 0,
      "outputs": [
        {
          "output_type": "stream",
          "text": [
            "#covid: 2988\n",
            "#viral: 2082\n",
            "#bacteria: 974\n",
            "#normal: 2819\n"
          ],
          "name": "stdout"
        }
      ]
    },
    {
      "cell_type": "markdown",
      "metadata": {
        "colab_type": "text",
        "id": "3WsAbBbUpghF"
      },
      "source": [
        "### 5. Visualização de Labeles"
      ]
    },
    {
      "cell_type": "code",
      "metadata": {
        "colab_type": "code",
        "id": "mAFN11O6pghG",
        "outputId": "e34e3440-d10a-40a7-af95-1318c0a81af1",
        "colab": {
          "base_uri": "https://localhost:8080/",
          "height": 376
        }
      },
      "source": [
        "plt.figure(figsize=(8,4))\n",
        "map_characters = {0: 'COVID-19', 1: 'Viral Pneumonia', 2: 'NORMAL'}\n",
        "dict_characters=map_characters\n",
        "df = pd.DataFrame()\n",
        "df[\"labels\"]=y_all\n",
        "lab = df['labels']\n",
        "dist = lab.value_counts()\n",
        "sns.countplot(lab).set_title(count_labels(y_all))"
      ],
      "execution_count": 0,
      "outputs": [
        {
          "output_type": "stream",
          "text": [
            "#covid: 2988\n",
            "#viral: 2082\n",
            "#bacteria: 974\n",
            "#normal: 2819\n"
          ],
          "name": "stdout"
        },
        {
          "output_type": "execute_result",
          "data": {
            "text/plain": [
              "Text(0.5, 1.0, '(2988, 2082, 974, 2819)')"
            ]
          },
          "metadata": {
            "tags": []
          },
          "execution_count": 8
        },
        {
          "output_type": "display_data",
          "data": {
            "image/png": "[encoded data removed]",
            "text/plain": [
              "<Figure size 576x288 with 1 Axes>"
            ]
          },
          "metadata": {
            "tags": [],
            "needs_background": "light"
          }
        }
      ]
    },
    {
      "cell_type": "markdown",
      "metadata": {
        "colab_type": "text",
        "id": "krF7O_JJkMGz"
      },
      "source": [
        "As imagens já surgem standardizadas:"
      ]
    },
    {
      "cell_type": "code",
      "metadata": {
        "colab_type": "code",
        "id": "Dgwi2to7jRyg",
        "outputId": "a46fb0c1-ed98-44c7-d894-05febf2f0c75",
        "colab": {
          "base_uri": "https://localhost:8080/",
          "height": 50
        }
      },
      "source": [
        "# confirm pixel range is 0-255\n",
        "pixels = np.asarray(X_all)\n",
        "print('Data Type: %s' % pixels.dtype)\n",
        "print('Min: %.3f, Max: %.3f' % (pixels.min(), pixels.max()))\n",
        "# convert from integers to floats\n",
        "pixels = pixels.astype('float32')\n",
        "# a gray-scale image would only have one channel, i.e., \n",
        "# it would be a single matrix with pixel values ranging from 0 to 255, with 0 indicating black and 255 indicating white "
      ],
      "execution_count": 0,
      "outputs": [
        {
          "output_type": "stream",
          "text": [
            "Data Type: float64\n",
            "Min: 0.000, Max: 1.000\n"
          ],
          "name": "stdout"
        }
      ]
    },
    {
      "cell_type": "markdown",
      "metadata": {
        "colab_type": "text",
        "id": "uWqb7TvLvFUi"
      },
      "source": [
        "Antecipa-se que possa ser vantajoso:\n",
        "* aumentar os registos de COVID-19 (quadruplicar)\n",
        "* agregar as classes de pneumonia viral e bacteriana, numa classe 'outras pneumonias', dado a pneumonia bacteriana estar pouco representada e não ser âmbito do projeto separar pnumonia viral de bacteriana.\n",
        "\n",
        "Antes de prosseguir com a análise, analisam-se os clientes COVID-19."
      ]
    },
    {
      "cell_type": "markdown",
      "metadata": {
        "colab_type": "text",
        "id": "Nqp0NmPJTcry"
      },
      "source": [
        "### 6. Análise de pacientes COVID-19\n",
        "Esta secção incorpora caracterização de indivíduos infetados com COVID-19."
      ]
    },
    {
      "cell_type": "code",
      "metadata": {
        "colab_type": "code",
        "id": "b58AvlVoxZYm",
        "colab": {}
      },
      "source": [
        "url = 'https://raw.githubusercontent.com/ieee8023/covid-chestxray-dataset/master/metadata.csv'\n",
        "covid = pd.read_csv(url, error_bad_lines=False)"
      ],
      "execution_count": 0,
      "outputs": []
    },
    {
      "cell_type": "code",
      "metadata": {
        "colab_type": "code",
        "collapsed": true,
        "id": "l-qelFeITcr3",
        "jupyter": {
          "outputs_hidden": true
        },
        "outputId": "4dec95ec-2fb0-43ae-c858-30b880d7c5c6",
        "colab": {
          "base_uri": "https://localhost:8080/",
          "height": 552
        }
      },
      "source": [
        "covid.head()"
      ],
      "execution_count": 0,
      "outputs": [
        {
          "output_type": "execute_result",
          "data": {
            "text/html": [
              "<div>\n",
              "<style scoped>\n",
              "    .dataframe tbody tr th:only-of-type {\n",
              "        vertical-align: middle;\n",
              "    }\n",
              "\n",
              "    .dataframe tbody tr th {\n",
              "        vertical-align: top;\n",
              "    }\n",
              "\n",
              "    .dataframe thead th {\n",
              "        text-align: right;\n",
              "    }\n",
              "</style>\n",
              "<table border=\"1\" class=\"dataframe\">\n",
              "  <thead>\n",
              "    <tr style=\"text-align: right;\">\n",
              "      <th></th>\n",
              "      <th>patientid</th>\n",
              "      <th>offset</th>\n",
              "      <th>sex</th>\n",
              "      <th>age</th>\n",
              "      <th>finding</th>\n",
              "      <th>survival</th>\n",
              "      <th>intubated</th>\n",
              "      <th>intubation_present</th>\n",
              "      <th>went_icu</th>\n",
              "      <th>needed_supplemental_O2</th>\n",
              "      <th>extubated</th>\n",
              "      <th>temperature</th>\n",
              "      <th>pO2_saturation</th>\n",
              "      <th>leukocyte_count</th>\n",
              "      <th>neutrophil_count</th>\n",
              "      <th>lymphocyte_count</th>\n",
              "      <th>view</th>\n",
              "      <th>modality</th>\n",
              "      <th>date</th>\n",
              "      <th>location</th>\n",
              "      <th>folder</th>\n",
              "      <th>filename</th>\n",
              "      <th>doi</th>\n",
              "      <th>url</th>\n",
              "      <th>license</th>\n",
              "      <th>clinical_notes</th>\n",
              "      <th>other_notes</th>\n",
              "      <th>Unnamed: 27</th>\n",
              "    </tr>\n",
              "  </thead>\n",
              "  <tbody>\n",
              "    <tr>\n",
              "      <th>0</th>\n",
              "      <td>2</td>\n",
              "      <td>0.0</td>\n",
              "      <td>M</td>\n",
              "      <td>65.0</td>\n",
              "      <td>COVID-19</td>\n",
              "      <td>Y</td>\n",
              "      <td>NaN</td>\n",
              "      <td>NaN</td>\n",
              "      <td>NaN</td>\n",
              "      <td>NaN</td>\n",
              "      <td>NaN</td>\n",
              "      <td>NaN</td>\n",
              "      <td>NaN</td>\n",
              "      <td>NaN</td>\n",
              "      <td>NaN</td>\n",
              "      <td>NaN</td>\n",
              "      <td>PA</td>\n",
              "      <td>X-ray</td>\n",
              "      <td>January 22, 2020</td>\n",
              "      <td>Cho Ray Hospital, Ho Chi Minh City, Vietnam</td>\n",
              "      <td>images</td>\n",
              "      <td>auntminnie-a-2020_01_28_23_51_6665_2020_01_28_...</td>\n",
              "      <td>10.1056/nejmc2001272</td>\n",
              "      <td>https://www.nejm.org/doi/full/10.1056/NEJMc200...</td>\n",
              "      <td>NaN</td>\n",
              "      <td>infiltrate in the upper lobe of the left lung</td>\n",
              "      <td>NaN</td>\n",
              "      <td>NaN</td>\n",
              "    </tr>\n",
              "    <tr>\n",
              "      <th>1</th>\n",
              "      <td>2</td>\n",
              "      <td>3.0</td>\n",
              "      <td>M</td>\n",
              "      <td>65.0</td>\n",
              "      <td>COVID-19</td>\n",
              "      <td>Y</td>\n",
              "      <td>NaN</td>\n",
              "      <td>NaN</td>\n",
              "      <td>NaN</td>\n",
              "      <td>NaN</td>\n",
              "      <td>NaN</td>\n",
              "      <td>NaN</td>\n",
              "      <td>NaN</td>\n",
              "      <td>NaN</td>\n",
              "      <td>NaN</td>\n",
              "      <td>NaN</td>\n",
              "      <td>PA</td>\n",
              "      <td>X-ray</td>\n",
              "      <td>January 25, 2020</td>\n",
              "      <td>Cho Ray Hospital, Ho Chi Minh City, Vietnam</td>\n",
              "      <td>images</td>\n",
              "      <td>auntminnie-b-2020_01_28_23_51_6665_2020_01_28_...</td>\n",
              "      <td>10.1056/nejmc2001272</td>\n",
              "      <td>https://www.nejm.org/doi/full/10.1056/NEJMc200...</td>\n",
              "      <td>NaN</td>\n",
              "      <td>progressive infiltrate and consolidation</td>\n",
              "      <td>NaN</td>\n",
              "      <td>NaN</td>\n",
              "    </tr>\n",
              "    <tr>\n",
              "      <th>2</th>\n",
              "      <td>2</td>\n",
              "      <td>5.0</td>\n",
              "      <td>M</td>\n",
              "      <td>65.0</td>\n",
              "      <td>COVID-19</td>\n",
              "      <td>Y</td>\n",
              "      <td>NaN</td>\n",
              "      <td>NaN</td>\n",
              "      <td>NaN</td>\n",
              "      <td>NaN</td>\n",
              "      <td>NaN</td>\n",
              "      <td>NaN</td>\n",
              "      <td>NaN</td>\n",
              "      <td>NaN</td>\n",
              "      <td>NaN</td>\n",
              "      <td>NaN</td>\n",
              "      <td>PA</td>\n",
              "      <td>X-ray</td>\n",
              "      <td>January 27, 2020</td>\n",
              "      <td>Cho Ray Hospital, Ho Chi Minh City, Vietnam</td>\n",
              "      <td>images</td>\n",
              "      <td>auntminnie-c-2020_01_28_23_51_6665_2020_01_28_...</td>\n",
              "      <td>10.1056/nejmc2001272</td>\n",
              "      <td>https://www.nejm.org/doi/full/10.1056/NEJMc200...</td>\n",
              "      <td>NaN</td>\n",
              "      <td>progressive infiltrate and consolidation</td>\n",
              "      <td>NaN</td>\n",
              "      <td>NaN</td>\n",
              "    </tr>\n",
              "    <tr>\n",
              "      <th>3</th>\n",
              "      <td>2</td>\n",
              "      <td>6.0</td>\n",
              "      <td>M</td>\n",
              "      <td>65.0</td>\n",
              "      <td>COVID-19</td>\n",
              "      <td>Y</td>\n",
              "      <td>NaN</td>\n",
              "      <td>NaN</td>\n",
              "      <td>NaN</td>\n",
              "      <td>NaN</td>\n",
              "      <td>NaN</td>\n",
              "      <td>NaN</td>\n",
              "      <td>NaN</td>\n",
              "      <td>NaN</td>\n",
              "      <td>NaN</td>\n",
              "      <td>NaN</td>\n",
              "      <td>PA</td>\n",
              "      <td>X-ray</td>\n",
              "      <td>January 28, 2020</td>\n",
              "      <td>Cho Ray Hospital, Ho Chi Minh City, Vietnam</td>\n",
              "      <td>images</td>\n",
              "      <td>auntminnie-d-2020_01_28_23_51_6665_2020_01_28_...</td>\n",
              "      <td>10.1056/nejmc2001272</td>\n",
              "      <td>https://www.nejm.org/doi/full/10.1056/NEJMc200...</td>\n",
              "      <td>NaN</td>\n",
              "      <td>progressive infiltrate and consolidation</td>\n",
              "      <td>NaN</td>\n",
              "      <td>NaN</td>\n",
              "    </tr>\n",
              "    <tr>\n",
              "      <th>4</th>\n",
              "      <td>4</td>\n",
              "      <td>0.0</td>\n",
              "      <td>F</td>\n",
              "      <td>52.0</td>\n",
              "      <td>COVID-19</td>\n",
              "      <td>NaN</td>\n",
              "      <td>NaN</td>\n",
              "      <td>NaN</td>\n",
              "      <td>NaN</td>\n",
              "      <td>NaN</td>\n",
              "      <td>NaN</td>\n",
              "      <td>NaN</td>\n",
              "      <td>NaN</td>\n",
              "      <td>NaN</td>\n",
              "      <td>NaN</td>\n",
              "      <td>NaN</td>\n",
              "      <td>PA</td>\n",
              "      <td>X-ray</td>\n",
              "      <td>January 25, 2020</td>\n",
              "      <td>Changhua Christian Hospital, Changhua City, Ta...</td>\n",
              "      <td>images</td>\n",
              "      <td>nejmc2001573_f1a.jpeg</td>\n",
              "      <td>10.1056/NEJMc2001573</td>\n",
              "      <td>https://www.nejm.org/doi/full/10.1056/NEJMc200...</td>\n",
              "      <td>NaN</td>\n",
              "      <td>diffuse infiltrates in the bilateral lower lungs</td>\n",
              "      <td>NaN</td>\n",
              "      <td>NaN</td>\n",
              "    </tr>\n",
              "  </tbody>\n",
              "</table>\n",
              "</div>"
            ],
            "text/plain": [
              "   patientid  offset  ... other_notes  Unnamed: 27\n",
              "0          2     0.0  ...         NaN          NaN\n",
              "1          2     3.0  ...         NaN          NaN\n",
              "2          2     5.0  ...         NaN          NaN\n",
              "3          2     6.0  ...         NaN          NaN\n",
              "4          4     0.0  ...         NaN          NaN\n",
              "\n",
              "[5 rows x 28 columns]"
            ]
          },
          "metadata": {
            "tags": []
          },
          "execution_count": 11
        }
      ]
    },
    {
      "cell_type": "markdown",
      "metadata": {
        "colab_type": "text",
        "id": "H7-t9jk6v-xR"
      },
      "source": [
        "As variáveis disponíveis passam por:\n",
        "* idade\n",
        "* género\n",
        "* sobrevovência\n",
        "* ventilação/UCI\n",
        "* temperatura\n",
        "* saturação de oxigénio\n",
        "* contagem de leucócitos\n",
        "* contagem de neutrófilos\n",
        "* contagem de linfócitos\n",
        "\n",
        "Para as variáveis contínuas temos as seguintes distribuições:"
      ]
    },
    {
      "cell_type": "code",
      "metadata": {
        "colab_type": "code",
        "id": "Qnk8sXmMyjwC",
        "outputId": "39a8b981-27f1-4be6-aece-7410535c86fe",
        "colab": {
          "base_uri": "https://localhost:8080/",
          "height": 277
        }
      },
      "source": [
        "covid.iloc[:,2:].describe()"
      ],
      "execution_count": 0,
      "outputs": [
        {
          "output_type": "execute_result",
          "data": {
            "text/html": [
              "<div>\n",
              "<style scoped>\n",
              "    .dataframe tbody tr th:only-of-type {\n",
              "        vertical-align: middle;\n",
              "    }\n",
              "\n",
              "    .dataframe tbody tr th {\n",
              "        vertical-align: top;\n",
              "    }\n",
              "\n",
              "    .dataframe thead th {\n",
              "        text-align: right;\n",
              "    }\n",
              "</style>\n",
              "<table border=\"1\" class=\"dataframe\">\n",
              "  <thead>\n",
              "    <tr style=\"text-align: right;\">\n",
              "      <th></th>\n",
              "      <th>age</th>\n",
              "      <th>temperature</th>\n",
              "      <th>pO2_saturation</th>\n",
              "      <th>leukocyte_count</th>\n",
              "      <th>neutrophil_count</th>\n",
              "      <th>lymphocyte_count</th>\n",
              "    </tr>\n",
              "  </thead>\n",
              "  <tbody>\n",
              "    <tr>\n",
              "      <th>count</th>\n",
              "      <td>300.000000</td>\n",
              "      <td>28.000000</td>\n",
              "      <td>37.000000</td>\n",
              "      <td>9.000000</td>\n",
              "      <td>2.000000</td>\n",
              "      <td>7.000000</td>\n",
              "    </tr>\n",
              "    <tr>\n",
              "      <th>mean</th>\n",
              "      <td>55.506667</td>\n",
              "      <td>40.264286</td>\n",
              "      <td>87.548649</td>\n",
              "      <td>5.524444</td>\n",
              "      <td>3.590000</td>\n",
              "      <td>1.008571</td>\n",
              "    </tr>\n",
              "    <tr>\n",
              "      <th>std</th>\n",
              "      <td>15.821642</td>\n",
              "      <td>10.752337</td>\n",
              "      <td>11.732377</td>\n",
              "      <td>3.099456</td>\n",
              "      <td>2.771859</td>\n",
              "      <td>0.416190</td>\n",
              "    </tr>\n",
              "    <tr>\n",
              "      <th>min</th>\n",
              "      <td>12.000000</td>\n",
              "      <td>36.500000</td>\n",
              "      <td>50.000000</td>\n",
              "      <td>0.220000</td>\n",
              "      <td>1.630000</td>\n",
              "      <td>0.600000</td>\n",
              "    </tr>\n",
              "    <tr>\n",
              "      <th>25%</th>\n",
              "      <td>44.000000</td>\n",
              "      <td>37.875000</td>\n",
              "      <td>85.000000</td>\n",
              "      <td>3.150000</td>\n",
              "      <td>2.610000</td>\n",
              "      <td>0.715000</td>\n",
              "    </tr>\n",
              "    <tr>\n",
              "      <th>50%</th>\n",
              "      <td>56.000000</td>\n",
              "      <td>38.050000</td>\n",
              "      <td>92.000000</td>\n",
              "      <td>6.370000</td>\n",
              "      <td>3.590000</td>\n",
              "      <td>0.800000</td>\n",
              "    </tr>\n",
              "    <tr>\n",
              "      <th>75%</th>\n",
              "      <td>70.000000</td>\n",
              "      <td>39.000000</td>\n",
              "      <td>96.000000</td>\n",
              "      <td>6.840000</td>\n",
              "      <td>4.570000</td>\n",
              "      <td>1.250000</td>\n",
              "    </tr>\n",
              "    <tr>\n",
              "      <th>max</th>\n",
              "      <td>87.000000</td>\n",
              "      <td>95.000000</td>\n",
              "      <td>98.000000</td>\n",
              "      <td>11.200000</td>\n",
              "      <td>5.550000</td>\n",
              "      <td>1.730000</td>\n",
              "    </tr>\n",
              "  </tbody>\n",
              "</table>\n",
              "</div>"
            ],
            "text/plain": [
              "              age  temperature  ...  neutrophil_count  lymphocyte_count\n",
              "count  300.000000    28.000000  ...          2.000000          7.000000\n",
              "mean    55.506667    40.264286  ...          3.590000          1.008571\n",
              "std     15.821642    10.752337  ...          2.771859          0.416190\n",
              "min     12.000000    36.500000  ...          1.630000          0.600000\n",
              "25%     44.000000    37.875000  ...          2.610000          0.715000\n",
              "50%     56.000000    38.050000  ...          3.590000          0.800000\n",
              "75%     70.000000    39.000000  ...          4.570000          1.250000\n",
              "max     87.000000    95.000000  ...          5.550000          1.730000\n",
              "\n",
              "[8 rows x 6 columns]"
            ]
          },
          "metadata": {
            "tags": []
          },
          "execution_count": 12
        }
      ]
    },
    {
      "cell_type": "markdown",
      "metadata": {
        "colab_type": "text",
        "id": "-GsSmgeMxSNX"
      },
      "source": [
        "Constata-se que a idade é o único campo que aparece frequentemente preenchido. As restantes variáveis apresentam muitos MV. Verificam-se:\n",
        "* idades entre os 12 e os 87 anos (mediana 56 anos)\n",
        "* temperaturas entre os 36,5ºC e os 95ºC (deve tratar-se de um *typo*)\n",
        "* percentagens de saturação de O2 no sangue entre os 50% e os 98%, sendo que 50% dos indivíduos apresneta valores entre 85% e 96%.\n",
        "\n",
        "Os gráficos mostram que, para a amostra de pacientes em análise, o COVID afeta <u>mais homens</u> do que mulheres e a maior parte dos indivíduos <u>sobrevive</u>."
      ]
    },
    {
      "cell_type": "code",
      "metadata": {
        "colab_type": "code",
        "collapsed": true,
        "id": "vhzjx62GTcsF",
        "jupyter": {
          "outputs_hidden": true
        },
        "outputId": "8e1d0594-c925-419e-dd03-362b425e47d7",
        "colab": {
          "base_uri": "https://localhost:8080/",
          "height": 173
        }
      },
      "source": [
        "covid['sex'].value_counts().head(30).plot(kind='barh', figsize=(5,2))\n",
        "#covid['sex'].value_counts(normalize=True).head(30).plot(kind='barh', figsize=(5,2))"
      ],
      "execution_count": 0,
      "outputs": [
        {
          "output_type": "execute_result",
          "data": {
            "text/plain": [
              "<matplotlib.axes._subplots.AxesSubplot at 0x7f0efc5f0588>"
            ]
          },
          "metadata": {
            "tags": []
          },
          "execution_count": 13
        },
        {
          "output_type": "display_data",
          "data": {
            "image/png": "[encoded data removed]",
            "text/plain": [
              "<Figure size 360x144 with 1 Axes>"
            ]
          },
          "metadata": {
            "tags": [],
            "needs_background": "light"
          }
        }
      ]
    },
    {
      "cell_type": "code",
      "metadata": {
        "colab_type": "code",
        "collapsed": true,
        "id": "aJ_idH-9TcsK",
        "jupyter": {
          "outputs_hidden": true
        },
        "outputId": "2fc11da6-b8d0-4b23-dbb8-aa6598b9b6ac",
        "colab": {
          "base_uri": "https://localhost:8080/",
          "height": 173
        }
      },
      "source": [
        "covid['survival'].value_counts().head(30).plot(kind='barh', figsize=(5,2))"
      ],
      "execution_count": 0,
      "outputs": [
        {
          "output_type": "execute_result",
          "data": {
            "text/plain": [
              "<matplotlib.axes._subplots.AxesSubplot at 0x7f0efc55cba8>"
            ]
          },
          "metadata": {
            "tags": []
          },
          "execution_count": 14
        },
        {
          "output_type": "display_data",
          "data": {
            "image/png": "[encoded data removed]",
            "text/plain": [
              "<Figure size 360x144 with 1 Axes>"
            ]
          },
          "metadata": {
            "tags": [],
            "needs_background": "light"
          }
        }
      ]
    },
    {
      "cell_type": "markdown",
      "metadata": {
        "colab_type": "text",
        "id": "45hzDakTycFZ"
      },
      "source": [
        "O gráfico abaixo mostra que a doença afeta <u>todas as ranges de idade</u>."
      ]
    },
    {
      "cell_type": "code",
      "metadata": {
        "colab_type": "code",
        "collapsed": true,
        "id": "ZLX1rHq8TcsP",
        "jupyter": {
          "outputs_hidden": true
        },
        "outputId": "39614fdf-8d25-4be5-eea0-6b1986f27a58",
        "colab": {
          "base_uri": "https://localhost:8080/",
          "height": 281
        }
      },
      "source": [
        "plt.figure(figsize=(15,4))\n",
        "plt.plot(covid['age'].value_counts().sort_index())"
      ],
      "execution_count": 0,
      "outputs": [
        {
          "output_type": "execute_result",
          "data": {
            "text/plain": [
              "[<matplotlib.lines.Line2D at 0x7f0efc4ec6d8>]"
            ]
          },
          "metadata": {
            "tags": []
          },
          "execution_count": 15
        },
        {
          "output_type": "display_data",
          "data": {
            "image/png": "[encoded data removed]",
            "text/plain": [
              "<Figure size 1080x288 with 1 Axes>"
            ]
          },
          "metadata": {
            "tags": [],
            "needs_background": "light"
          }
        }
      ]
    },
    {
      "cell_type": "markdown",
      "metadata": {
        "colab_type": "text",
        "id": "q6yi4piuyrrW"
      },
      "source": [
        "O correlograma abaixo analisa relações entre as variáveis disponibilizadas:"
      ]
    },
    {
      "cell_type": "code",
      "metadata": {
        "colab_type": "code",
        "collapsed": true,
        "id": "yepMVMUoTcsU",
        "jupyter": {
          "outputs_hidden": true
        },
        "outputId": "98ca9f0a-b12d-444f-c6a8-34dc6696111e",
        "colab": {
          "base_uri": "https://localhost:8080/",
          "height": 367
        }
      },
      "source": [
        "corr = covid.iloc[:,2:].corr()\n",
        "sns.heatmap(corr, xticklabels=corr.columns,yticklabels=corr.columns)"
      ],
      "execution_count": 0,
      "outputs": [
        {
          "output_type": "execute_result",
          "data": {
            "text/plain": [
              "<matplotlib.axes._subplots.AxesSubplot at 0x7f0efc4bb278>"
            ]
          },
          "metadata": {
            "tags": []
          },
          "execution_count": 16
        },
        {
          "output_type": "display_data",
          "data": {
            "image/png": "[encoded data removed]",
            "text/plain": [
              "<Figure size 432x288 with 2 Axes>"
            ]
          },
          "metadata": {
            "tags": [],
            "needs_background": "light"
          }
        }
      ]
    },
    {
      "cell_type": "markdown",
      "metadata": {
        "colab_type": "text",
        "id": "tYKf01buTcsY"
      },
      "source": [
        "Correlação **negativa** entre:\n",
        "    - idade e neutrófilos\n",
        "    - temperatura e linfócitos\n",
        "    - saturação oxigénio e leucócitos\n",
        "    - neutófilos e linfócitos\n",
        "    \n",
        "Correlação positiva entre:\n",
        "    - temperatura e neutrófilos\n",
        "    - leucócitos e neutrófilos"
      ]
    },
    {
      "cell_type": "markdown",
      "metadata": {
        "colab_type": "text",
        "id": "0ZfDrxxezgx5"
      },
      "source": [
        "O gráfico abaixo mostra uma maior densidade de pacientes entre os 50-80 anos e temperatura a rondar os 38ºC.\n",
        "No entanto, as temperaturas mais elevadas (40ºC) são experienciadas por indivíduos mais jovens (30-50 anos). Recordamos, no entanto, que o registo da temperatura apresenta muitos MV."
      ]
    },
    {
      "cell_type": "code",
      "metadata": {
        "colab_type": "code",
        "collapsed": true,
        "id": "LYfKpaChTcse",
        "jupyter": {
          "outputs_hidden": true
        },
        "outputId": "1dd80ca8-4844-465a-973f-9ec606902698",
        "colab": {
          "base_uri": "https://localhost:8080/",
          "height": 457
        }
      },
      "source": [
        "sns.jointplot(x = \"age\",y = \"temperature\",data=covid[covid.temperature<=50],kind = \"kde\",color=\"lightcoral\") # contour plot"
      ],
      "execution_count": 0,
      "outputs": [
        {
          "output_type": "execute_result",
          "data": {
            "text/plain": [
              "<seaborn.axisgrid.JointGrid at 0x7f0efa1689b0>"
            ]
          },
          "metadata": {
            "tags": []
          },
          "execution_count": 17
        },
        {
          "output_type": "display_data",
          "data": {
            "image/png": "[encoded data removed]",
            "text/plain": [
              "<Figure size 432x432 with 3 Axes>"
            ]
          },
          "metadata": {
            "tags": [],
            "needs_background": "light"
          }
        }
      ]
    },
    {
      "cell_type": "markdown",
      "metadata": {
        "colab_type": "text",
        "id": "WVx_oMHP0PF5"
      },
      "source": [
        "Os boxplots abaixo relacionam a **sobrevivência** com o **género** e a idade:\n",
        "* 50% dos homens (M) que falecem têm idade inferior a 50 anos\n",
        "* mulheres (F) apresentam uma maior range de idade afetada\n",
        "* mulheres que falecem apresentam maioritariamente idade avançada (>70 anos)\n"
      ]
    },
    {
      "cell_type": "code",
      "metadata": {
        "colab_type": "code",
        "collapsed": true,
        "id": "AnQfP5JOTcsi",
        "jupyter": {
          "outputs_hidden": true
        },
        "outputId": "c229ced7-8d01-47df-d922-2ce63133393e",
        "colab": {
          "base_uri": "https://localhost:8080/",
          "height": 278
        }
      },
      "source": [
        "ax = sns.boxplot(y=\"age\", x=\"sex\",hue=\"survival\",data=covid, palette=\"Set3\",linewidth=0.5)"
      ],
      "execution_count": 0,
      "outputs": [
        {
          "output_type": "display_data",
          "data": {
            "image/png": "[encoded data removed]",
            "text/plain": [
              "<Figure size 432x288 with 1 Axes>"
            ]
          },
          "metadata": {
            "tags": [],
            "needs_background": "light"
          }
        }
      ]
    },
    {
      "cell_type": "markdown",
      "metadata": {
        "colab_type": "text",
        "id": "aUdkRsS31tqH"
      },
      "source": [
        "Outra representação que corrobora as conclusões acima\n",
        "* (cada ponto representa um indivíduo):"
      ]
    },
    {
      "cell_type": "code",
      "metadata": {
        "colab_type": "code",
        "collapsed": true,
        "id": "BIM9kww_Tcsm",
        "jupyter": {
          "outputs_hidden": true
        },
        "outputId": "b3e4e749-2050-490d-edd3-2ca594372885",
        "colab": {
          "base_uri": "https://localhost:8080/",
          "height": 295
        }
      },
      "source": [
        "\n",
        "sns.stripplot(x='sex', y='age', data=covid, jitter=True, hue='survival')"
      ],
      "execution_count": 0,
      "outputs": [
        {
          "output_type": "execute_result",
          "data": {
            "text/plain": [
              "<matplotlib.axes._subplots.AxesSubplot at 0x7f0ef65307b8>"
            ]
          },
          "metadata": {
            "tags": []
          },
          "execution_count": 19
        },
        {
          "output_type": "display_data",
          "data": {
            "image/png": "[encoded data removed]",
            "text/plain": [
              "<Figure size 432x288 with 1 Axes>"
            ]
          },
          "metadata": {
            "tags": [],
            "needs_background": "light"
          }
        }
      ]
    },
    {
      "cell_type": "markdown",
      "metadata": {
        "colab_type": "text",
        "id": "4YT4XASS2STU"
      },
      "source": [
        "### O gráfico abaixo evidencia uma necessidade de ventilação:\n",
        "* ao longo de todas as idades para os homens (M)\n",
        "* essencialmente acima dos 70 anos para as mulheres (F)"
      ]
    },
    {
      "cell_type": "code",
      "metadata": {
        "colab_type": "code",
        "collapsed": true,
        "id": "N8boDjUaTcss",
        "jupyter": {
          "outputs_hidden": true
        },
        "outputId": "01070337-fbe1-4ff4-8f48-6ef989d2c224",
        "colab": {
          "base_uri": "https://localhost:8080/",
          "height": 295
        }
      },
      "source": [
        "sns.stripplot(x='sex', y='age', data=covid, jitter=True, hue='intubated')"
      ],
      "execution_count": 0,
      "outputs": [
        {
          "output_type": "execute_result",
          "data": {
            "text/plain": [
              "<matplotlib.axes._subplots.AxesSubplot at 0x7f0ef6530208>"
            ]
          },
          "metadata": {
            "tags": []
          },
          "execution_count": 20
        },
        {
          "output_type": "display_data",
          "data": {
            "image/png": "[encoded data removed]",
            "text/plain": [
              "<Figure size 432x288 with 1 Axes>"
            ]
          },
          "metadata": {
            "tags": [],
            "needs_background": "light"
          }
        }
      ]
    },
    {
      "cell_type": "markdown",
      "metadata": {
        "colab_type": "text",
        "id": "aRtaZw-6TcrM"
      },
      "source": [
        "### 7. Data Augmentation\n",
        "De modo a aumentar os dados COVID, ainda pouco disponíveis, procedeu-se à geração de novos dados. Esta ação permitirá um dataset **balanceado**, ajudando no controlo do **overfitting**.\n",
        "\n",
        "Por cada imagem COVID-19 (label=0), a suguinte função **gerará 3 imagens adicionais**, recorrendo a ligeiras translaões e rotações da imagem inicial. Para o problema em análise, as restantes transformações (enviezamento, zoom, simetria) não foram consideradas adequadas."
      ]
    },
    {
      "cell_type": "code",
      "metadata": {
        "colab_type": "code",
        "id": "GhztIYCkB6e3",
        "outputId": "128a555c-8349-4399-e880-4d236d4605f3",
        "colab": {
          "base_uri": "https://localhost:8080/",
          "height": 33
        }
      },
      "source": [
        "X_all = X_all.reshape(len(y_all),200,200,1)\n",
        "print('X_all:',X_all.shape)"
      ],
      "execution_count": 0,
      "outputs": [
        {
          "output_type": "stream",
          "text": [
            "X_all: (8863, 200, 200, 1)\n"
          ],
          "name": "stdout"
        }
      ]
    },
    {
      "cell_type": "markdown",
      "metadata": {
        "colab_type": "text",
        "id": "uQn0Jxbs9H2k"
      },
      "source": [
        "### 8. Visualização de output\n",
        "Após geração de dados COVID-19, as imagens aumentam de 6622 para 8863: os casos COVID-19 passam de 747 para 2988.\n",
        "Nos dados finais existem 4 labels com a seguinte incidência:"
      ]
    },
    {
      "cell_type": "code",
      "metadata": {
        "colab_type": "code",
        "id": "BvZr77CTQx7_",
        "outputId": "9e1ca8c3-aa3a-421b-b63b-d7a6d4f32069",
        "colab": {
          "base_uri": "https://localhost:8080/",
          "height": 98
        }
      },
      "source": [
        "count_labels(y_all)"
      ],
      "execution_count": 0,
      "outputs": [
        {
          "output_type": "stream",
          "text": [
            "#covid: 2988\n",
            "#viral: 2082\n",
            "#bacteria: 974\n",
            "#normal: 2819\n"
          ],
          "name": "stdout"
        },
        {
          "output_type": "execute_result",
          "data": {
            "text/plain": [
              "(2988, 2082, 974, 2819)"
            ]
          },
          "metadata": {
            "tags": []
          },
          "execution_count": 22
        }
      ]
    },
    {
      "cell_type": "markdown",
      "metadata": {
        "colab_type": "text",
        "id": "U1jY3WxT9UQw"
      },
      "source": [
        "Eventualmente à exceção da classe pneumonia bacteriana, todas as labels estão <u>bem representadas</u>:"
      ]
    },
    {
      "cell_type": "code",
      "metadata": {
        "colab_type": "code",
        "id": "lDrEls4LTcs-",
        "outputId": "e65af473-9a1d-461b-f3a0-c4edd1838241",
        "colab": {
          "base_uri": "https://localhost:8080/",
          "height": 251
        }
      },
      "source": [
        "labels = '0-COVID-19', '1-Viral Pneumonia', '2-Bacterial Pneumonia', '3-Normal'\n",
        "sizes = [how_many_0, how_many_1, how_many_2, how_many_3]\n",
        "colors = ['gold', 'yellowgreen', 'lightcoral', 'lightblue']\n",
        "explode = (0.2, 0, 0, 0)  # explode 1st slice\n",
        "\n",
        "# Plot\n",
        "plt.pie(sizes, explode=explode, labels=labels, colors=colors,\n",
        "autopct='%1.1f%%', shadow=True, startangle=140)\n",
        "\n",
        "plt.axis('equal')\n",
        "plt.show()"
      ],
      "execution_count": 0,
      "outputs": [
        {
          "output_type": "display_data",
          "data": {
            "image/png": "[encoded data removed]",
            "text/plain": [
              "<Figure size 432x288 with 1 Axes>"
            ]
          },
          "metadata": {
            "tags": []
          }
        }
      ]
    },
    {
      "cell_type": "markdown",
      "metadata": {
        "colab_type": "text",
        "id": "dw_s58emTctZ"
      },
      "source": [
        "### 10. Pré-processamento de dados\n",
        "Não será efetuada **cross-validation** porque os dados têm dimensão relevante.\n",
        "Utilização da loss sparse_categorical_entropy revelou-se mais eficaz que a categorização inicial do output.\n",
        "\n",
        "<u>Partição dos dados:</u>\n",
        "\n",
        "* 30% dos dados serão usados para teste\n",
        "* dos restantes 70%, um sub-grupo de 30% será usado para validação: 21% das imagens para validação e 49% para treino"
      ]
    },
    {
      "cell_type": "code",
      "metadata": {
        "colab_type": "code",
        "id": "f9U0vhBcTctj",
        "colab": {}
      },
      "source": [
        "X_train, X_test, y_train, y_test = train_test_split(X_all, y_all, test_size = 0.3,random_state=10)"
      ],
      "execution_count": 0,
      "outputs": []
    },
    {
      "cell_type": "code",
      "metadata": {
        "colab_type": "code",
        "id": "zx5ZfHeBo1ol",
        "colab": {}
      },
      "source": [
        "X_train, X_val, y_train, y_val = train_test_split(X_train, y_train, test_size = 0.3,random_state=10)"
      ],
      "execution_count": 0,
      "outputs": []
    },
    {
      "cell_type": "code",
      "metadata": {
        "colab_type": "code",
        "id": "H6jV3e3uTcto",
        "outputId": "f46c4fae-1d73-41f8-9399-60184d5826de",
        "colab": {
          "base_uri": "https://localhost:8080/",
          "height": 33
        }
      },
      "source": [
        "print('X_train:',X_train.shape)"
      ],
      "execution_count": 0,
      "outputs": [
        {
          "output_type": "stream",
          "text": [
            "X_train: (4342, 200, 200, 1)\n"
          ],
          "name": "stdout"
        }
      ]
    },
    {
      "cell_type": "code",
      "metadata": {
        "colab_type": "code",
        "collapsed": true,
        "id": "TYOn_VZeTcts",
        "jupyter": {
          "outputs_hidden": true
        },
        "outputId": "3844678e-596b-4fb5-b460-ed855f642233",
        "colab": {
          "base_uri": "https://localhost:8080/",
          "height": 33
        }
      },
      "source": [
        "print('X_test:',X_test.shape)"
      ],
      "execution_count": 0,
      "outputs": [
        {
          "output_type": "stream",
          "text": [
            "X_test: (2659, 200, 200, 1)\n"
          ],
          "name": "stdout"
        }
      ]
    },
    {
      "cell_type": "code",
      "metadata": {
        "colab_type": "code",
        "id": "RNbnpKbVpgpq",
        "outputId": "1db3d21f-8064-428c-a0fa-3a0a60a84cd8",
        "colab": {
          "base_uri": "https://localhost:8080/",
          "height": 33
        }
      },
      "source": [
        "print('X_val:',X_val.shape)"
      ],
      "execution_count": 0,
      "outputs": [
        {
          "output_type": "stream",
          "text": [
            "X_val: (1862, 200, 200, 1)\n"
          ],
          "name": "stdout"
        }
      ]
    },
    {
      "cell_type": "code",
      "metadata": {
        "colab_type": "code",
        "id": "_A7ksfXEpgke",
        "colab": {}
      },
      "source": [
        "### Neste fase, Converter output a variable Categorica"
      ],
      "execution_count": 0,
      "outputs": []
    },
    {
      "cell_type": "code",
      "metadata": {
        "colab_type": "code",
        "id": "XkXLVHFWTcuH",
        "colab": {}
      },
      "source": [
        "#Converter outputs em variáveis categóricas\n",
        "#altenativa ao sparse_categorical_entropy\n",
        "y_trainCat = to_categorical(y_train)\n",
        "y_testCat = to_categorical(y_test)\n",
        "y_valCat = to_categorical(y_val)\n",
        "\n",
        "# Callbacks definition\n",
        "early = EarlyStopping(monitor='accuracy', min_delta=0,patience= 5,verbose= True, mode='auto')\n",
        "#Checkpoint=ModelCheckpoint('weights.{epoch:02d}-{val_loss:.2f}.h5', monitor='val_accuracy', verbose=1, save_best_only=True, save_weights_only=False, mode='auto', period=1)\n",
        "LROnPlateau=ReduceLROnPlateau(monitor='val_accuracy', factor=0.1, patience=5, verbose=0, mode='auto', min_delta=0.0001, cooldown=0, min_lr=0)\n",
        "callbacks = [early,LROnPlateau]"
      ],
      "execution_count": 0,
      "outputs": []
    },
    {
      "cell_type": "markdown",
      "metadata": {
        "colab_type": "text",
        "id": "OMpJP2M1Pnsz"
      },
      "source": [
        "### 10.1 Definição de funções auxiliares\n",
        "\n",
        "Começamos por apresentar métricas que enriquecerão o **report** dos modelos:"
      ]
    },
    {
      "cell_type": "code",
      "metadata": {
        "colab_type": "code",
        "id": "RAnMKxPXTcuY",
        "colab": {}
      },
      "source": [
        "def precision(label, confusion_matrix):\n",
        "    col = confusion_matrix[:, label]\n",
        "    return confusion_matrix[label, label] / col.sum()\n",
        "    \n",
        "def recall(label, confusion_matrix):\n",
        "    row = confusion_matrix[label, :]\n",
        "    return confusion_matrix[label, label] / row.sum()\n",
        "\n",
        "def precision_macro_average(confusion_matrix):\n",
        "    rows, columns = confusion_matrix.shape\n",
        "    sum_of_precisions = 0\n",
        "    for label in range(rows):\n",
        "        sum_of_precisions += precision(label, confusion_matrix)\n",
        "    return sum_of_precisions / rows\n",
        "\n",
        "def recall_macro_average(confusion_matrix):\n",
        "    rows, columns = confusion_matrix.shape\n",
        "    sum_of_recalls = 0\n",
        "    for label in range(columns):\n",
        "        sum_of_recalls += recall(label, confusion_matrix)\n",
        "    return sum_of_recalls / columns\n",
        "\n",
        "def accuracy(confusion_matrix):\n",
        "    diagonal_sum = confusion_matrix.trace()\n",
        "    sum_of_all_elements = confusion_matrix.sum()\n",
        "    return diagonal_sum / sum_of_all_elements \n"
      ],
      "execution_count": 0,
      "outputs": []
    },
    {
      "cell_type": "markdown",
      "metadata": {
        "colab_type": "text",
        "id": "eoXZE5vYP4L_"
      },
      "source": [
        "### As seguintes funções avaliam, para cada modelo, a **matriz de confusão**, **métricas de performance** e **plots da loss e accuracy**:"
      ]
    },
    {
      "cell_type": "code",
      "metadata": {
        "colab_type": "code",
        "id": "ZSH_iafpCoyi",
        "colab": {}
      },
      "source": [
        "def output_metrics(model,history,X_test, y_test):\n",
        "   model.save('model.--{epoch:02d}-{val_accuracy:.2f}.h5')\n",
        "   filename = 'model.--{epoch:02d}-{val_accuracy:.2f}.sav'\n",
        "   joblib.dump(model, filename)\n",
        "\n",
        "   cm = confusion_matrix(y_test, np.argmax(model.predict(X_test),axis=1))\n",
        "   conf_mat=pd.DataFrame(cm)\n",
        "   conf_mat.index.name='Actual'\n",
        "   conf_mat.columns.name='Predicted'\n",
        "\n",
        "   print(conf_mat)\n",
        "   print('accuracy total:', accuracy(cm))\n",
        "   print('precision covid:', precision(0,cm))\n",
        "   print('recall covid:', recall(0,cm))\n",
        "   print('precision total:', precision_macro_average(cm))\n",
        "   print('recall total:', recall_macro_average(cm))\n",
        "\n",
        "   print(\"label precision recall\")\n",
        "   for label in range(len(unique_labels(y_test))):\n",
        "    print(f\"{label:5d} {precision(label, cm):9.3f} {recall(label, cm):6.3f}\")\n",
        "\n",
        "   results=model.evaluate(X_test, y_test)\n",
        "   print(results)\n",
        "\n",
        "   plt.figure(figsize=(12,4))\n",
        "   plt.subplot(1, 2, 1)\n",
        "   plt.plot(history.history['accuracy'])\n",
        "   plt.plot(history.history['val_accuracy'])\n",
        "   plt.title('Model accuracy')\n",
        "   plt.ylabel('Accuracy')\n",
        "   plt.xlabel('Epoch')\n",
        "   plt.legend(['Train', 'Test'], loc='upper left')\n",
        "   plt.subplot(1, 2, 2)\n",
        "   plt.plot(history.history['loss'])\n",
        "   plt.plot(history.history['val_loss'])\n",
        "   plt.title('Model loss')\n",
        "   plt.ylabel('Loss')\n",
        "   plt.xlabel('Epoch')\n",
        "   plt.legend(['Train', 'Test'], loc='upper left')\n",
        "   plt.show()"
      ],
      "execution_count": 0,
      "outputs": []
    },
    {
      "cell_type": "code",
      "metadata": {
        "colab_type": "code",
        "id": "pISnbNGOCpUW",
        "colab": {}
      },
      "source": [
        "def output_metrics2(model,history,X_test, y_test):\n",
        "   model.save('model.--{epoch:02d}-{val_accuracy:.2f}.h5')\n",
        "   filename = 'model.--{epoch:02d}-{val_accuracy:.2f}.sav'\n",
        "   joblib.dump(model, filename)\n",
        "\n",
        "   cm = confusion_matrix(y_test, np.argmax(model.predict(X_test),axis=1))\n",
        "   conf_mat=pd.DataFrame(cm)\n",
        "   conf_mat.index.name='Actual'\n",
        "   conf_mat.columns.name='Predicted'\n",
        "\n",
        "   print(conf_mat)\n",
        "   print('accuracy total:', accuracy(cm))\n",
        "   print('precision covid:', precision(0,cm))\n",
        "   print('recall covid:', recall(0,cm))\n",
        "   print('precision total:', precision_macro_average(cm))\n",
        "   print('recall total:', recall_macro_average(cm))\n",
        "\n",
        "   print(\"label precision recall\")\n",
        "   for label in range(len(unique_labels(y_test))):\n",
        "    print(f\"{label:5d} {precision(label, cm):9.3f} {recall(label, cm):6.3f}\")\n",
        "\n",
        "   results=model.evaluate(X_test, y_test)\n",
        "   print(results)\n",
        "\n",
        "   plt.figure(figsize=(12,4))\n",
        "   plt.subplot(1, 2, 1)\n",
        "   plt.plot(history.history['accuracy'])\n",
        "   plt.title('Model accuracy')\n",
        "   plt.ylabel('Accuracy')\n",
        "   plt.xlabel('Epoch')\n",
        "   plt.legend(['Train', 'Test'], loc='upper left')\n",
        "   plt.subplot(1, 2, 2)\n",
        "   plt.plot(history.history['loss'])\n",
        "   plt.title('Model loss')\n",
        "   plt.ylabel('Loss')\n",
        "   plt.xlabel('Epoch')\n",
        "   plt.legend(['Train', 'Test'], loc='upper left')\n",
        "   plt.show()"
      ],
      "execution_count": 0,
      "outputs": []
    },
    {
      "cell_type": "markdown",
      "metadata": {
        "colab_type": "text",
        "id": "PXM3ua2AQUgM"
      },
      "source": [
        "###  Especificado um modelo, a seguinte função apresenta detalhe sobre as suas **camadas**:"
      ]
    },
    {
      "cell_type": "code",
      "metadata": {
        "colab_type": "code",
        "id": "_GiGBqjeT9ax",
        "colab": {}
      },
      "source": [
        "#plot camadas convolucionais e fully connected\n",
        "\n",
        "def camadas(model):\n",
        "  print('Camadas convolucionais:')\n",
        "  # summarize filter shapes\n",
        "  for layer in model.layers:\n",
        "  #check for convolutional layer\n",
        "      if 'conv' not in layer.name:\n",
        "          continue   \n",
        "  # get filter weights\n",
        "      else:\n",
        "          filters, biases = layer.get_weights()\n",
        "          print(layer.name, filters.shape)\n",
        "\n",
        "\n",
        "  print('Camadas fully connected:')\n",
        "  # summarize layers shapes\n",
        "  for layer in model.layers:\n",
        "  #check for fully conection layer\n",
        "      if 'dense' not in layer.name:\n",
        "          continue \n",
        "      else:\n",
        "          filters, biases = layer.get_weights()\n",
        "          print(layer.name, filters.shape)\n",
        "\n",
        "  print('imagens saída de Capas Convolucionais:')\n",
        "  plt.figure(figsize=(20,20))\n",
        "  # retrieve weights from the second hidden layer\n",
        "  filters, biases = model.layers[0].get_weights()\n",
        "  # normalize filter values to 0-1 so we can visualize them\n",
        "  f_min, f_max = filters.min(), filters.max()\n",
        "  filters = (filters - f_min) / (f_max - f_min)\n",
        "  # plot first few filters\n",
        "  n_filters, ix = 6, 1\n",
        "  for i in range(n_filters):\n",
        "  # get the filter\n",
        "      f = filters[:, :, :, i]\n",
        "      # plot each channel separately\n",
        "      for j in range(1):\n",
        "          # specify subplot and turn of axis\n",
        "          ax = plt.subplot(n_filters, 3, ix )\n",
        "          ax.set_xticks([])\n",
        "          ax.set_yticks([])\n",
        "          # plot filter channel in grayscale\n",
        "          plt.imshow(f[:, :, j],cmap='gray')\n",
        "          ix += 1\n",
        "  # show the figure\n",
        "  plt.show()"
      ],
      "execution_count": 0,
      "outputs": []
    },
    {
      "cell_type": "markdown",
      "metadata": {
        "colab_type": "text",
        "id": "XJO8EAtnQ4Ea"
      },
      "source": [
        "### As funções seguintes apresentam 3 **configurações de redes neuronais CNN**, a testar nas secções seguintes:"
      ]
    },
    {
      "cell_type": "code",
      "metadata": {
        "colab_type": "code",
        "id": "rVNp24SNW4V2",
        "colab": {}
      },
      "source": [
        "#CNN can efficiently scan it chunk by chunk — say, a 4 × 4 window. \n",
        "#The 4 × 4 window slides along the image (usually left to right, and top to bottom), as shown below. \n",
        "#How “quickly” it slides is called its stride length. \n",
        "#For example, a stride length of 2 means the 4 × 4 sliding window moves by 2 pixels at a time until it spans the entire image.\n",
        "# A convolution is a weighted sum of the pixel values of the image, as the window slides across the whole image. \n",
        "#Turns out, this convolution process throughout an image with a weight matrix produces another image \n",
        "#(of the same size, depending on the convention).\n",
        "#The beauty of the CNN is that the number of parameters is independent of the size of the original image.\n",
        "#You can run the same CNN on a 300 × 300 image, and the number of parameters won’t change in the convolution layer.\n",
        "def build_model_CNN1(filters, kernel_size,dropout):\n",
        "  model = models.Sequential()\n",
        "  model.add(layers.Conv2D(filters, (kernel_size, kernel_size), activation='relu', input_shape=(200, 200, 1)))\n",
        "  model.add(layers.MaxPooling2D((2, 2)))\n",
        "  model.add(layers.Conv2D(filters, (kernel_size, kernel_size), activation='relu'))\n",
        "  model.add(layers.MaxPooling2D((2, 2)))\n",
        "  model.add(layers.Conv2D(filters, (kernel_size, kernel_size), activation='relu'))\n",
        "  model.add(layers.MaxPooling2D((2, 2)))\n",
        "# It generates 64 convolutions by sliding a 4 × 4 window. Therefore, this model has 4 × 4 × 64 (= 1,024) parameters,\n",
        "# which is remarkably fewer parameters than a fully connected network, 200 × 200 (= 40,000).\n",
        "##NN train best on dense vectors, where all values contribute to define an object.\n",
        "  model.add(layers.Flatten())\n",
        "  model.add(layers.Dropout(dropout))\n",
        "  model.add(layers.Dense(64, activation='relu'))\n",
        "  model.add(layers.Dense(16, activation='relu'))\n",
        "  model.add(layers.Dense(4, activation='softmax'))\n",
        "  model.compile(optimizers.Adam(lr=0.00001),loss='sparse_categorical_crossentropy',metrics=['accuracy'])\n",
        "  return model"
      ],
      "execution_count": 0,
      "outputs": []
    },
    {
      "cell_type": "code",
      "metadata": {
        "colab_type": "code",
        "id": "Q7IkcDASXSQ5",
        "colab": {}
      },
      "source": [
        "def build_model_CNN2(filters, kernel_size, dropout):\n",
        "  model = models.Sequential()\n",
        "  model.add(layers.Conv2D(filters, (kernel_size, kernel_size), activation='relu', input_shape=(200, 200, 1)))\n",
        "  model.add(layers.MaxPooling2D((2, 2)))\n",
        "  model.add(layers.Conv2D(2*filters, (kernel_size, kernel_size), activation='relu'))\n",
        "  model.add(layers.MaxPooling2D((2, 2)))\n",
        "  model.add(layers.Conv2D(4*filters, (kernel_size, kernel_size), activation='relu'))\n",
        "  model.add(layers.MaxPooling2D((2, 2)))\n",
        "\n",
        "  model.add(layers.Flatten())\n",
        "  model.add(layers.Dropout(dropout))\n",
        "  model.add(layers.Dense(64, activation='relu'))\n",
        "  model.add(layers.Dense(16, activation='relu'))\n",
        "  model.add(layers.Dense(4, activation='softmax'))\n",
        "  model.compile(optimizers.Adam(lr=0.00001),loss='sparse_categorical_crossentropy',metrics=['accuracy'])\n",
        "  return model"
      ],
      "execution_count": 0,
      "outputs": []
    },
    {
      "cell_type": "code",
      "metadata": {
        "colab_type": "code",
        "id": "R10OFgeOcLDf",
        "colab": {}
      },
      "source": [
        "def build_model_CNN3():\n",
        "  #construct CNN structure\n",
        "  model = Sequential()  \n",
        "  #1st convolution layer\n",
        "  model.add(Conv2D(64, (5, 5), activation='relu', input_shape=(200,200,1)))\n",
        "  model.add(MaxPooling2D(pool_size=(5,5), strides=(2, 2)))\n",
        "  #2nd convolution layer\n",
        "  model.add(Conv2D(64, (3, 3), activation='relu'))\n",
        "  model.add(Conv2D(64, (3, 3), activation='relu'))\n",
        "  model.add(AveragePooling2D(pool_size=(3,3), strides=(2, 2)))\n",
        "  #3rd convolution layer\n",
        "  model.add(Conv2D(128, (3, 3), activation='relu'))\n",
        "  model.add(Conv2D(128, (3, 3), activation='relu'))\n",
        "  model.add(AveragePooling2D(pool_size=(3,3), strides=(2, 2)))\n",
        "  \n",
        "  model.add(Flatten())\n",
        "  #fully connected neural networks\n",
        "  model.add(Dense(1024, activation='relu'))\n",
        "  model.add(Dropout(0.2))\n",
        "  model.add(Dense(1024, activation='relu'))\n",
        "  model.add(Dropout(0.2))\n",
        "  model.add(Dense(4, activation='softmax'))\n",
        "  model.compile(optimizers.Adam(lr=0.00001),loss='sparse_categorical_crossentropy',metrics=['accuracy'])\n",
        "  return model"
      ],
      "execution_count": 0,
      "outputs": []
    },
    {
      "cell_type": "markdown",
      "metadata": {
        "colab_type": "text",
        "id": "61jmoyQnfpwM"
      },
      "source": [
        "### 11. Machine Learning"
      ]
    },
    {
      "cell_type": "markdown",
      "metadata": {
        "colab_type": "text",
        "id": "rPZos2B4GPXS"
      },
      "source": [
        "Nesta secção são apresentados <u>modelos tradicionais</u> de **machine learning**.\n",
        "Começamos por colocar as imagens numa lista, de modo a servirem de input para os modelos."
      ]
    },
    {
      "cell_type": "code",
      "metadata": {
        "colab_type": "code",
        "id": "nmN-mZ41fugi",
        "colab": {}
      },
      "source": [
        "X_all_vec=[]\n",
        "X_allReshaped = X_all.reshape(len(X_all),200,200)\n",
        "for i in X_allReshaped:\n",
        "    img = i\n",
        "    #print(img.shape)\n",
        "    cols,colors = img.shape # gives dimensions for RGB array\n",
        "    img_size = cols*colors\n",
        "    img_1D_vector = img.reshape(img_size)\n",
        "    # you can recover the orginal image with:\n",
        "    img2 = img_1D_vector.reshape(cols,colors)\n",
        "    X_all_vec.append(img_1D_vector)"
      ],
      "execution_count": 0,
      "outputs": []
    },
    {
      "cell_type": "code",
      "metadata": {
        "colab_type": "code",
        "id": "JAVhluEeGxpU",
        "outputId": "a331be23-a7cc-488e-c8b3-939240f94961",
        "colab": {
          "base_uri": "https://localhost:8080/",
          "height": 33
        }
      },
      "source": [
        "len(X_all_vec)"
      ],
      "execution_count": 0,
      "outputs": [
        {
          "output_type": "execute_result",
          "data": {
            "text/plain": [
              "8863"
            ]
          },
          "metadata": {
            "tags": []
          },
          "execution_count": 39
        }
      ]
    },
    {
      "cell_type": "markdown",
      "metadata": {
        "colab_type": "text",
        "id": "3pXHxX_LRXdx"
      },
      "source": [
        "### Seguidamente faz-se a partição dos nocos dados em 70% treino e 30% teste:"
      ]
    },
    {
      "cell_type": "code",
      "metadata": {
        "colab_type": "code",
        "id": "6KWBKpGLfxUs",
        "colab": {}
      },
      "source": [
        "X_train_3, X_test_3, y_train_3, y_test_3 = train_test_split(X_all_vec,y_all, test_size = 0.3,random_state=10)"
      ],
      "execution_count": 0,
      "outputs": []
    },
    {
      "cell_type": "markdown",
      "metadata": {
        "colab_type": "text",
        "id": "MT4oP9U1lFMX"
      },
      "source": [
        "### 11.1 Random Forests\n",
        "* O primeiro modelo de ML a testar é uma Random Forest."
      ]
    },
    {
      "cell_type": "code",
      "metadata": {
        "colab_type": "code",
        "id": "gyCWWJ1-gL_z",
        "colab": {}
      },
      "source": [
        "Rfc = RandomForestClassifier(n_estimators = 10, criterion = \"entropy\", random_state = 42,\n",
        "                                      min_samples_split=10,min_samples_leaf=1,\n",
        "                                      max_features='sqrt',max_depth=90,bootstrap=False)\n",
        "\n",
        "Rfc=Rfc.fit(X_train_3, y_train_3)\n",
        "y_pred_3  = Rfc.predict(X_test_3)"
      ],
      "execution_count": 0,
      "outputs": []
    },
    {
      "cell_type": "code",
      "metadata": {
        "colab_type": "code",
        "id": "u_DDozkD_zDU",
        "outputId": "0ba0b31d-4640-4a62-d4f5-b8ff5a1b4542",
        "colab": {
          "base_uri": "https://localhost:8080/",
          "height": 293
        }
      },
      "source": [
        "Accuracy_total_Rfc=Rfc.score(X_test_3, y_test_3)\n",
        "print('Accuracy total:',Accuracy_total_Rfc)\n",
        "\n",
        "cm = confusion_matrix(y_test_3, y_pred_3)\n",
        "conf_mat=pd.DataFrame(cm)\n",
        "conf_mat.index.name='Actual'\n",
        "conf_mat.columns.name='Predicted'\n",
        "print(conf_mat)\n",
        "\n",
        "print('accuracy total:', accuracy(cm))\n",
        "print('precision covid:', precision(0,cm))\n",
        "print('recall covid:', recall(0,cm))\n",
        "print('precision total:', precision_macro_average(cm))\n",
        "print('recall total:', recall_macro_average(cm))\n",
        "print(\"label precision recall\")\n",
        "for label in range(len(unique_labels(y_test_3))):\n",
        " print(f\"{label:5d} {precision(label, cm):9.3f} {recall(label, cm):6.3f}\")"
      ],
      "execution_count": 0,
      "outputs": [
        {
          "output_type": "stream",
          "text": [
            "Accuracy total: 0.8901842798044377\n",
            "Predicted    0    1    2    3\n",
            "Actual                       \n",
            "0          883    5    2    3\n",
            "1            5  525   46   38\n",
            "2            1  148  133   14\n",
            "3            4   23    3  826\n",
            "accuracy total: 0.8901842798044377\n",
            "precision covid: 0.9888017917133258\n",
            "recall covid: 0.9888017917133258\n",
            "precision total: 0.8495322301596078\n",
            "recall total: 0.8145320617501352\n",
            "label precision recall\n",
            "    0     0.989  0.989\n",
            "    1     0.749  0.855\n",
            "    2     0.723  0.449\n",
            "    3     0.938  0.965\n"
          ],
          "name": "stdout"
        }
      ]
    },
    {
      "cell_type": "code",
      "metadata": {
        "colab_type": "code",
        "id": "0zvhQfi1aDvH",
        "outputId": "55f94acc-29c7-4cab-8c48-924e8e1aadf4",
        "colab": {
          "base_uri": "https://localhost:8080/",
          "height": 196
        }
      },
      "source": [
        "import torch\n",
        "model_save_name = 'Rfc.sav'\n",
        "path = F\"/content/{model_save_name}\" \n",
        "torch.save(model_save_name, path)\n",
        "#classification report\n",
        "print(classification_report(y_test_3, y_pred_3))"
      ],
      "execution_count": 0,
      "outputs": [
        {
          "output_type": "stream",
          "text": [
            "              precision    recall  f1-score   support\n",
            "\n",
            "           0       0.99      0.99      0.99       893\n",
            "           1       0.75      0.86      0.80       614\n",
            "           2       0.72      0.45      0.55       296\n",
            "           3       0.94      0.96      0.95       856\n",
            "\n",
            "    accuracy                           0.89      2659\n",
            "   macro avg       0.85      0.81      0.82      2659\n",
            "weighted avg       0.89      0.89      0.88      2659\n",
            "\n"
          ],
          "name": "stdout"
        }
      ]
    },
    {
      "cell_type": "code",
      "metadata": {
        "colab_type": "code",
        "id": "81gbxpD-udNQ",
        "colab": {}
      },
      "source": [
        "import torch\n",
        "model_save_name = 'Rfc_model.sav'\n",
        "path = F\"/content/{model_save_name}\" \n",
        "torch.save(Rfc, path)"
      ],
      "execution_count": 0,
      "outputs": []
    },
    {
      "cell_type": "markdown",
      "metadata": {
        "colab_type": "text",
        "id": "bROUOjMEIASn"
      },
      "source": [
        "### Conclui-se que o modelo aprsenta uma **precisão global de 89%**, identificando **95% dos casos COVID-19**.\n",
        "* O maior erro está associado à pneumonia bacteriana."
      ]
    },
    {
      "cell_type": "markdown",
      "metadata": {
        "colab_type": "text",
        "id": "JJpJhX4AKBxJ"
      },
      "source": [
        "#### 11.2 Random Forest: Cross Validation"
      ]
    },
    {
      "cell_type": "markdown",
      "metadata": {
        "colab_type": "text",
        "id": "YVnQZEBXGCLq"
      },
      "source": [
        "* Apresenta-se nesta secção outra versão de uma **random forest**, mas agora recorrendo a cross-validation com 5 *folds*:"
      ]
    },
    {
      "cell_type": "code",
      "metadata": {
        "colab_type": "code",
        "id": "n5vMnwnaiCT-",
        "outputId": "34a68c1c-f0d4-40b9-aa74-c018817f1d2a",
        "colab": {
          "base_uri": "https://localhost:8080/",
          "height": 50
        }
      },
      "source": [
        "# Modelo 2: Cross Validation\n",
        "Rfc2 = RandomForestClassifier(n_estimators = 10, criterion = \"entropy\", random_state = 42,\n",
        "                                      min_samples_split=10,min_samples_leaf=1,\n",
        "                                      max_features='sqrt',max_depth=90,bootstrap=False)\n",
        "scores_rf2 = cross_val_score(Rfc2,X_all_vec, y_all, cv = 5)\n",
        "scores_rf2_mean=scores_rf2.mean()\n",
        "model_save_name = 'Rfc2_model.sav'\n",
        "path = F\"/content/{model_save_name}\" \n",
        "torch.save(Rfc2, path)\n",
        "print(scores_rf2)\n",
        "print (scores_rf2_mean)"
      ],
      "execution_count": 0,
      "outputs": [
        {
          "output_type": "stream",
          "text": [
            "[0.78341794 0.89791314 0.89340102 0.90688488 0.85665914]\n",
            "0.8676552221114562\n"
          ],
          "name": "stdout"
        }
      ]
    },
    {
      "cell_type": "markdown",
      "metadata": {
        "colab_type": "text",
        "id": "fwTlyioNRuNa"
      },
      "source": [
        "Este modelo apresenta uma **precisão global de 75%**, menor que o modelo anterior, mas mais robusta por usar cross-validation."
      ]
    },
    {
      "cell_type": "markdown",
      "metadata": {
        "colab_type": "text",
        "id": "Sf1AJu7ticY9"
      },
      "source": [
        "#### 11.3 Ensamble-Adaptative Boosting\n",
        "Esta secção apresenta um modelo de Adaptative Boosting. Este apresenta uma **precisão de apenas 60%**, o que se revela fraca."
      ]
    },
    {
      "cell_type": "code",
      "metadata": {
        "colab_type": "code",
        "id": "zyhUd_3siIES",
        "outputId": "3b0eabc7-1465-4ce7-f712-bd2210f937e3",
        "colab": {
          "base_uri": "https://localhost:8080/",
          "height": 50
        }
      },
      "source": [
        "ada_tree = AdaBoostClassifier(n_estimators=10)\n",
        "scores_ada = cross_val_score(ada_tree, X_all_vec, y_all, cv = 5)\n",
        "scores_ada_mean=scores_ada.mean()\n",
        "model_save_name = 'ada_tree_model.sav'\n",
        "path = F\"/content/{model_save_name}\" \n",
        "torch.save(ada_tree, path)\n",
        "print (scores_ada)\n",
        "print (scores_ada_mean)"
      ],
      "execution_count": 0,
      "outputs": [
        {
          "output_type": "stream",
          "text": [
            "[0.52791878 0.67230682 0.68697124 0.74492099 0.71331828]\n",
            "0.6690872238327865\n"
          ],
          "name": "stdout"
        }
      ]
    },
    {
      "cell_type": "markdown",
      "metadata": {
        "colab_type": "text",
        "id": "xpCPwKIPV4mM"
      },
      "source": [
        "### 11.4 KNN\n",
        "* Apresenta-se nesta secção outra versão de classificaçao ML KNeighborsClassifier."
      ]
    },
    {
      "cell_type": "code",
      "metadata": {
        "colab_type": "code",
        "id": "9J3Wa8J9V6vL",
        "colab": {}
      },
      "source": [
        "from sklearn.neighbors import KNeighborsClassifier\n",
        "knn = KNeighborsClassifier(n_neighbors=1,p=1, weights='uniform')\n"
      ],
      "execution_count": 0,
      "outputs": []
    },
    {
      "cell_type": "code",
      "metadata": {
        "colab_type": "code",
        "id": "0Afsk7U0WMBM",
        "outputId": "fde4ffff-950f-4065-b992-99f5f508b081",
        "colab": {
          "base_uri": "https://localhost:8080/",
          "height": 66
        }
      },
      "source": [
        "knn_model=knn.fit(X_train_3, y_train_3)\n",
        "print(knn_model)\n",
        "Y_pred_test = knn_model.predict(X_test_3)"
      ],
      "execution_count": 0,
      "outputs": [
        {
          "output_type": "stream",
          "text": [
            "KNeighborsClassifier(algorithm='auto', leaf_size=30, metric='minkowski',\n",
            "                     metric_params=None, n_jobs=None, n_neighbors=1, p=1,\n",
            "                     weights='uniform')\n"
          ],
          "name": "stdout"
        }
      ]
    },
    {
      "cell_type": "code",
      "metadata": {
        "colab_type": "code",
        "id": "QVGt_dODWL6c",
        "outputId": "a03ab1c8-2e89-4644-9f0d-50b6fc0a0456",
        "colab": {
          "base_uri": "https://localhost:8080/",
          "height": 115
        }
      },
      "source": [
        "conf_mat=confusion_matrix(y_test_3,knn.predict(X_test_3))\n",
        "conf_mat=pd.DataFrame(conf_mat)\n",
        "conf_mat.index.name='Actual'\n",
        "conf_mat.columns.name='Predicted'\n",
        "print(conf_mat)"
      ],
      "execution_count": 0,
      "outputs": [
        {
          "output_type": "stream",
          "text": [
            "Predicted    0    1    2    3\n",
            "Actual                       \n",
            "0          883    5    2    3\n",
            "1            3  503   78   30\n",
            "2            0  139  142   15\n",
            "3            1   39    6  810\n"
          ],
          "name": "stdout"
        }
      ]
    },
    {
      "cell_type": "code",
      "metadata": {
        "colab_type": "code",
        "id": "m0sxNt5KW74L",
        "outputId": "030a2d22-5018-4fba-8f53-d007695e8b28",
        "colab": {
          "base_uri": "https://localhost:8080/",
          "height": 33
        }
      },
      "source": [
        "knn_model_score=knn_model.score(X_test_3, y_test_3)\n",
        "model_save_name = 'knn_model.sav'\n",
        "path = F\"/content/{model_save_name}\" \n",
        "torch.save(knn_model, path)\n",
        "\n",
        "print('Score:',knn_model_score)"
      ],
      "execution_count": 0,
      "outputs": [
        {
          "output_type": "stream",
          "text": [
            "Score: 0.8792779240315908\n"
          ],
          "name": "stdout"
        }
      ]
    },
    {
      "cell_type": "markdown",
      "metadata": {
        "colab_type": "text",
        "id": "jqad4MzPg7Zl"
      },
      "source": [
        "### 12. Modelos deep learning\n",
        "Esta secção apresenta modelos de **redes neuronais convolucionais** (CNN), historicamente adequadas para a <u>classificação de imagens</u>.\n",
        "\n",
        "### 12.1 CNN: label com 4 classes\n",
        "De seguida são apresentadas 5 versões de CNN para classificar as imagens em:\n",
        "* 0 - COVID-19\n",
        "* 1 - Pneumonia viral\n",
        "* 2 - Pneumonia bacteriana\n",
        "* 3 - Normal\n",
        "\n",
        "O primeiro modelo usa 3 camadas convolucionais de 64 filtros e tamanho do núcleo 5, intercaladas com pooling:"
      ]
    },
    {
      "cell_type": "code",
      "metadata": {
        "colab_type": "code",
        "id": "Z-cM90MVmrgF",
        "outputId": "a6b3b8e7-1694-46d9-f0d4-e9e03929a138",
        "colab": {
          "base_uri": "https://localhost:8080/",
          "height": 1000
        }
      },
      "source": [
        "model1=build_model_CNN1(64, 5, 0)\n",
        "model1.summary()\n",
        "history1=model1.fit(X_train, y_train, epochs=50,validation_data=(X_val,y_val),callbacks = callbacks)\n",
        "camadas(model1)\n",
        "output_metrics(model1,history1,X_test, y_test)\n",
        "#batch_size=512\n",
        "#84%+84%"
      ],
      "execution_count": 0,
      "outputs": [
        {
          "output_type": "stream",
          "text": [
            "Model: \"sequential_1\"\n",
            "_________________________________________________________________\n",
            "Layer (type)                 Output Shape              Param #   \n",
            "=================================================================\n",
            "conv2d_1 (Conv2D)            (None, 196, 196, 64)      1664      \n",
            "_________________________________________________________________\n",
            "max_pooling2d_1 (MaxPooling2 (None, 98, 98, 64)        0         \n",
            "_________________________________________________________________\n",
            "conv2d_2 (Conv2D)            (None, 94, 94, 64)        102464    \n",
            "_________________________________________________________________\n",
            "max_pooling2d_2 (MaxPooling2 (None, 47, 47, 64)        0         \n",
            "_________________________________________________________________\n",
            "conv2d_3 (Conv2D)            (None, 43, 43, 64)        102464    \n",
            "_________________________________________________________________\n",
            "max_pooling2d_3 (MaxPooling2 (None, 21, 21, 64)        0         \n",
            "_________________________________________________________________\n",
            "flatten_1 (Flatten)          (None, 28224)             0         \n",
            "_________________________________________________________________\n",
            "dropout_1 (Dropout)          (None, 28224)             0         \n",
            "_________________________________________________________________\n",
            "dense_1 (Dense)              (None, 64)                1806400   \n",
            "_________________________________________________________________\n",
            "dense_2 (Dense)              (None, 16)                1040      \n",
            "_________________________________________________________________\n",
            "dense_3 (Dense)              (None, 4)                 68        \n",
            "=================================================================\n",
            "Total params: 2,014,100\n",
            "Trainable params: 2,014,100\n",
            "Non-trainable params: 0\n",
            "_________________________________________________________________\n",
            "Train on 4342 samples, validate on 1862 samples\n",
            "Epoch 1/50\n",
            "4342/4342 [==============================] - 28s 6ms/step - loss: 1.1877 - accuracy: 0.4199 - val_loss: 0.9916 - val_accuracy: 0.5467\n",
            "Epoch 2/50\n",
            "4342/4342 [==============================] - 19s 4ms/step - loss: 0.9233 - accuracy: 0.5421 - val_loss: 0.8621 - val_accuracy: 0.5521\n",
            "Epoch 3/50\n",
            "4342/4342 [==============================] - 19s 4ms/step - loss: 0.8375 - accuracy: 0.5449 - val_loss: 0.8098 - val_accuracy: 0.5612\n",
            "Epoch 4/50\n",
            "4342/4342 [==============================] - 19s 4ms/step - loss: 0.7889 - accuracy: 0.5615 - val_loss: 0.7610 - val_accuracy: 0.5741\n",
            "Epoch 5/50\n",
            "4342/4342 [==============================] - 19s 4ms/step - loss: 0.7505 - accuracy: 0.6382 - val_loss: 0.7174 - val_accuracy: 0.7052\n",
            "Epoch 6/50\n",
            "4342/4342 [==============================] - 19s 4ms/step - loss: 0.7044 - accuracy: 0.7278 - val_loss: 0.6813 - val_accuracy: 0.7202\n",
            "Epoch 7/50\n",
            "4342/4342 [==============================] - 19s 4ms/step - loss: 0.6607 - accuracy: 0.7711 - val_loss: 0.6528 - val_accuracy: 0.7411\n",
            "Epoch 8/50\n",
            "4342/4342 [==============================] - 19s 4ms/step - loss: 0.6094 - accuracy: 0.7962 - val_loss: 0.5880 - val_accuracy: 0.8088\n",
            "Epoch 9/50\n",
            "4342/4342 [==============================] - 19s 4ms/step - loss: 0.5628 - accuracy: 0.8155 - val_loss: 0.5868 - val_accuracy: 0.7487\n",
            "Epoch 10/50\n",
            "4342/4342 [==============================] - 19s 4ms/step - loss: 0.5226 - accuracy: 0.8125 - val_loss: 0.5085 - val_accuracy: 0.8212\n",
            "Epoch 11/50\n",
            "4342/4342 [==============================] - 19s 4ms/step - loss: 0.4752 - accuracy: 0.8310 - val_loss: 0.4909 - val_accuracy: 0.8115\n",
            "Epoch 12/50\n",
            "4342/4342 [==============================] - 19s 4ms/step - loss: 0.4606 - accuracy: 0.8291 - val_loss: 0.4802 - val_accuracy: 0.8142\n",
            "Epoch 13/50\n",
            "4342/4342 [==============================] - 19s 4ms/step - loss: 0.4309 - accuracy: 0.8319 - val_loss: 0.4551 - val_accuracy: 0.8281\n",
            "Epoch 14/50\n",
            "4342/4342 [==============================] - 19s 4ms/step - loss: 0.4130 - accuracy: 0.8376 - val_loss: 0.4346 - val_accuracy: 0.8298\n",
            "Epoch 15/50\n",
            "4342/4342 [==============================] - 19s 4ms/step - loss: 0.4161 - accuracy: 0.8344 - val_loss: 0.4539 - val_accuracy: 0.8093\n",
            "Epoch 16/50\n",
            "4342/4342 [==============================] - 19s 4ms/step - loss: 0.3967 - accuracy: 0.8443 - val_loss: 0.4108 - val_accuracy: 0.8324\n",
            "Epoch 17/50\n",
            "4342/4342 [==============================] - 19s 4ms/step - loss: 0.3832 - accuracy: 0.8443 - val_loss: 0.4066 - val_accuracy: 0.8426\n",
            "Epoch 18/50\n",
            "4342/4342 [==============================] - 19s 4ms/step - loss: 0.3730 - accuracy: 0.8485 - val_loss: 0.4151 - val_accuracy: 0.8222\n",
            "Epoch 19/50\n",
            "4342/4342 [==============================] - 19s 4ms/step - loss: 0.3697 - accuracy: 0.8466 - val_loss: 0.4151 - val_accuracy: 0.8233\n",
            "Epoch 20/50\n",
            "4342/4342 [==============================] - 19s 4ms/step - loss: 0.3680 - accuracy: 0.8473 - val_loss: 0.4016 - val_accuracy: 0.8276\n",
            "Epoch 21/50\n",
            "4342/4342 [==============================] - 19s 4ms/step - loss: 0.3651 - accuracy: 0.8475 - val_loss: 0.3939 - val_accuracy: 0.8410\n",
            "Epoch 22/50\n",
            "4342/4342 [==============================] - 19s 4ms/step - loss: 0.3549 - accuracy: 0.8542 - val_loss: 0.3988 - val_accuracy: 0.8400\n",
            "Epoch 23/50\n",
            "4342/4342 [==============================] - 19s 4ms/step - loss: 0.3336 - accuracy: 0.8648 - val_loss: 0.3831 - val_accuracy: 0.8475\n",
            "Epoch 24/50\n",
            "4342/4342 [==============================] - 19s 4ms/step - loss: 0.3306 - accuracy: 0.8646 - val_loss: 0.3849 - val_accuracy: 0.8426\n",
            "Epoch 25/50\n",
            "4342/4342 [==============================] - 19s 4ms/step - loss: 0.3310 - accuracy: 0.8637 - val_loss: 0.3811 - val_accuracy: 0.8491\n",
            "Epoch 26/50\n",
            "4342/4342 [==============================] - 19s 4ms/step - loss: 0.3289 - accuracy: 0.8662 - val_loss: 0.3798 - val_accuracy: 0.8502\n",
            "Epoch 27/50\n",
            "4342/4342 [==============================] - 19s 4ms/step - loss: 0.3291 - accuracy: 0.8634 - val_loss: 0.3811 - val_accuracy: 0.8464\n",
            "Epoch 28/50\n",
            "4342/4342 [==============================] - 19s 4ms/step - loss: 0.3281 - accuracy: 0.8655 - val_loss: 0.3796 - val_accuracy: 0.8469\n",
            "Epoch 29/50\n",
            "4342/4342 [==============================] - 19s 4ms/step - loss: 0.3277 - accuracy: 0.8657 - val_loss: 0.3781 - val_accuracy: 0.8512\n",
            "Epoch 30/50\n",
            "4342/4342 [==============================] - 19s 4ms/step - loss: 0.3265 - accuracy: 0.8685 - val_loss: 0.3811 - val_accuracy: 0.8464\n",
            "Epoch 31/50\n",
            "4342/4342 [==============================] - 19s 4ms/step - loss: 0.3255 - accuracy: 0.8667 - val_loss: 0.3784 - val_accuracy: 0.8502\n",
            "Epoch 32/50\n",
            "4342/4342 [==============================] - 19s 4ms/step - loss: 0.3261 - accuracy: 0.8648 - val_loss: 0.3797 - val_accuracy: 0.8475\n",
            "Epoch 33/50\n",
            "4342/4342 [==============================] - 19s 4ms/step - loss: 0.3262 - accuracy: 0.8664 - val_loss: 0.3774 - val_accuracy: 0.8502\n",
            "Epoch 34/50\n",
            "4342/4342 [==============================] - 19s 4ms/step - loss: 0.3239 - accuracy: 0.8637 - val_loss: 0.3830 - val_accuracy: 0.8443\n",
            "Epoch 35/50\n",
            "4342/4342 [==============================] - 19s 4ms/step - loss: 0.3243 - accuracy: 0.8678 - val_loss: 0.3774 - val_accuracy: 0.8469\n",
            "Epoch 00035: early stopping\n",
            "Camadas convolucionais:\n",
            "conv2d_1 (5, 5, 1, 64)\n",
            "conv2d_2 (5, 5, 64, 64)\n",
            "conv2d_3 (5, 5, 64, 64)\n",
            "Camadas fully connected:\n",
            "dense_1 (28224, 64)\n",
            "dense_2 (64, 16)\n",
            "dense_3 (16, 4)\n",
            "imagens saída de Capas Convolucionais:\n"
          ],
          "name": "stdout"
        },
        {
          "output_type": "display_data",
          "data": {
            "image/png": "[encoded data removed]",
            "text/plain": [
              "<Figure size 1440x1440 with 6 Axes>"
            ]
          },
          "metadata": {
            "tags": []
          }
        },
        {
          "output_type": "stream",
          "text": [
            "Predicted    0    1    2    3\n",
            "Actual                       \n",
            "0          859    8   10   16\n",
            "1           13  477   72   52\n",
            "2            6  164  110   16\n",
            "3            4   28    4  820\n",
            "accuracy total: 0.8522000752162467\n",
            "precision covid: 0.9739229024943311\n",
            "recall covid: 0.961926091825308\n",
            "precision total: 0.7867015158546828\n",
            "recall total: 0.7670911507124889\n",
            "label precision recall\n",
            "    0     0.974  0.962\n",
            "    1     0.705  0.777\n",
            "    2     0.561  0.372\n",
            "    3     0.907  0.958\n",
            "2659/2659 [==============================] - 4s 2ms/step\n",
            "[0.36753594989658256, 0.8522000908851624]\n"
          ],
          "name": "stdout"
        },
        {
          "output_type": "display_data",
          "data": {
            "image/png": "[encoded data removed]",
            "text/plain": [
              "<Figure size 864x288 with 2 Axes>"
            ]
          },
          "metadata": {
            "tags": [],
            "needs_background": "light"
          }
        }
      ]
    },
    {
      "cell_type": "code",
      "metadata": {
        "colab_type": "code",
        "id": "03U4Pj4dpglw",
        "colab": {}
      },
      "source": [
        "model_save_name = 'model1.sav'\n",
        "path = F\"/content/{model_save_name}\" \n",
        "torch.save(model1, path)"
      ],
      "execution_count": 0,
      "outputs": []
    },
    {
      "cell_type": "markdown",
      "metadata": {
        "colab_type": "text",
        "id": "KK0x73ulXcnz"
      },
      "source": [
        "O modelo atinge uma **precisão global de 83%**, identificando 94**% dos casos COVID-19**.\n",
        "\n",
        "A matriz de confusão evidencia que o erro está essencialmente associado à capacidade do modelo distinguir pneumonia viral de bacteriana.\n",
        "\n",
        "Os gráficos convergem após 15 epochs, <u>não revelando overfitting</u> significativo. No entanto, foi testada uma versão com **50% de dropout**, reduzindo também o tamanho do núcleo de 5 para 3:"
      ]
    },
    {
      "cell_type": "code",
      "metadata": {
        "colab_type": "code",
        "id": "iYb8Izb4v7Lq",
        "outputId": "c62260f7-f0f5-490e-f3b9-0810656dcd5e",
        "colab": {
          "base_uri": "https://localhost:8080/",
          "height": 1000
        }
      },
      "source": [
        "model2=build_model_CNN1(64, 3, 0.5)\n",
        "history2=model2.fit(X_train, y_train, epochs=50,validation_data=(X_val,y_val))\n",
        "model2.summary()\n",
        "camadas(model2)\n",
        "output_metrics(model2,history2,X_test, y_test)\n",
        "\n",
        "#87%+84%"
      ],
      "execution_count": 0,
      "outputs": [
        {
          "output_type": "stream",
          "text": [
            "Train on 4342 samples, validate on 1862 samples\n",
            "Epoch 1/50\n",
            "4342/4342 [==============================] - 19s 4ms/step - loss: 1.2550 - accuracy: 0.3510 - val_loss: 1.1028 - val_accuracy: 0.5252\n",
            "Epoch 2/50\n",
            "4342/4342 [==============================] - 18s 4ms/step - loss: 0.9724 - accuracy: 0.6391 - val_loss: 0.8400 - val_accuracy: 0.7299\n",
            "Epoch 3/50\n",
            "4342/4342 [==============================] - 18s 4ms/step - loss: 0.7923 - accuracy: 0.7259 - val_loss: 0.7272 - val_accuracy: 0.7562\n",
            "Epoch 4/50\n",
            "4342/4342 [==============================] - 18s 4ms/step - loss: 0.6967 - accuracy: 0.7596 - val_loss: 0.6428 - val_accuracy: 0.7701\n",
            "Epoch 5/50\n",
            "4342/4342 [==============================] - 18s 4ms/step - loss: 0.6155 - accuracy: 0.7817 - val_loss: 0.5784 - val_accuracy: 0.7889\n",
            "Epoch 6/50\n",
            "4342/4342 [==============================] - 18s 4ms/step - loss: 0.5663 - accuracy: 0.7934 - val_loss: 0.5358 - val_accuracy: 0.7927\n",
            "Epoch 7/50\n",
            "4342/4342 [==============================] - 18s 4ms/step - loss: 0.5249 - accuracy: 0.8056 - val_loss: 0.5089 - val_accuracy: 0.8083\n",
            "Epoch 8/50\n",
            "4342/4342 [==============================] - 18s 4ms/step - loss: 0.4909 - accuracy: 0.8132 - val_loss: 0.4750 - val_accuracy: 0.8195\n",
            "Epoch 9/50\n",
            "4342/4342 [==============================] - 18s 4ms/step - loss: 0.4688 - accuracy: 0.8217 - val_loss: 0.4536 - val_accuracy: 0.8201\n",
            "Epoch 10/50\n",
            "4342/4342 [==============================] - 18s 4ms/step - loss: 0.4546 - accuracy: 0.8187 - val_loss: 0.4437 - val_accuracy: 0.8228\n",
            "Epoch 11/50\n",
            "4342/4342 [==============================] - 18s 4ms/step - loss: 0.4440 - accuracy: 0.8208 - val_loss: 0.4342 - val_accuracy: 0.8260\n",
            "Epoch 12/50\n",
            "4342/4342 [==============================] - 18s 4ms/step - loss: 0.4308 - accuracy: 0.8252 - val_loss: 0.4245 - val_accuracy: 0.8255\n",
            "Epoch 13/50\n",
            "4342/4342 [==============================] - 18s 4ms/step - loss: 0.4214 - accuracy: 0.8291 - val_loss: 0.4041 - val_accuracy: 0.8340\n",
            "Epoch 14/50\n",
            "4342/4342 [==============================] - 18s 4ms/step - loss: 0.4053 - accuracy: 0.8376 - val_loss: 0.3986 - val_accuracy: 0.8324\n",
            "Epoch 15/50\n",
            "4342/4342 [==============================] - 18s 4ms/step - loss: 0.3959 - accuracy: 0.8386 - val_loss: 0.3908 - val_accuracy: 0.8367\n",
            "Epoch 16/50\n",
            "4342/4342 [==============================] - 18s 4ms/step - loss: 0.3890 - accuracy: 0.8418 - val_loss: 0.3900 - val_accuracy: 0.8319\n",
            "Epoch 17/50\n",
            "4342/4342 [==============================] - 18s 4ms/step - loss: 0.3818 - accuracy: 0.8386 - val_loss: 0.3797 - val_accuracy: 0.8383\n",
            "Epoch 18/50\n",
            "4342/4342 [==============================] - 18s 4ms/step - loss: 0.3736 - accuracy: 0.8471 - val_loss: 0.3753 - val_accuracy: 0.8421\n",
            "Epoch 19/50\n",
            "4342/4342 [==============================] - 18s 4ms/step - loss: 0.3701 - accuracy: 0.8409 - val_loss: 0.3611 - val_accuracy: 0.8469\n",
            "Epoch 20/50\n",
            "4342/4342 [==============================] - 18s 4ms/step - loss: 0.3601 - accuracy: 0.8501 - val_loss: 0.3605 - val_accuracy: 0.8491\n",
            "Epoch 21/50\n",
            "4342/4342 [==============================] - 18s 4ms/step - loss: 0.3520 - accuracy: 0.8558 - val_loss: 0.3525 - val_accuracy: 0.8523\n",
            "Epoch 22/50\n",
            "4342/4342 [==============================] - 18s 4ms/step - loss: 0.3512 - accuracy: 0.8528 - val_loss: 0.3506 - val_accuracy: 0.8507\n",
            "Epoch 23/50\n",
            "4342/4342 [==============================] - 18s 4ms/step - loss: 0.3512 - accuracy: 0.8457 - val_loss: 0.3461 - val_accuracy: 0.8539\n",
            "Epoch 24/50\n",
            "4342/4342 [==============================] - 18s 4ms/step - loss: 0.3447 - accuracy: 0.8565 - val_loss: 0.3448 - val_accuracy: 0.8539\n",
            "Epoch 25/50\n",
            "4342/4342 [==============================] - 18s 4ms/step - loss: 0.3404 - accuracy: 0.8556 - val_loss: 0.3459 - val_accuracy: 0.8555\n",
            "Epoch 26/50\n",
            "4342/4342 [==============================] - 18s 4ms/step - loss: 0.3332 - accuracy: 0.8611 - val_loss: 0.3413 - val_accuracy: 0.8545\n",
            "Epoch 27/50\n",
            "4342/4342 [==============================] - 18s 4ms/step - loss: 0.3375 - accuracy: 0.8521 - val_loss: 0.3359 - val_accuracy: 0.8598\n",
            "Epoch 28/50\n",
            "4342/4342 [==============================] - 18s 4ms/step - loss: 0.3306 - accuracy: 0.8609 - val_loss: 0.3449 - val_accuracy: 0.8604\n",
            "Epoch 29/50\n",
            "4342/4342 [==============================] - 18s 4ms/step - loss: 0.3264 - accuracy: 0.8588 - val_loss: 0.3608 - val_accuracy: 0.8469\n",
            "Epoch 30/50\n",
            "4342/4342 [==============================] - 18s 4ms/step - loss: 0.3245 - accuracy: 0.8609 - val_loss: 0.3381 - val_accuracy: 0.8507\n",
            "Epoch 31/50\n",
            "4342/4342 [==============================] - 18s 4ms/step - loss: 0.3206 - accuracy: 0.8676 - val_loss: 0.3453 - val_accuracy: 0.8512\n",
            "Epoch 32/50\n",
            "4342/4342 [==============================] - 18s 4ms/step - loss: 0.3203 - accuracy: 0.8625 - val_loss: 0.3352 - val_accuracy: 0.8582\n",
            "Epoch 33/50\n",
            "4342/4342 [==============================] - 18s 4ms/step - loss: 0.3177 - accuracy: 0.8597 - val_loss: 0.3278 - val_accuracy: 0.8636\n",
            "Epoch 34/50\n",
            "4342/4342 [==============================] - 18s 4ms/step - loss: 0.3176 - accuracy: 0.8637 - val_loss: 0.3275 - val_accuracy: 0.8588\n",
            "Epoch 35/50\n",
            "4342/4342 [==============================] - 18s 4ms/step - loss: 0.3113 - accuracy: 0.8667 - val_loss: 0.3269 - val_accuracy: 0.8641\n",
            "Epoch 36/50\n",
            "4342/4342 [==============================] - 18s 4ms/step - loss: 0.3096 - accuracy: 0.8648 - val_loss: 0.3307 - val_accuracy: 0.8614\n",
            "Epoch 37/50\n",
            "4342/4342 [==============================] - 18s 4ms/step - loss: 0.3086 - accuracy: 0.8676 - val_loss: 0.3230 - val_accuracy: 0.8636\n",
            "Epoch 38/50\n",
            "4342/4342 [==============================] - 18s 4ms/step - loss: 0.3081 - accuracy: 0.8719 - val_loss: 0.3211 - val_accuracy: 0.8588\n",
            "Epoch 39/50\n",
            "4342/4342 [==============================] - 18s 4ms/step - loss: 0.3033 - accuracy: 0.8685 - val_loss: 0.3215 - val_accuracy: 0.8663\n",
            "Epoch 40/50\n",
            "4342/4342 [==============================] - 18s 4ms/step - loss: 0.3021 - accuracy: 0.8650 - val_loss: 0.3218 - val_accuracy: 0.8566\n",
            "Epoch 41/50\n",
            "4342/4342 [==============================] - 18s 4ms/step - loss: 0.3016 - accuracy: 0.8708 - val_loss: 0.3246 - val_accuracy: 0.8668\n",
            "Epoch 42/50\n",
            "4342/4342 [==============================] - 18s 4ms/step - loss: 0.2969 - accuracy: 0.8715 - val_loss: 0.3184 - val_accuracy: 0.8647\n",
            "Epoch 43/50\n",
            "4342/4342 [==============================] - 18s 4ms/step - loss: 0.2966 - accuracy: 0.8719 - val_loss: 0.3098 - val_accuracy: 0.8598\n",
            "Epoch 44/50\n",
            "4342/4342 [==============================] - 18s 4ms/step - loss: 0.2961 - accuracy: 0.8724 - val_loss: 0.3136 - val_accuracy: 0.8657\n",
            "Epoch 45/50\n",
            "4342/4342 [==============================] - 18s 4ms/step - loss: 0.2972 - accuracy: 0.8752 - val_loss: 0.3133 - val_accuracy: 0.8679\n",
            "Epoch 46/50\n",
            "4342/4342 [==============================] - 18s 4ms/step - loss: 0.2953 - accuracy: 0.8759 - val_loss: 0.3160 - val_accuracy: 0.8679\n",
            "Epoch 47/50\n",
            "4342/4342 [==============================] - 18s 4ms/step - loss: 0.2922 - accuracy: 0.8724 - val_loss: 0.3128 - val_accuracy: 0.8625\n",
            "Epoch 48/50\n",
            "4342/4342 [==============================] - 18s 4ms/step - loss: 0.2881 - accuracy: 0.8745 - val_loss: 0.3134 - val_accuracy: 0.8668\n",
            "Epoch 49/50\n",
            "4342/4342 [==============================] - 18s 4ms/step - loss: 0.2916 - accuracy: 0.8726 - val_loss: 0.3082 - val_accuracy: 0.8695\n",
            "Epoch 50/50\n",
            "4342/4342 [==============================] - 18s 4ms/step - loss: 0.2909 - accuracy: 0.8770 - val_loss: 0.3111 - val_accuracy: 0.8647\n",
            "Model: \"sequential_2\"\n",
            "_________________________________________________________________\n",
            "Layer (type)                 Output Shape              Param #   \n",
            "=================================================================\n",
            "conv2d_4 (Conv2D)            (None, 198, 198, 64)      640       \n",
            "_________________________________________________________________\n",
            "max_pooling2d_4 (MaxPooling2 (None, 99, 99, 64)        0         \n",
            "_________________________________________________________________\n",
            "conv2d_5 (Conv2D)            (None, 97, 97, 64)        36928     \n",
            "_________________________________________________________________\n",
            "max_pooling2d_5 (MaxPooling2 (None, 48, 48, 64)        0         \n",
            "_________________________________________________________________\n",
            "conv2d_6 (Conv2D)            (None, 46, 46, 64)        36928     \n",
            "_________________________________________________________________\n",
            "max_pooling2d_6 (MaxPooling2 (None, 23, 23, 64)        0         \n",
            "_________________________________________________________________\n",
            "flatten_2 (Flatten)          (None, 33856)             0         \n",
            "_________________________________________________________________\n",
            "dropout_2 (Dropout)          (None, 33856)             0         \n",
            "_________________________________________________________________\n",
            "dense_4 (Dense)              (None, 64)                2166848   \n",
            "_________________________________________________________________\n",
            "dense_5 (Dense)              (None, 16)                1040      \n",
            "_________________________________________________________________\n",
            "dense_6 (Dense)              (None, 4)                 68        \n",
            "=================================================================\n",
            "Total params: 2,242,452\n",
            "Trainable params: 2,242,452\n",
            "Non-trainable params: 0\n",
            "_________________________________________________________________\n",
            "Camadas convolucionais:\n",
            "conv2d_4 (3, 3, 1, 64)\n",
            "conv2d_5 (3, 3, 64, 64)\n",
            "conv2d_6 (3, 3, 64, 64)\n",
            "Camadas fully connected:\n",
            "dense_4 (33856, 64)\n",
            "dense_5 (64, 16)\n",
            "dense_6 (16, 4)\n",
            "imagens saída de Capas Convolucionais:\n"
          ],
          "name": "stdout"
        },
        {
          "output_type": "display_data",
          "data": {
            "image/png": "[encoded data removed]",
            "text/plain": [
              "<Figure size 1440x1440 with 6 Axes>"
            ]
          },
          "metadata": {
            "tags": []
          }
        },
        {
          "output_type": "stream",
          "text": [
            "Predicted    0    1    2    3\n",
            "Actual                       \n",
            "0          870   11    7    5\n",
            "1            9  493   86   26\n",
            "2            3  153  133    7\n",
            "3            6   38    4  808\n",
            "accuracy total: 0.8664911620910116\n",
            "precision covid: 0.9797297297297297\n",
            "recall covid: 0.9742441209406495\n",
            "precision total: 0.8056064648993359\n",
            "recall total: 0.7926063187502597\n",
            "label precision recall\n",
            "    0     0.980  0.974\n",
            "    1     0.709  0.803\n",
            "    2     0.578  0.449\n",
            "    3     0.955  0.944\n",
            "2659/2659 [==============================] - 4s 1ms/step\n",
            "[0.32376326126582017, 0.8664911389350891]\n"
          ],
          "name": "stdout"
        },
        {
          "output_type": "display_data",
          "data": {
            "image/png": "[encoded data removed]",
            "text/plain": [
              "<Figure size 864x288 with 2 Axes>"
            ]
          },
          "metadata": {
            "tags": [],
            "needs_background": "light"
          }
        }
      ]
    },
    {
      "cell_type": "code",
      "metadata": {
        "colab_type": "code",
        "id": "CUE1azwCQLCv",
        "colab": {}
      },
      "source": [
        "model_save_name = 'model2.sav'\n",
        "path = F\"/content/{model_save_name}\" \n",
        "torch.save(model2, path)"
      ],
      "execution_count": 0,
      "outputs": []
    },
    {
      "cell_type": "markdown",
      "metadata": {
        "colab_type": "text",
        "id": "QphTWkMdTR3n"
      },
      "source": [
        "O modelo atinge uma **precisão global de 84%**, identificando **96% dos casos COVID-19**.\n",
        "A redução do núcleo revelou-se vantajosa (apesar do dropout, a performance aumentou de 83% para 84%), pelo que será usado um <u>núcleo de tamanho 3</u> nos seguinte smodelos.\n",
        "\n",
        "A matriz de confusão evidencia que o erro está essencialmente associado à capacidade do modelo distinguir pneumonia viral de bacteriana.\n",
        "\n",
        "Continua presente um <u>ligeiro overfitting</u>.\n",
        "\n",
        "---\n",
        "\n",
        "O modelo seguinte é composto por 3 camadas convolucionais, intercaladas com pooling, mas com filtros distintos: 32, 64 e 128.*italicized text*\n",
        "\n",
        "\n",
        "\n"
      ]
    },
    {
      "cell_type": "code",
      "metadata": {
        "colab_type": "code",
        "id": "7VkCHYRLZMb4",
        "outputId": "87552ea5-c945-4b38-8aef-42cbd8f4f2f6",
        "colab": {
          "base_uri": "https://localhost:8080/",
          "height": 1000
        }
      },
      "source": [
        "model3=build_model_CNN2(32,3,0)\n",
        "model3.summary()\n",
        "history3=model3.fit(X_train, y_train, epochs=50,validation_data=(X_val,y_val),callbacks = callbacks)\n",
        "camadas(model3)\n",
        "output_metrics(model3,history3,X_test, y_test)\n",
        "\n",
        "#batch_size=512\n",
        "#86%+85%"
      ],
      "execution_count": 0,
      "outputs": [
        {
          "output_type": "stream",
          "text": [
            "Model: \"sequential_3\"\n",
            "_________________________________________________________________\n",
            "Layer (type)                 Output Shape              Param #   \n",
            "=================================================================\n",
            "conv2d_7 (Conv2D)            (None, 198, 198, 32)      320       \n",
            "_________________________________________________________________\n",
            "max_pooling2d_7 (MaxPooling2 (None, 99, 99, 32)        0         \n",
            "_________________________________________________________________\n",
            "conv2d_8 (Conv2D)            (None, 97, 97, 64)        18496     \n",
            "_________________________________________________________________\n",
            "max_pooling2d_8 (MaxPooling2 (None, 48, 48, 64)        0         \n",
            "_________________________________________________________________\n",
            "conv2d_9 (Conv2D)            (None, 46, 46, 128)       73856     \n",
            "_________________________________________________________________\n",
            "max_pooling2d_9 (MaxPooling2 (None, 23, 23, 128)       0         \n",
            "_________________________________________________________________\n",
            "flatten_3 (Flatten)          (None, 67712)             0         \n",
            "_________________________________________________________________\n",
            "dropout_3 (Dropout)          (None, 67712)             0         \n",
            "_________________________________________________________________\n",
            "dense_7 (Dense)              (None, 64)                4333632   \n",
            "_________________________________________________________________\n",
            "dense_8 (Dense)              (None, 16)                1040      \n",
            "_________________________________________________________________\n",
            "dense_9 (Dense)              (None, 4)                 68        \n",
            "=================================================================\n",
            "Total params: 4,427,412\n",
            "Trainable params: 4,427,412\n",
            "Non-trainable params: 0\n",
            "_________________________________________________________________\n",
            "Train on 4342 samples, validate on 1862 samples\n",
            "Epoch 1/50\n",
            "4342/4342 [==============================] - 15s 3ms/step - loss: 1.1783 - accuracy: 0.6000 - val_loss: 0.9486 - val_accuracy: 0.6171\n",
            "Epoch 2/50\n",
            "4342/4342 [==============================] - 14s 3ms/step - loss: 0.8027 - accuracy: 0.6725 - val_loss: 0.7030 - val_accuracy: 0.6831\n",
            "Epoch 3/50\n",
            "4342/4342 [==============================] - 14s 3ms/step - loss: 0.6443 - accuracy: 0.7632 - val_loss: 0.6173 - val_accuracy: 0.7261\n",
            "Epoch 4/50\n",
            "4342/4342 [==============================] - 14s 3ms/step - loss: 0.5582 - accuracy: 0.7895 - val_loss: 0.5337 - val_accuracy: 0.8040\n",
            "Epoch 5/50\n",
            "4342/4342 [==============================] - 14s 3ms/step - loss: 0.5082 - accuracy: 0.8024 - val_loss: 0.4963 - val_accuracy: 0.8185\n",
            "Epoch 6/50\n",
            "4342/4342 [==============================] - 14s 3ms/step - loss: 0.4689 - accuracy: 0.8116 - val_loss: 0.4588 - val_accuracy: 0.8217\n",
            "Epoch 7/50\n",
            "4342/4342 [==============================] - 14s 3ms/step - loss: 0.4390 - accuracy: 0.8201 - val_loss: 0.4344 - val_accuracy: 0.8265\n",
            "Epoch 8/50\n",
            "4342/4342 [==============================] - 14s 3ms/step - loss: 0.4190 - accuracy: 0.8245 - val_loss: 0.4189 - val_accuracy: 0.8271\n",
            "Epoch 9/50\n",
            "4342/4342 [==============================] - 14s 3ms/step - loss: 0.4008 - accuracy: 0.8335 - val_loss: 0.4191 - val_accuracy: 0.8346\n",
            "Epoch 10/50\n",
            "4342/4342 [==============================] - 14s 3ms/step - loss: 0.3885 - accuracy: 0.8397 - val_loss: 0.4042 - val_accuracy: 0.8319\n",
            "Epoch 11/50\n",
            "4342/4342 [==============================] - 14s 3ms/step - loss: 0.3759 - accuracy: 0.8397 - val_loss: 0.3788 - val_accuracy: 0.8405\n",
            "Epoch 12/50\n",
            "4342/4342 [==============================] - 14s 3ms/step - loss: 0.3672 - accuracy: 0.8471 - val_loss: 0.3899 - val_accuracy: 0.8378\n",
            "Epoch 13/50\n",
            "4342/4342 [==============================] - 14s 3ms/step - loss: 0.3568 - accuracy: 0.8496 - val_loss: 0.3678 - val_accuracy: 0.8405\n",
            "Epoch 14/50\n",
            "4342/4342 [==============================] - 14s 3ms/step - loss: 0.3523 - accuracy: 0.8505 - val_loss: 0.3565 - val_accuracy: 0.8459\n",
            "Epoch 15/50\n",
            "4342/4342 [==============================] - 14s 3ms/step - loss: 0.3468 - accuracy: 0.8517 - val_loss: 0.3538 - val_accuracy: 0.8453\n",
            "Epoch 16/50\n",
            "4342/4342 [==============================] - 14s 3ms/step - loss: 0.3363 - accuracy: 0.8528 - val_loss: 0.3451 - val_accuracy: 0.8523\n",
            "Epoch 17/50\n",
            "4342/4342 [==============================] - 14s 3ms/step - loss: 0.3309 - accuracy: 0.8542 - val_loss: 0.3538 - val_accuracy: 0.8502\n",
            "Epoch 18/50\n",
            "4342/4342 [==============================] - 14s 3ms/step - loss: 0.3287 - accuracy: 0.8597 - val_loss: 0.3502 - val_accuracy: 0.8432\n",
            "Epoch 19/50\n",
            "4342/4342 [==============================] - 14s 3ms/step - loss: 0.3183 - accuracy: 0.8643 - val_loss: 0.3326 - val_accuracy: 0.8561\n",
            "Epoch 20/50\n",
            "4342/4342 [==============================] - 14s 3ms/step - loss: 0.3196 - accuracy: 0.8616 - val_loss: 0.3420 - val_accuracy: 0.8518\n",
            "Epoch 21/50\n",
            "4342/4342 [==============================] - 14s 3ms/step - loss: 0.3140 - accuracy: 0.8616 - val_loss: 0.3415 - val_accuracy: 0.8566\n",
            "Epoch 22/50\n",
            "4342/4342 [==============================] - 14s 3ms/step - loss: 0.3145 - accuracy: 0.8653 - val_loss: 0.3414 - val_accuracy: 0.8523\n",
            "Epoch 23/50\n",
            "4342/4342 [==============================] - 14s 3ms/step - loss: 0.3100 - accuracy: 0.8678 - val_loss: 0.3279 - val_accuracy: 0.8598\n",
            "Epoch 24/50\n",
            "4342/4342 [==============================] - 14s 3ms/step - loss: 0.3070 - accuracy: 0.8692 - val_loss: 0.3316 - val_accuracy: 0.8604\n",
            "Epoch 25/50\n",
            "4342/4342 [==============================] - 14s 3ms/step - loss: 0.3026 - accuracy: 0.8683 - val_loss: 0.3209 - val_accuracy: 0.8566\n",
            "Epoch 26/50\n",
            "4342/4342 [==============================] - 14s 3ms/step - loss: 0.3038 - accuracy: 0.8715 - val_loss: 0.3342 - val_accuracy: 0.8571\n",
            "Epoch 27/50\n",
            "4342/4342 [==============================] - 14s 3ms/step - loss: 0.2997 - accuracy: 0.8690 - val_loss: 0.3226 - val_accuracy: 0.8636\n",
            "Epoch 28/50\n",
            "4342/4342 [==============================] - 14s 3ms/step - loss: 0.2947 - accuracy: 0.8715 - val_loss: 0.3297 - val_accuracy: 0.8491\n",
            "Epoch 29/50\n",
            "4342/4342 [==============================] - 14s 3ms/step - loss: 0.2960 - accuracy: 0.8710 - val_loss: 0.3205 - val_accuracy: 0.8631\n",
            "Epoch 30/50\n",
            "4342/4342 [==============================] - 14s 3ms/step - loss: 0.2943 - accuracy: 0.8729 - val_loss: 0.3133 - val_accuracy: 0.8647\n",
            "Epoch 31/50\n",
            "4342/4342 [==============================] - 14s 3ms/step - loss: 0.2956 - accuracy: 0.8738 - val_loss: 0.3188 - val_accuracy: 0.8609\n",
            "Epoch 32/50\n",
            "4342/4342 [==============================] - 14s 3ms/step - loss: 0.2912 - accuracy: 0.8722 - val_loss: 0.3338 - val_accuracy: 0.8485\n",
            "Epoch 33/50\n",
            "4342/4342 [==============================] - 14s 3ms/step - loss: 0.2908 - accuracy: 0.8752 - val_loss: 0.3258 - val_accuracy: 0.8502\n",
            "Epoch 34/50\n",
            "4342/4342 [==============================] - 14s 3ms/step - loss: 0.2855 - accuracy: 0.8763 - val_loss: 0.3229 - val_accuracy: 0.8528\n",
            "Epoch 35/50\n",
            "4342/4342 [==============================] - 14s 3ms/step - loss: 0.2864 - accuracy: 0.8738 - val_loss: 0.3194 - val_accuracy: 0.8593\n",
            "Epoch 36/50\n",
            "4342/4342 [==============================] - 14s 3ms/step - loss: 0.2790 - accuracy: 0.8821 - val_loss: 0.3110 - val_accuracy: 0.8690\n",
            "Epoch 37/50\n",
            "4342/4342 [==============================] - 14s 3ms/step - loss: 0.2770 - accuracy: 0.8828 - val_loss: 0.3090 - val_accuracy: 0.8700\n",
            "Epoch 38/50\n",
            "4342/4342 [==============================] - 14s 3ms/step - loss: 0.2771 - accuracy: 0.8805 - val_loss: 0.3090 - val_accuracy: 0.8679\n",
            "Epoch 39/50\n",
            "4342/4342 [==============================] - 14s 3ms/step - loss: 0.2770 - accuracy: 0.8819 - val_loss: 0.3115 - val_accuracy: 0.8663\n",
            "Epoch 40/50\n",
            "4342/4342 [==============================] - 14s 3ms/step - loss: 0.2764 - accuracy: 0.8825 - val_loss: 0.3122 - val_accuracy: 0.8684\n",
            "Epoch 41/50\n",
            "4342/4342 [==============================] - 14s 3ms/step - loss: 0.2763 - accuracy: 0.8816 - val_loss: 0.3083 - val_accuracy: 0.8722\n",
            "Epoch 42/50\n",
            "4342/4342 [==============================] - 14s 3ms/step - loss: 0.2763 - accuracy: 0.8823 - val_loss: 0.3132 - val_accuracy: 0.8668\n",
            "Epoch 00042: early stopping\n",
            "Camadas convolucionais:\n",
            "conv2d_7 (3, 3, 1, 32)\n",
            "conv2d_8 (3, 3, 32, 64)\n",
            "conv2d_9 (3, 3, 64, 128)\n",
            "Camadas fully connected:\n",
            "dense_7 (67712, 64)\n",
            "dense_8 (64, 16)\n",
            "dense_9 (16, 4)\n",
            "imagens saída de Capas Convolucionais:\n"
          ],
          "name": "stdout"
        },
        {
          "output_type": "display_data",
          "data": {
            "image/png": "[encoded data removed]",
            "text/plain": [
              "<Figure size 1440x1440 with 6 Axes>"
            ]
          },
          "metadata": {
            "tags": []
          }
        },
        {
          "output_type": "stream",
          "text": [
            "Predicted    0    1    2    3\n",
            "Actual                       \n",
            "0          871   12    2    8\n",
            "1           11  491   71   41\n",
            "2            3  168  111   14\n",
            "3            5   22    1  828\n",
            "accuracy total: 0.8653629183903723\n",
            "precision covid: 0.9786516853932584\n",
            "recall covid: 0.975363941769317\n",
            "precision total: 0.8041145807999741\n",
            "recall total: 0.7793319821241156\n",
            "label precision recall\n",
            "    0     0.979  0.975\n",
            "    1     0.709  0.800\n",
            "    2     0.600  0.375\n",
            "    3     0.929  0.967\n",
            "2659/2659 [==============================] - 3s 1ms/step\n",
            "[0.32235336449976565, 0.8653629422187805]\n"
          ],
          "name": "stdout"
        },
        {
          "output_type": "display_data",
          "data": {
            "image/png": "[encoded data removed]",
            "text/plain": [
              "<Figure size 864x288 with 2 Axes>"
            ]
          },
          "metadata": {
            "tags": [],
            "needs_background": "light"
          }
        }
      ]
    },
    {
      "cell_type": "code",
      "metadata": {
        "colab_type": "code",
        "id": "p6-37KWPQhFj",
        "colab": {}
      },
      "source": [
        "model_save_name = 'model3.sav'\n",
        "path = F\"/content/{model_save_name}\" \n",
        "torch.save(model3, path)\n"
      ],
      "execution_count": 0,
      "outputs": []
    },
    {
      "cell_type": "markdown",
      "metadata": {
        "colab_type": "text",
        "id": "DvmxeTuIUh2w"
      },
      "source": [
        "O modelo atinge uma **precisão global de 84%**, identificando 94**% dos casos COVID-19**.\n",
        "\n",
        "Mais uma vez, a matriz de confusão evidencia que o erro está essencialmente associado à capacidade do modelo distinguir pneumonia viral de bacteriana.\n",
        "\n",
        "Os gráficos <u>revelam ligeiro overfitting</u>, convergindo após 15 epochs.\n",
        "\n",
        "---\n",
        "O terceiro modelo pretende <u>controlar o ligeiro overfitting</u> do modelo anterior, incluindo uma camada de **dropout** de 20%:\n",
        "\n"
      ]
    },
    {
      "cell_type": "code",
      "metadata": {
        "colab_type": "code",
        "id": "E6X20FqrhbFC",
        "outputId": "9e688087-75ac-4e4e-a916-dc554a68611d",
        "colab": {
          "base_uri": "https://localhost:8080/",
          "height": 1000
        }
      },
      "source": [
        "model4=build_model_CNN2(32,3,0.2)\n",
        "model4.summary()\n",
        "history4=model4.fit(X_train, y_train, epochs=50,validation_data=(X_val,y_val),callbacks = callbacks)\n",
        "camadas(model4)\n",
        "output_metrics(model4,history4,X_test, y_test)\n",
        "\n",
        "#batch_size=512\n",
        "#83%+83%"
      ],
      "execution_count": 0,
      "outputs": [
        {
          "output_type": "stream",
          "text": [
            "Model: \"sequential_4\"\n",
            "_________________________________________________________________\n",
            "Layer (type)                 Output Shape              Param #   \n",
            "=================================================================\n",
            "conv2d_10 (Conv2D)           (None, 198, 198, 32)      320       \n",
            "_________________________________________________________________\n",
            "max_pooling2d_10 (MaxPooling (None, 99, 99, 32)        0         \n",
            "_________________________________________________________________\n",
            "conv2d_11 (Conv2D)           (None, 97, 97, 64)        18496     \n",
            "_________________________________________________________________\n",
            "max_pooling2d_11 (MaxPooling (None, 48, 48, 64)        0         \n",
            "_________________________________________________________________\n",
            "conv2d_12 (Conv2D)           (None, 46, 46, 128)       73856     \n",
            "_________________________________________________________________\n",
            "max_pooling2d_12 (MaxPooling (None, 23, 23, 128)       0         \n",
            "_________________________________________________________________\n",
            "flatten_4 (Flatten)          (None, 67712)             0         \n",
            "_________________________________________________________________\n",
            "dropout_4 (Dropout)          (None, 67712)             0         \n",
            "_________________________________________________________________\n",
            "dense_10 (Dense)             (None, 64)                4333632   \n",
            "_________________________________________________________________\n",
            "dense_11 (Dense)             (None, 16)                1040      \n",
            "_________________________________________________________________\n",
            "dense_12 (Dense)             (None, 4)                 68        \n",
            "=================================================================\n",
            "Total params: 4,427,412\n",
            "Trainable params: 4,427,412\n",
            "Non-trainable params: 0\n",
            "_________________________________________________________________\n",
            "Train on 4342 samples, validate on 1862 samples\n",
            "Epoch 1/50\n",
            "4342/4342 [==============================] - 14s 3ms/step - loss: 1.1776 - accuracy: 0.4942 - val_loss: 0.9816 - val_accuracy: 0.6149\n",
            "Epoch 2/50\n",
            "4342/4342 [==============================] - 14s 3ms/step - loss: 0.8399 - accuracy: 0.6990 - val_loss: 0.7335 - val_accuracy: 0.7406\n",
            "Epoch 3/50\n",
            "4342/4342 [==============================] - 14s 3ms/step - loss: 0.6675 - accuracy: 0.7653 - val_loss: 0.6114 - val_accuracy: 0.7959\n",
            "Epoch 4/50\n",
            "4342/4342 [==============================] - 14s 3ms/step - loss: 0.5661 - accuracy: 0.7996 - val_loss: 0.5383 - val_accuracy: 0.8115\n",
            "Epoch 5/50\n",
            "4342/4342 [==============================] - 14s 3ms/step - loss: 0.5144 - accuracy: 0.8121 - val_loss: 0.4957 - val_accuracy: 0.8179\n",
            "Epoch 6/50\n",
            "4342/4342 [==============================] - 14s 3ms/step - loss: 0.4816 - accuracy: 0.8204 - val_loss: 0.4810 - val_accuracy: 0.8147\n",
            "Epoch 7/50\n",
            "4342/4342 [==============================] - 14s 3ms/step - loss: 0.4555 - accuracy: 0.8310 - val_loss: 0.4514 - val_accuracy: 0.8281\n",
            "Epoch 8/50\n",
            "4342/4342 [==============================] - 14s 3ms/step - loss: 0.4392 - accuracy: 0.8310 - val_loss: 0.4396 - val_accuracy: 0.8265\n",
            "Epoch 9/50\n",
            "4342/4342 [==============================] - 14s 3ms/step - loss: 0.4185 - accuracy: 0.8328 - val_loss: 0.4212 - val_accuracy: 0.8394\n",
            "Epoch 10/50\n",
            "4342/4342 [==============================] - 14s 3ms/step - loss: 0.4046 - accuracy: 0.8411 - val_loss: 0.4108 - val_accuracy: 0.8308\n",
            "Epoch 11/50\n",
            "4342/4342 [==============================] - 14s 3ms/step - loss: 0.3922 - accuracy: 0.8443 - val_loss: 0.4102 - val_accuracy: 0.8367\n",
            "Epoch 12/50\n",
            "4342/4342 [==============================] - 14s 3ms/step - loss: 0.3803 - accuracy: 0.8498 - val_loss: 0.3940 - val_accuracy: 0.8383\n",
            "Epoch 13/50\n",
            "4342/4342 [==============================] - 14s 3ms/step - loss: 0.3683 - accuracy: 0.8501 - val_loss: 0.3814 - val_accuracy: 0.8491\n",
            "Epoch 14/50\n",
            "4342/4342 [==============================] - 14s 3ms/step - loss: 0.3592 - accuracy: 0.8556 - val_loss: 0.3770 - val_accuracy: 0.8512\n",
            "Epoch 15/50\n",
            "4342/4342 [==============================] - 14s 3ms/step - loss: 0.3492 - accuracy: 0.8609 - val_loss: 0.3750 - val_accuracy: 0.8464\n",
            "Epoch 16/50\n",
            "4342/4342 [==============================] - 14s 3ms/step - loss: 0.3431 - accuracy: 0.8600 - val_loss: 0.3788 - val_accuracy: 0.8448\n",
            "Epoch 17/50\n",
            "4342/4342 [==============================] - 14s 3ms/step - loss: 0.3381 - accuracy: 0.8648 - val_loss: 0.3625 - val_accuracy: 0.8512\n",
            "Epoch 18/50\n",
            "4342/4342 [==============================] - 14s 3ms/step - loss: 0.3347 - accuracy: 0.8614 - val_loss: 0.3615 - val_accuracy: 0.8491\n",
            "Epoch 19/50\n",
            "4342/4342 [==============================] - 14s 3ms/step - loss: 0.3250 - accuracy: 0.8664 - val_loss: 0.3587 - val_accuracy: 0.8528\n",
            "Epoch 20/50\n",
            "4342/4342 [==============================] - 14s 3ms/step - loss: 0.3243 - accuracy: 0.8701 - val_loss: 0.3562 - val_accuracy: 0.8426\n",
            "Epoch 21/50\n",
            "4342/4342 [==============================] - 14s 3ms/step - loss: 0.3183 - accuracy: 0.8694 - val_loss: 0.3408 - val_accuracy: 0.8593\n",
            "Epoch 22/50\n",
            "4342/4342 [==============================] - 14s 3ms/step - loss: 0.3127 - accuracy: 0.8766 - val_loss: 0.3579 - val_accuracy: 0.8518\n",
            "Epoch 23/50\n",
            "4342/4342 [==============================] - 14s 3ms/step - loss: 0.3082 - accuracy: 0.8703 - val_loss: 0.3366 - val_accuracy: 0.8566\n",
            "Epoch 24/50\n",
            "4342/4342 [==============================] - 14s 3ms/step - loss: 0.3031 - accuracy: 0.8784 - val_loss: 0.3309 - val_accuracy: 0.8614\n",
            "Epoch 25/50\n",
            "4342/4342 [==============================] - 14s 3ms/step - loss: 0.3055 - accuracy: 0.8722 - val_loss: 0.3330 - val_accuracy: 0.8604\n",
            "Epoch 26/50\n",
            "4342/4342 [==============================] - 14s 3ms/step - loss: 0.3004 - accuracy: 0.8752 - val_loss: 0.3316 - val_accuracy: 0.8582\n",
            "Epoch 27/50\n",
            "4342/4342 [==============================] - 14s 3ms/step - loss: 0.2935 - accuracy: 0.8789 - val_loss: 0.3317 - val_accuracy: 0.8518\n",
            "Epoch 28/50\n",
            "4342/4342 [==============================] - 14s 3ms/step - loss: 0.2918 - accuracy: 0.8789 - val_loss: 0.3437 - val_accuracy: 0.8571\n",
            "Epoch 29/50\n",
            "4342/4342 [==============================] - 14s 3ms/step - loss: 0.2909 - accuracy: 0.8789 - val_loss: 0.3281 - val_accuracy: 0.8631\n",
            "Epoch 30/50\n",
            "4342/4342 [==============================] - 14s 3ms/step - loss: 0.2862 - accuracy: 0.8816 - val_loss: 0.3291 - val_accuracy: 0.8582\n",
            "Epoch 31/50\n",
            "4342/4342 [==============================] - 14s 3ms/step - loss: 0.2835 - accuracy: 0.8816 - val_loss: 0.3268 - val_accuracy: 0.8657\n",
            "Epoch 32/50\n",
            "4342/4342 [==============================] - 14s 3ms/step - loss: 0.2805 - accuracy: 0.8839 - val_loss: 0.3218 - val_accuracy: 0.8679\n",
            "Epoch 33/50\n",
            "4342/4342 [==============================] - 14s 3ms/step - loss: 0.2766 - accuracy: 0.8844 - val_loss: 0.3202 - val_accuracy: 0.8695\n",
            "Epoch 34/50\n",
            "4342/4342 [==============================] - 14s 3ms/step - loss: 0.2759 - accuracy: 0.8890 - val_loss: 0.3303 - val_accuracy: 0.8577\n",
            "Epoch 35/50\n",
            "4342/4342 [==============================] - 14s 3ms/step - loss: 0.2776 - accuracy: 0.8848 - val_loss: 0.3149 - val_accuracy: 0.8641\n",
            "Epoch 36/50\n",
            "4342/4342 [==============================] - 14s 3ms/step - loss: 0.2719 - accuracy: 0.8908 - val_loss: 0.3305 - val_accuracy: 0.8641\n",
            "Epoch 37/50\n",
            "4342/4342 [==============================] - 14s 3ms/step - loss: 0.2753 - accuracy: 0.8883 - val_loss: 0.3461 - val_accuracy: 0.8469\n",
            "Epoch 38/50\n",
            "4342/4342 [==============================] - 14s 3ms/step - loss: 0.2697 - accuracy: 0.8867 - val_loss: 0.3170 - val_accuracy: 0.8673\n",
            "Epoch 39/50\n",
            "4342/4342 [==============================] - 14s 3ms/step - loss: 0.2606 - accuracy: 0.8931 - val_loss: 0.3108 - val_accuracy: 0.8722\n",
            "Epoch 40/50\n",
            "4342/4342 [==============================] - 14s 3ms/step - loss: 0.2586 - accuracy: 0.8964 - val_loss: 0.3103 - val_accuracy: 0.8700\n",
            "Epoch 41/50\n",
            "4342/4342 [==============================] - 14s 3ms/step - loss: 0.2575 - accuracy: 0.8977 - val_loss: 0.3111 - val_accuracy: 0.8711\n",
            "Epoch 42/50\n",
            "4342/4342 [==============================] - 14s 3ms/step - loss: 0.2573 - accuracy: 0.8945 - val_loss: 0.3107 - val_accuracy: 0.8716\n",
            "Epoch 43/50\n",
            "4342/4342 [==============================] - 14s 3ms/step - loss: 0.2558 - accuracy: 0.8964 - val_loss: 0.3115 - val_accuracy: 0.8706\n",
            "Epoch 44/50\n",
            "4342/4342 [==============================] - 14s 3ms/step - loss: 0.2570 - accuracy: 0.8975 - val_loss: 0.3097 - val_accuracy: 0.8733\n",
            "Epoch 45/50\n",
            "4342/4342 [==============================] - 14s 3ms/step - loss: 0.2566 - accuracy: 0.8975 - val_loss: 0.3092 - val_accuracy: 0.8716\n",
            "Epoch 46/50\n",
            "4342/4342 [==============================] - 14s 3ms/step - loss: 0.2555 - accuracy: 0.8987 - val_loss: 0.3089 - val_accuracy: 0.8700\n",
            "Epoch 47/50\n",
            "4342/4342 [==============================] - 14s 3ms/step - loss: 0.2559 - accuracy: 0.8973 - val_loss: 0.3092 - val_accuracy: 0.8716\n",
            "Epoch 48/50\n",
            "4342/4342 [==============================] - 14s 3ms/step - loss: 0.2555 - accuracy: 0.8954 - val_loss: 0.3123 - val_accuracy: 0.8700\n",
            "Epoch 49/50\n",
            "4342/4342 [==============================] - 14s 3ms/step - loss: 0.2559 - accuracy: 0.8996 - val_loss: 0.3106 - val_accuracy: 0.8690\n",
            "Epoch 50/50\n",
            "4342/4342 [==============================] - 14s 3ms/step - loss: 0.2540 - accuracy: 0.8989 - val_loss: 0.3102 - val_accuracy: 0.8706\n",
            "Camadas convolucionais:\n",
            "conv2d_10 (3, 3, 1, 32)\n",
            "conv2d_11 (3, 3, 32, 64)\n",
            "conv2d_12 (3, 3, 64, 128)\n",
            "Camadas fully connected:\n",
            "dense_10 (67712, 64)\n",
            "dense_11 (64, 16)\n",
            "dense_12 (16, 4)\n",
            "imagens saída de Capas Convolucionais:\n"
          ],
          "name": "stdout"
        },
        {
          "output_type": "display_data",
          "data": {
            "image/png": "[encoded data removed]",
            "text/plain": [
              "<Figure size 1440x1440 with 6 Axes>"
            ]
          },
          "metadata": {
            "tags": []
          }
        },
        {
          "output_type": "stream",
          "text": [
            "Predicted    0    1    2    3\n",
            "Actual                       \n",
            "0          873    9    6    5\n",
            "1           11  490   70   43\n",
            "2            4  161  120   11\n",
            "3            4   24    1  827\n",
            "accuracy total: 0.8687476494922903\n",
            "precision covid: 0.9786995515695067\n",
            "recall covid: 0.9776035834266518\n",
            "precision total: 0.8094048635727555\n",
            "recall total: 0.7867940216912558\n",
            "label precision recall\n",
            "    0     0.979  0.978\n",
            "    1     0.716  0.798\n",
            "    2     0.609  0.405\n",
            "    3     0.933  0.966\n",
            "2659/2659 [==============================] - 3s 1ms/step\n",
            "[0.31997635975990046, 0.8687476515769958]\n"
          ],
          "name": "stdout"
        },
        {
          "output_type": "display_data",
          "data": {
            "image/png": "[encoded data removed]",
            "text/plain": [
              "<Figure size 864x288 with 2 Axes>"
            ]
          },
          "metadata": {
            "tags": [],
            "needs_background": "light"
          }
        }
      ]
    },
    {
      "cell_type": "code",
      "metadata": {
        "colab_type": "code",
        "id": "A46O3KLTRbko",
        "colab": {}
      },
      "source": [
        "model_save_name= 'model4.sav'\n",
        "path = F\"/content/{model_save_name}\" \n",
        "torch.save(model4, path)"
      ],
      "execution_count": 0,
      "outputs": []
    },
    {
      "cell_type": "markdown",
      "metadata": {
        "colab_type": "text",
        "id": "yk52YUZMVe6i"
      },
      "source": [
        "O modelo atinge perde 2 p.p. na performance ao ser incluida camada de dropout, baixando de 84% para **82%**, mantendo a identificação de 94**% dos casos COVID-19**.\n",
        "\n",
        "Mais uma vez, o erro está essencialmente associado à capacidade do modelo distinguir pneumonia viral de bacteriana.\n",
        "\n",
        "O dropout funcionou, pois os gráficos <u> não revelam overfitting</u>, convergindo após 15 epochs.\n",
        "\n",
        "---\n",
        "\n",
        "\n",
        "O próximo modelo é um pouco **mais complexo**. Começa por uma camada convolucional de 64 filtros, seguida de pooling, depois 2 camadas convolucionais de 64 filtros seguidas de pooling e, por fim, 2 camadas convolucionais de 128  filtros, seguida de pooling. Não apresenta controlo de overfitting.\n",
        "\n"
      ]
    },
    {
      "cell_type": "code",
      "metadata": {
        "colab_type": "code",
        "id": "1kFU-Bzccdpv",
        "outputId": "a10ad358-4544-4bf9-92b1-e11e0894f814",
        "colab": {
          "base_uri": "https://localhost:8080/",
          "height": 1000
        }
      },
      "source": [
        "model5=build_model_CNN3()\n",
        "history5=model5.fit(X_train, y_train, epochs=50,validation_data=(X_val,y_val),callbacks = callbacks)\n",
        "model5.summary()\n",
        "camadas(model5)\n",
        "output_metrics(model5,history5,X_test, y_test)\n",
        "\n",
        "#88%+85%"
      ],
      "execution_count": 0,
      "outputs": [
        {
          "output_type": "stream",
          "text": [
            "Train on 4342 samples, validate on 1862 samples\n",
            "Epoch 1/50\n",
            "4342/4342 [==============================] - 39s 9ms/step - loss: 1.1005 - accuracy: 0.5408 - val_loss: 0.7617 - val_accuracy: 0.6724\n",
            "Epoch 2/50\n",
            "4342/4342 [==============================] - 36s 8ms/step - loss: 0.6638 - accuracy: 0.7319 - val_loss: 0.5857 - val_accuracy: 0.7282\n",
            "Epoch 3/50\n",
            "4342/4342 [==============================] - 36s 8ms/step - loss: 0.5529 - accuracy: 0.7681 - val_loss: 0.5123 - val_accuracy: 0.7905\n",
            "Epoch 4/50\n",
            "4342/4342 [==============================] - 36s 8ms/step - loss: 0.4919 - accuracy: 0.7927 - val_loss: 0.4606 - val_accuracy: 0.8056\n",
            "Epoch 5/50\n",
            "4342/4342 [==============================] - 36s 8ms/step - loss: 0.4558 - accuracy: 0.8128 - val_loss: 0.4621 - val_accuracy: 0.8061\n",
            "Epoch 6/50\n",
            "4342/4342 [==============================] - 36s 8ms/step - loss: 0.4370 - accuracy: 0.8197 - val_loss: 0.4236 - val_accuracy: 0.8238\n",
            "Epoch 7/50\n",
            "4342/4342 [==============================] - 36s 8ms/step - loss: 0.4187 - accuracy: 0.8213 - val_loss: 0.4370 - val_accuracy: 0.8158\n",
            "Epoch 8/50\n",
            "4342/4342 [==============================] - 36s 8ms/step - loss: 0.3979 - accuracy: 0.8270 - val_loss: 0.3851 - val_accuracy: 0.8367\n",
            "Epoch 9/50\n",
            "4342/4342 [==============================] - 36s 8ms/step - loss: 0.3841 - accuracy: 0.8344 - val_loss: 0.3768 - val_accuracy: 0.8400\n",
            "Epoch 10/50\n",
            "4342/4342 [==============================] - 37s 8ms/step - loss: 0.3730 - accuracy: 0.8388 - val_loss: 0.3849 - val_accuracy: 0.8373\n",
            "Epoch 11/50\n",
            "4342/4342 [==============================] - 37s 8ms/step - loss: 0.3604 - accuracy: 0.8450 - val_loss: 0.3549 - val_accuracy: 0.8491\n",
            "Epoch 12/50\n",
            "4342/4342 [==============================] - 37s 8ms/step - loss: 0.3494 - accuracy: 0.8432 - val_loss: 0.3651 - val_accuracy: 0.8405\n",
            "Epoch 13/50\n",
            "4342/4342 [==============================] - 37s 8ms/step - loss: 0.3489 - accuracy: 0.8515 - val_loss: 0.3515 - val_accuracy: 0.8485\n",
            "Epoch 14/50\n",
            "4342/4342 [==============================] - 37s 8ms/step - loss: 0.3363 - accuracy: 0.8556 - val_loss: 0.3306 - val_accuracy: 0.8485\n",
            "Epoch 15/50\n",
            "4342/4342 [==============================] - 37s 8ms/step - loss: 0.3273 - accuracy: 0.8556 - val_loss: 0.3302 - val_accuracy: 0.8475\n",
            "Epoch 16/50\n",
            "4342/4342 [==============================] - 37s 8ms/step - loss: 0.3208 - accuracy: 0.8595 - val_loss: 0.3313 - val_accuracy: 0.8545\n",
            "Epoch 17/50\n",
            "4342/4342 [==============================] - 37s 8ms/step - loss: 0.3187 - accuracy: 0.8591 - val_loss: 0.3331 - val_accuracy: 0.8550\n",
            "Epoch 18/50\n",
            "4342/4342 [==============================] - 37s 8ms/step - loss: 0.3114 - accuracy: 0.8639 - val_loss: 0.3203 - val_accuracy: 0.8571\n",
            "Epoch 19/50\n",
            "4342/4342 [==============================] - 37s 8ms/step - loss: 0.3074 - accuracy: 0.8685 - val_loss: 0.3161 - val_accuracy: 0.8566\n",
            "Epoch 20/50\n",
            "4342/4342 [==============================] - 37s 8ms/step - loss: 0.3023 - accuracy: 0.8676 - val_loss: 0.3120 - val_accuracy: 0.8545\n",
            "Epoch 21/50\n",
            "4342/4342 [==============================] - 37s 8ms/step - loss: 0.2967 - accuracy: 0.8706 - val_loss: 0.3200 - val_accuracy: 0.8593\n",
            "Epoch 22/50\n",
            "4342/4342 [==============================] - 37s 8ms/step - loss: 0.2908 - accuracy: 0.8733 - val_loss: 0.3052 - val_accuracy: 0.8588\n",
            "Epoch 23/50\n",
            "4342/4342 [==============================] - 37s 8ms/step - loss: 0.2868 - accuracy: 0.8703 - val_loss: 0.3006 - val_accuracy: 0.8620\n",
            "Epoch 24/50\n",
            "4342/4342 [==============================] - 37s 8ms/step - loss: 0.2820 - accuracy: 0.8731 - val_loss: 0.3116 - val_accuracy: 0.8534\n",
            "Epoch 25/50\n",
            "4342/4342 [==============================] - 37s 8ms/step - loss: 0.2862 - accuracy: 0.8731 - val_loss: 0.3166 - val_accuracy: 0.8545\n",
            "Epoch 26/50\n",
            "4342/4342 [==============================] - 37s 8ms/step - loss: 0.2805 - accuracy: 0.8835 - val_loss: 0.2987 - val_accuracy: 0.8604\n",
            "Epoch 27/50\n",
            "4342/4342 [==============================] - 37s 8ms/step - loss: 0.2721 - accuracy: 0.8830 - val_loss: 0.3090 - val_accuracy: 0.8631\n",
            "Epoch 28/50\n",
            "4342/4342 [==============================] - 37s 8ms/step - loss: 0.2712 - accuracy: 0.8802 - val_loss: 0.3019 - val_accuracy: 0.8647\n",
            "Epoch 29/50\n",
            "4342/4342 [==============================] - 37s 8ms/step - loss: 0.2665 - accuracy: 0.8881 - val_loss: 0.2952 - val_accuracy: 0.8706\n",
            "Epoch 30/50\n",
            "4342/4342 [==============================] - 37s 8ms/step - loss: 0.2619 - accuracy: 0.8915 - val_loss: 0.2959 - val_accuracy: 0.8684\n",
            "Epoch 31/50\n",
            "4342/4342 [==============================] - 37s 8ms/step - loss: 0.2615 - accuracy: 0.8855 - val_loss: 0.3220 - val_accuracy: 0.8620\n",
            "Epoch 32/50\n",
            "4342/4342 [==============================] - 37s 8ms/step - loss: 0.2548 - accuracy: 0.8901 - val_loss: 0.2973 - val_accuracy: 0.8679\n",
            "Epoch 33/50\n",
            "4342/4342 [==============================] - 37s 8ms/step - loss: 0.2545 - accuracy: 0.8901 - val_loss: 0.2974 - val_accuracy: 0.8668\n",
            "Epoch 34/50\n",
            "4342/4342 [==============================] - 36s 8ms/step - loss: 0.2505 - accuracy: 0.8915 - val_loss: 0.2995 - val_accuracy: 0.8631\n",
            "Epoch 35/50\n",
            "4342/4342 [==============================] - 37s 8ms/step - loss: 0.2393 - accuracy: 0.9005 - val_loss: 0.2869 - val_accuracy: 0.8770\n",
            "Epoch 36/50\n",
            "4342/4342 [==============================] - 37s 8ms/step - loss: 0.2361 - accuracy: 0.8996 - val_loss: 0.2881 - val_accuracy: 0.8722\n",
            "Epoch 37/50\n",
            "4342/4342 [==============================] - 37s 8ms/step - loss: 0.2335 - accuracy: 0.8996 - val_loss: 0.2882 - val_accuracy: 0.8711\n",
            "Epoch 38/50\n",
            "4342/4342 [==============================] - 37s 8ms/step - loss: 0.2331 - accuracy: 0.8994 - val_loss: 0.2861 - val_accuracy: 0.8765\n",
            "Epoch 39/50\n",
            "4342/4342 [==============================] - 36s 8ms/step - loss: 0.2335 - accuracy: 0.9023 - val_loss: 0.2864 - val_accuracy: 0.8781\n",
            "Epoch 40/50\n",
            "4342/4342 [==============================] - 37s 8ms/step - loss: 0.2300 - accuracy: 0.8996 - val_loss: 0.2855 - val_accuracy: 0.8776\n",
            "Epoch 41/50\n",
            "4342/4342 [==============================] - 37s 8ms/step - loss: 0.2269 - accuracy: 0.9023 - val_loss: 0.2873 - val_accuracy: 0.8765\n",
            "Epoch 42/50\n",
            "4342/4342 [==============================] - 37s 8ms/step - loss: 0.2279 - accuracy: 0.9023 - val_loss: 0.2876 - val_accuracy: 0.8786\n",
            "Epoch 43/50\n",
            "4342/4342 [==============================] - 37s 8ms/step - loss: 0.2245 - accuracy: 0.9035 - val_loss: 0.2868 - val_accuracy: 0.8786\n",
            "Epoch 44/50\n",
            "4342/4342 [==============================] - 37s 8ms/step - loss: 0.2265 - accuracy: 0.9023 - val_loss: 0.2869 - val_accuracy: 0.8802\n",
            "Epoch 45/50\n",
            "4342/4342 [==============================] - 37s 8ms/step - loss: 0.2238 - accuracy: 0.9067 - val_loss: 0.2878 - val_accuracy: 0.8808\n",
            "Epoch 46/50\n",
            "4342/4342 [==============================] - 37s 8ms/step - loss: 0.2244 - accuracy: 0.9081 - val_loss: 0.2898 - val_accuracy: 0.8781\n",
            "Epoch 47/50\n",
            "4342/4342 [==============================] - 37s 8ms/step - loss: 0.2236 - accuracy: 0.9049 - val_loss: 0.2895 - val_accuracy: 0.8759\n",
            "Epoch 48/50\n",
            "4342/4342 [==============================] - 37s 8ms/step - loss: 0.2252 - accuracy: 0.9044 - val_loss: 0.2870 - val_accuracy: 0.8786\n",
            "Epoch 49/50\n",
            "4342/4342 [==============================] - 37s 8ms/step - loss: 0.2225 - accuracy: 0.9051 - val_loss: 0.2860 - val_accuracy: 0.8792\n",
            "Epoch 50/50\n",
            "4342/4342 [==============================] - 37s 8ms/step - loss: 0.2217 - accuracy: 0.9081 - val_loss: 0.2887 - val_accuracy: 0.8754\n",
            "Model: \"sequential_5\"\n",
            "_________________________________________________________________\n",
            "Layer (type)                 Output Shape              Param #   \n",
            "=================================================================\n",
            "conv2d_13 (Conv2D)           (None, 196, 196, 64)      1664      \n",
            "_________________________________________________________________\n",
            "max_pooling2d_13 (MaxPooling (None, 96, 96, 64)        0         \n",
            "_________________________________________________________________\n",
            "conv2d_14 (Conv2D)           (None, 94, 94, 64)        36928     \n",
            "_________________________________________________________________\n",
            "conv2d_15 (Conv2D)           (None, 92, 92, 64)        36928     \n",
            "_________________________________________________________________\n",
            "average_pooling2d_1 (Average (None, 45, 45, 64)        0         \n",
            "_________________________________________________________________\n",
            "conv2d_16 (Conv2D)           (None, 43, 43, 128)       73856     \n",
            "_________________________________________________________________\n",
            "conv2d_17 (Conv2D)           (None, 41, 41, 128)       147584    \n",
            "_________________________________________________________________\n",
            "average_pooling2d_2 (Average (None, 20, 20, 128)       0         \n",
            "_________________________________________________________________\n",
            "flatten_5 (Flatten)          (None, 51200)             0         \n",
            "_________________________________________________________________\n",
            "dense_13 (Dense)             (None, 1024)              52429824  \n",
            "_________________________________________________________________\n",
            "dropout_5 (Dropout)          (None, 1024)              0         \n",
            "_________________________________________________________________\n",
            "dense_14 (Dense)             (None, 1024)              1049600   \n",
            "_________________________________________________________________\n",
            "dropout_6 (Dropout)          (None, 1024)              0         \n",
            "_________________________________________________________________\n",
            "dense_15 (Dense)             (None, 4)                 4100      \n",
            "=================================================================\n",
            "Total params: 53,780,484\n",
            "Trainable params: 53,780,484\n",
            "Non-trainable params: 0\n",
            "_________________________________________________________________\n",
            "Camadas convolucionais:\n",
            "conv2d_13 (5, 5, 1, 64)\n",
            "conv2d_14 (3, 3, 64, 64)\n",
            "conv2d_15 (3, 3, 64, 64)\n",
            "conv2d_16 (3, 3, 64, 128)\n",
            "conv2d_17 (3, 3, 128, 128)\n",
            "Camadas fully connected:\n",
            "dense_13 (51200, 1024)\n",
            "dense_14 (1024, 1024)\n",
            "dense_15 (1024, 4)\n",
            "imagens saída de Capas Convolucionais:\n"
          ],
          "name": "stdout"
        },
        {
          "output_type": "display_data",
          "data": {
            "image/png": "[encoded data removed]",
            "text/plain": [
              "<Figure size 1440x1440 with 6 Axes>"
            ]
          },
          "metadata": {
            "tags": []
          }
        },
        {
          "output_type": "stream",
          "text": [
            "Predicted    0    1    2    3\n",
            "Actual                       \n",
            "0          881    4    5    3\n",
            "1            5  468  101   40\n",
            "2            5  130  154    7\n",
            "3            1   20    3  832\n",
            "accuracy total: 0.8781496803309515\n",
            "precision covid: 0.9876681614349776\n",
            "recall covid: 0.986562150055991\n",
            "precision total: 0.8172354313481324\n",
            "recall total: 0.8102525052155116\n",
            "label precision recall\n",
            "    0     0.988  0.987\n",
            "    1     0.752  0.762\n",
            "    2     0.586  0.520\n",
            "    3     0.943  0.972\n",
            "2659/2659 [==============================] - 6s 2ms/step\n",
            "[0.2994175229996342, 0.878149688243866]\n"
          ],
          "name": "stdout"
        },
        {
          "output_type": "display_data",
          "data": {
            "image/png": "[encoded data removed]",
            "text/plain": [
              "<Figure size 864x288 with 2 Axes>"
            ]
          },
          "metadata": {
            "tags": [],
            "needs_background": "light"
          }
        }
      ]
    },
    {
      "cell_type": "code",
      "metadata": {
        "colab_type": "code",
        "id": "sIb5OgAYRlHZ",
        "colab": {}
      },
      "source": [
        "model_save_name = 'model5.sav'\n",
        "path = F\"/content/{model_save_name}\" \n",
        "torch.save(model5, path)"
      ],
      "execution_count": 0,
      "outputs": []
    },
    {
      "cell_type": "markdown",
      "metadata": {
        "colab_type": "text",
        "id": "QtbnQs2QWrZG"
      },
      "source": [
        "O modelo tem uma performance aglobal de **84%**, mantendo a identificação de **94% dos casos COVID-19**.\n",
        "\n",
        "Mais uma vez, o erro está essencialmente associado à capacidade do modelo distinguir pneumonia viral de bacteriana.\n",
        "\n",
        "Os gráficos apresentam, no entanto, <u>overfitting</u>.\n"
      ]
    },
    {
      "cell_type": "markdown",
      "metadata": {
        "colab_type": "text",
        "id": "MxHxQFyxrOii"
      },
      "source": [
        "### 12.2 CNN: label com 3 classes\n",
        "\n",
        "Como o maior erro está associado à dificuldade de separação entre pneumonia viral e bacteriana, e não sendo este o objetivo principal do trabalho, trinam-se nesta secção modelos que visam classificar as imagens em 3 grupos:\n",
        "* 0- Covid-19\n",
        "* 1- Outra pneumonia (viral ou bacteriana)\n",
        "* 2- Normal"
      ]
    },
    {
      "cell_type": "code",
      "metadata": {
        "colab_type": "code",
        "id": "6Cx8LoCLo0nC",
        "outputId": "47f64018-869f-4b8a-c5f5-fbac62b63d10",
        "colab": {
          "base_uri": "https://localhost:8080/",
          "height": 33
        }
      },
      "source": [
        "unique_labels(y_all)"
      ],
      "execution_count": 0,
      "outputs": [
        {
          "output_type": "execute_result",
          "data": {
            "text/plain": [
              "array([0, 1, 2, 3])"
            ]
          },
          "metadata": {
            "tags": []
          },
          "execution_count": 61
        }
      ]
    },
    {
      "cell_type": "code",
      "metadata": {
        "colab_type": "code",
        "id": "4oHg5s3To0x0",
        "outputId": "8695af6b-cd1e-431e-d38c-6759ea77cea3",
        "colab": {
          "base_uri": "https://localhost:8080/",
          "height": 33
        }
      },
      "source": [
        "y_all2=y_all.copy()\n",
        "for i in range(1,len(y_all),1):\n",
        "  if y_all[i]==1: y_all2[i]=2\n",
        "unique_labels(y_all2)"
      ],
      "execution_count": 0,
      "outputs": [
        {
          "output_type": "execute_result",
          "data": {
            "text/plain": [
              "array([0, 2, 3])"
            ]
          },
          "metadata": {
            "tags": []
          },
          "execution_count": 62
        }
      ]
    },
    {
      "cell_type": "code",
      "metadata": {
        "colab_type": "code",
        "id": "UgSrYQAHo0uK",
        "outputId": "b5b93989-ee85-40b4-f507-f816ca71d4ad",
        "colab": {
          "base_uri": "https://localhost:8080/",
          "height": 82
        }
      },
      "source": [
        "how_many_0 = len(np.where(y_all2==0.)[0])\n",
        "how_many_1 = len(np.where(y_all2==1.)[0])\n",
        "how_many_2 = len(np.where(y_all2==2.)[0])\n",
        "how_many_3 = len(np.where(y_all2==3.)[0])\n",
        "print('#covid:',how_many_0)\n",
        "print('#viral:',how_many_1)\n",
        "print('#bacteria:',how_many_2)\n",
        "print('#normal:',how_many_3)"
      ],
      "execution_count": 0,
      "outputs": [
        {
          "output_type": "stream",
          "text": [
            "#covid: 2988\n",
            "#viral: 0\n",
            "#bacteria: 3056\n",
            "#normal: 2819\n"
          ],
          "name": "stdout"
        }
      ]
    },
    {
      "cell_type": "markdown",
      "metadata": {
        "colab_type": "text",
        "id": "NgGu5Rwba1f2"
      },
      "source": [
        "Para os novos dados (labels), são redefinidas os conjuntos de treino, validação e teste:"
      ]
    },
    {
      "cell_type": "code",
      "metadata": {
        "colab_type": "code",
        "id": "33CYM8-lHRt9",
        "colab": {}
      },
      "source": [
        "X_train2, X_test2, y_train2, y_test2 = train_test_split(X_all, y_all2, test_size = 0.3,random_state=10)\n",
        "X_train2, X_val2, y_train2, y_val2 = train_test_split(X_train2, y_train2, test_size = 0.3,random_state=10)"
      ],
      "execution_count": 0,
      "outputs": []
    },
    {
      "cell_type": "markdown",
      "metadata": {
        "colab_type": "text",
        "id": "oJJU7Dqwa9b_"
      },
      "source": [
        "O modelo seguinte é uma CNN com camadas convolucionais de 64 filtros, intercaladas com camadas de pooling. Não são usadas camadas de dropout."
      ]
    },
    {
      "cell_type": "code",
      "metadata": {
        "colab_type": "code",
        "id": "sFFrgdcnrr6V",
        "outputId": "9e79f01f-e411-4422-bddf-e0b68e3eacfa",
        "colab": {
          "base_uri": "https://localhost:8080/",
          "height": 1000
        }
      },
      "source": [
        "model7=build_model_CNN1(64, 4, 0)\n",
        "history7=model7.fit(X_train2, y_train2, epochs=50,validation_data=(X_val2,y_val2))\n",
        "model7.summary()\n",
        "camadas(model7)\n",
        "output_metrics(model7,history7,X_test2, y_test2)\n",
        "model_save_name = 'model7.sav'\n",
        "path = F\"/content/{model_save_name}\" \n",
        "torch.save(model7, path)\n",
        "#94%+92%"
      ],
      "execution_count": 0,
      "outputs": [
        {
          "output_type": "stream",
          "text": [
            "Train on 4342 samples, validate on 1862 samples\n",
            "Epoch 1/50\n",
            "4342/4342 [==============================] - 23s 5ms/step - loss: 1.0531 - accuracy: 0.6674 - val_loss: 0.6899 - val_accuracy: 0.6600\n",
            "Epoch 2/50\n",
            "4342/4342 [==============================] - 21s 5ms/step - loss: 0.5155 - accuracy: 0.8363 - val_loss: 0.4349 - val_accuracy: 0.8324\n",
            "Epoch 3/50\n",
            "4342/4342 [==============================] - 21s 5ms/step - loss: 0.3700 - accuracy: 0.8722 - val_loss: 0.3265 - val_accuracy: 0.9023\n",
            "Epoch 4/50\n",
            "4342/4342 [==============================] - 21s 5ms/step - loss: 0.2970 - accuracy: 0.9060 - val_loss: 0.2848 - val_accuracy: 0.9033\n",
            "Epoch 5/50\n",
            "4342/4342 [==============================] - 21s 5ms/step - loss: 0.2644 - accuracy: 0.9104 - val_loss: 0.2558 - val_accuracy: 0.9098\n",
            "Epoch 6/50\n",
            "4342/4342 [==============================] - 21s 5ms/step - loss: 0.2301 - accuracy: 0.9261 - val_loss: 0.2279 - val_accuracy: 0.9243\n",
            "Epoch 7/50\n",
            "4342/4342 [==============================] - 21s 5ms/step - loss: 0.2122 - accuracy: 0.9268 - val_loss: 0.2856 - val_accuracy: 0.8802\n",
            "Epoch 8/50\n",
            "4342/4342 [==============================] - 21s 5ms/step - loss: 0.1983 - accuracy: 0.9348 - val_loss: 0.1926 - val_accuracy: 0.9356\n",
            "Epoch 9/50\n",
            "4342/4342 [==============================] - 21s 5ms/step - loss: 0.1812 - accuracy: 0.9406 - val_loss: 0.1883 - val_accuracy: 0.9388\n",
            "Epoch 10/50\n",
            "4342/4342 [==============================] - 22s 5ms/step - loss: 0.1760 - accuracy: 0.9401 - val_loss: 0.1792 - val_accuracy: 0.9366\n",
            "Epoch 11/50\n",
            "4342/4342 [==============================] - 22s 5ms/step - loss: 0.1635 - accuracy: 0.9484 - val_loss: 0.2016 - val_accuracy: 0.9237\n",
            "Epoch 12/50\n",
            "4342/4342 [==============================] - 22s 5ms/step - loss: 0.1564 - accuracy: 0.9459 - val_loss: 0.1645 - val_accuracy: 0.9452\n",
            "Epoch 13/50\n",
            "4342/4342 [==============================] - 22s 5ms/step - loss: 0.1529 - accuracy: 0.9473 - val_loss: 0.1543 - val_accuracy: 0.9431\n",
            "Epoch 14/50\n",
            "4342/4342 [==============================] - 21s 5ms/step - loss: 0.1440 - accuracy: 0.9519 - val_loss: 0.1561 - val_accuracy: 0.9458\n",
            "Epoch 15/50\n",
            "4342/4342 [==============================] - 21s 5ms/step - loss: 0.1400 - accuracy: 0.9521 - val_loss: 0.1499 - val_accuracy: 0.9447\n",
            "Epoch 16/50\n",
            "4342/4342 [==============================] - 21s 5ms/step - loss: 0.1348 - accuracy: 0.9530 - val_loss: 0.1460 - val_accuracy: 0.9495\n",
            "Epoch 17/50\n",
            "4342/4342 [==============================] - 22s 5ms/step - loss: 0.1380 - accuracy: 0.9519 - val_loss: 0.1395 - val_accuracy: 0.9474\n",
            "Epoch 18/50\n",
            "4342/4342 [==============================] - 22s 5ms/step - loss: 0.1287 - accuracy: 0.9553 - val_loss: 0.1448 - val_accuracy: 0.9490\n",
            "Epoch 19/50\n",
            "4342/4342 [==============================] - 22s 5ms/step - loss: 0.1237 - accuracy: 0.9579 - val_loss: 0.1434 - val_accuracy: 0.9468\n",
            "Epoch 20/50\n",
            "4342/4342 [==============================] - 22s 5ms/step - loss: 0.1277 - accuracy: 0.9544 - val_loss: 0.1454 - val_accuracy: 0.9490\n",
            "Epoch 21/50\n",
            "4342/4342 [==============================] - 22s 5ms/step - loss: 0.1227 - accuracy: 0.9569 - val_loss: 0.1408 - val_accuracy: 0.9517\n",
            "Epoch 22/50\n",
            "4342/4342 [==============================] - 22s 5ms/step - loss: 0.1161 - accuracy: 0.9585 - val_loss: 0.1236 - val_accuracy: 0.9565\n",
            "Epoch 23/50\n",
            "4342/4342 [==============================] - 22s 5ms/step - loss: 0.1245 - accuracy: 0.9539 - val_loss: 0.1332 - val_accuracy: 0.9495\n",
            "Epoch 24/50\n",
            "4342/4342 [==============================] - 22s 5ms/step - loss: 0.1188 - accuracy: 0.9574 - val_loss: 0.1466 - val_accuracy: 0.9452\n",
            "Epoch 25/50\n",
            "4342/4342 [==============================] - 22s 5ms/step - loss: 0.1144 - accuracy: 0.9627 - val_loss: 0.1309 - val_accuracy: 0.9522\n",
            "Epoch 26/50\n",
            "4342/4342 [==============================] - 22s 5ms/step - loss: 0.1165 - accuracy: 0.9608 - val_loss: 0.1302 - val_accuracy: 0.9549\n",
            "Epoch 27/50\n",
            "4342/4342 [==============================] - 22s 5ms/step - loss: 0.1094 - accuracy: 0.9615 - val_loss: 0.1229 - val_accuracy: 0.9565\n",
            "Epoch 28/50\n",
            "4342/4342 [==============================] - 21s 5ms/step - loss: 0.1061 - accuracy: 0.9652 - val_loss: 0.1270 - val_accuracy: 0.9511\n",
            "Epoch 29/50\n",
            "4342/4342 [==============================] - 22s 5ms/step - loss: 0.1060 - accuracy: 0.9632 - val_loss: 0.1440 - val_accuracy: 0.9484\n",
            "Epoch 30/50\n",
            "4342/4342 [==============================] - 22s 5ms/step - loss: 0.1032 - accuracy: 0.9655 - val_loss: 0.1276 - val_accuracy: 0.9549\n",
            "Epoch 31/50\n",
            "4342/4342 [==============================] - 21s 5ms/step - loss: 0.1044 - accuracy: 0.9648 - val_loss: 0.1168 - val_accuracy: 0.9549\n",
            "Epoch 32/50\n",
            "4342/4342 [==============================] - 22s 5ms/step - loss: 0.1005 - accuracy: 0.9645 - val_loss: 0.1097 - val_accuracy: 0.9608\n",
            "Epoch 33/50\n",
            "4342/4342 [==============================] - 22s 5ms/step - loss: 0.0978 - accuracy: 0.9673 - val_loss: 0.1303 - val_accuracy: 0.9544\n",
            "Epoch 34/50\n",
            "4342/4342 [==============================] - 22s 5ms/step - loss: 0.1007 - accuracy: 0.9652 - val_loss: 0.1331 - val_accuracy: 0.9554\n",
            "Epoch 35/50\n",
            "4342/4342 [==============================] - 22s 5ms/step - loss: 0.0960 - accuracy: 0.9664 - val_loss: 0.1521 - val_accuracy: 0.9511\n",
            "Epoch 36/50\n",
            "4342/4342 [==============================] - 22s 5ms/step - loss: 0.0964 - accuracy: 0.9691 - val_loss: 0.1092 - val_accuracy: 0.9613\n",
            "Epoch 37/50\n",
            "4342/4342 [==============================] - 22s 5ms/step - loss: 0.0957 - accuracy: 0.9678 - val_loss: 0.1026 - val_accuracy: 0.9624\n",
            "Epoch 38/50\n",
            "4342/4342 [==============================] - 22s 5ms/step - loss: 0.0938 - accuracy: 0.9694 - val_loss: 0.1031 - val_accuracy: 0.9624\n",
            "Epoch 39/50\n",
            "4342/4342 [==============================] - 22s 5ms/step - loss: 0.0911 - accuracy: 0.9694 - val_loss: 0.1125 - val_accuracy: 0.9629\n",
            "Epoch 40/50\n",
            "4342/4342 [==============================] - 22s 5ms/step - loss: 0.0918 - accuracy: 0.9687 - val_loss: 0.1202 - val_accuracy: 0.9576\n",
            "Epoch 41/50\n",
            "4342/4342 [==============================] - 22s 5ms/step - loss: 0.0917 - accuracy: 0.9701 - val_loss: 0.1007 - val_accuracy: 0.9629\n",
            "Epoch 42/50\n",
            "4342/4342 [==============================] - 22s 5ms/step - loss: 0.0873 - accuracy: 0.9714 - val_loss: 0.1080 - val_accuracy: 0.9613\n",
            "Epoch 43/50\n",
            "4342/4342 [==============================] - 21s 5ms/step - loss: 0.0878 - accuracy: 0.9724 - val_loss: 0.0997 - val_accuracy: 0.9640\n",
            "Epoch 44/50\n",
            "4342/4342 [==============================] - 22s 5ms/step - loss: 0.0859 - accuracy: 0.9719 - val_loss: 0.1071 - val_accuracy: 0.9608\n",
            "Epoch 45/50\n",
            "4342/4342 [==============================] - 22s 5ms/step - loss: 0.0827 - accuracy: 0.9763 - val_loss: 0.1050 - val_accuracy: 0.9624\n",
            "Epoch 46/50\n",
            "4342/4342 [==============================] - 22s 5ms/step - loss: 0.0834 - accuracy: 0.9737 - val_loss: 0.1018 - val_accuracy: 0.9651\n",
            "Epoch 47/50\n",
            "4342/4342 [==============================] - 22s 5ms/step - loss: 0.0872 - accuracy: 0.9698 - val_loss: 0.1013 - val_accuracy: 0.9667\n",
            "Epoch 48/50\n",
            "4342/4342 [==============================] - 22s 5ms/step - loss: 0.0815 - accuracy: 0.9744 - val_loss: 0.0975 - val_accuracy: 0.9640\n",
            "Epoch 49/50\n",
            "4342/4342 [==============================] - 22s 5ms/step - loss: 0.0820 - accuracy: 0.9733 - val_loss: 0.1125 - val_accuracy: 0.9635\n",
            "Epoch 50/50\n",
            "4342/4342 [==============================] - 22s 5ms/step - loss: 0.0811 - accuracy: 0.9735 - val_loss: 0.1000 - val_accuracy: 0.9629\n",
            "Model: \"sequential_6\"\n",
            "_________________________________________________________________\n",
            "Layer (type)                 Output Shape              Param #   \n",
            "=================================================================\n",
            "conv2d_18 (Conv2D)           (None, 197, 197, 64)      1088      \n",
            "_________________________________________________________________\n",
            "max_pooling2d_14 (MaxPooling (None, 98, 98, 64)        0         \n",
            "_________________________________________________________________\n",
            "conv2d_19 (Conv2D)           (None, 95, 95, 64)        65600     \n",
            "_________________________________________________________________\n",
            "max_pooling2d_15 (MaxPooling (None, 47, 47, 64)        0         \n",
            "_________________________________________________________________\n",
            "conv2d_20 (Conv2D)           (None, 44, 44, 64)        65600     \n",
            "_________________________________________________________________\n",
            "max_pooling2d_16 (MaxPooling (None, 22, 22, 64)        0         \n",
            "_________________________________________________________________\n",
            "flatten_6 (Flatten)          (None, 30976)             0         \n",
            "_________________________________________________________________\n",
            "dropout_7 (Dropout)          (None, 30976)             0         \n",
            "_________________________________________________________________\n",
            "dense_16 (Dense)             (None, 64)                1982528   \n",
            "_________________________________________________________________\n",
            "dense_17 (Dense)             (None, 16)                1040      \n",
            "_________________________________________________________________\n",
            "dense_18 (Dense)             (None, 4)                 68        \n",
            "=================================================================\n",
            "Total params: 2,115,924\n",
            "Trainable params: 2,115,924\n",
            "Non-trainable params: 0\n",
            "_________________________________________________________________\n",
            "Camadas convolucionais:\n",
            "conv2d_18 (4, 4, 1, 64)\n",
            "conv2d_19 (4, 4, 64, 64)\n",
            "conv2d_20 (4, 4, 64, 64)\n",
            "Camadas fully connected:\n",
            "dense_16 (30976, 64)\n",
            "dense_17 (64, 16)\n",
            "dense_18 (16, 4)\n",
            "imagens saída de Capas Convolucionais:\n"
          ],
          "name": "stdout"
        },
        {
          "output_type": "display_data",
          "data": {
            "image/png": "[encoded data removed]",
            "text/plain": [
              "<Figure size 1440x1440 with 6 Axes>"
            ]
          },
          "metadata": {
            "tags": []
          }
        },
        {
          "output_type": "stream",
          "text": [
            "Predicted    0    1    2\n",
            "Actual                  \n",
            "0          876   12    5\n",
            "1           10  856   44\n",
            "2            4   21  831\n",
            "accuracy total: 0.9638962015795411\n",
            "precision covid: 0.9842696629213483\n",
            "recall covid: 0.9809630459126539\n",
            "precision total: 0.9638224949281748\n",
            "recall total: 0.9641389263651198\n",
            "label precision recall\n",
            "    0     0.984  0.981\n",
            "    1     0.963  0.941\n",
            "    2     0.944  0.971\n",
            "2659/2659 [==============================] - 4s 2ms/step\n",
            "[0.11779316397325668, 0.9638962149620056]\n"
          ],
          "name": "stdout"
        },
        {
          "output_type": "display_data",
          "data": {
            "image/png": "[encoded data removed]",
            "text/plain": [
              "<Figure size 864x288 with 2 Axes>"
            ]
          },
          "metadata": {
            "tags": [],
            "needs_background": "light"
          }
        }
      ]
    },
    {
      "cell_type": "markdown",
      "metadata": {
        "colab_type": "text",
        "id": "FVs2AzDXbNku"
      },
      "source": [
        "Com a agregação das pneumonias viral e bacteriana numa única classe, a **performance global aumenta de 83% para 91%**. Os gráficos da precisão e loss <u>não evidenciam overfitting</u> significativo."
      ]
    },
    {
      "cell_type": "markdown",
      "metadata": {
        "colab_type": "text",
        "id": "gfTDHKZRR053"
      },
      "source": [
        "### 13. Previsão Covid-19 \n",
        "Para o modelo apresentado na secção anterior, visualizam-se agora as classificações COVID-19 corretas e incorretas, de modo a perceber as ineficiências da aprendizagem."
      ]
    },
    {
      "cell_type": "markdown",
      "metadata": {
        "colab_type": "text",
        "id": "SCMSVwSBMVPe"
      },
      "source": [
        "### 13.1 Identificação correta\n",
        "De seguida apresentam-se imagens COVID-19 classificadas como tal pelo modelo."
      ]
    },
    {
      "cell_type": "code",
      "metadata": {
        "colab_type": "code",
        "id": "edHPZuhKMUj-",
        "outputId": "7ea1a2b2-dbdf-433a-8b2e-458763981692",
        "colab": {
          "base_uri": "https://localhost:8080/"
        }
      },
      "source": [
        "y_pred_3class=np.argmax(model7.predict(X_test2),axis=1)\n",
        "index1=[]\n",
        "for i in range(0,len(y_test2),1):\n",
        "  #if y_test[i] != y_pred1_3classb[i]:#erros totais\n",
        "  if (y_test2[i] ==0 & y_test2[i] == y_pred_3class[i]):#COVID correto\n",
        "    #print(i, y_test[i],y_pred1_3classb[i])\n",
        "    index1.append(i)\n",
        "#print(index1)\n",
        "#print(len(index1))\n",
        "\n",
        "i_ = 0\n",
        "plt.subplots_adjust(wspace=0, hspace=0)\n",
        "i_ = 0\n",
        "plt.rcParams['figure.figsize'] = (10.0, 10.0)\n",
        "print('COVID-19 bem identificado: ', len(index1) , 'RX em',len(np.where(y_test2==0)[0]))\n",
        "for l in index1[:100]:\n",
        "    #print(l)    \n",
        "    plt.subplot(10, 10, i_+1) #.set_title(l)\n",
        "    i_ += 1\n",
        "    im = X_test[l]\n",
        "    im = im[:,:,0]\n",
        "    plt.imshow(im, cmap=\"gray\")\n",
        "    plt.axis('off')\n",
        "    #print(y_pred1_3classb[i]) "
      ],
      "execution_count": 0,
      "outputs": [
        {
          "output_type": "stream",
          "text": [
            "COVID-19 bem identificado:  876 RX em 893\n"
          ],
          "name": "stdout"
        },
        {
          "output_type": "display_data",
          "data": {
            "image/png": "[encoded data removed]",
            "text/plain": [
              "<Figure size 432x288 with 100 Axes>"
            ]
          },
          "metadata": {
            "tags": [],
            "needs_background": "light"
          }
        }
      ]
    },
    {
      "cell_type": "markdown",
      "metadata": {
        "colab_type": "text",
        "id": "kG0iLJBfMPR2"
      },
      "source": [
        "### 13.2 Identificado como outra pneumonia\n",
        "De seguida apresentam-se imagens COVID-19 classificadas como outro tipo de pneumonia. Apesar de um erro, não é dos mais graves."
      ]
    },
    {
      "cell_type": "code",
      "metadata": {
        "colab_type": "code",
        "id": "ylwf0q5fR0N7",
        "outputId": "63f31fdb-648a-4ac3-eeea-cd7e0aab8945",
        "colab": {
          "base_uri": "https://localhost:8080/",
          "height": 156
        }
      },
      "source": [
        "y_pred_3class=np.argmax(model7.predict(X_test2),axis=1)\n",
        "index1=[]\n",
        "for i in range(0,len(y_test2),1):\n",
        "  #if y_test[i] != y_pred1_3classb[i]:#erros totais\n",
        "  if ((y_test2[i] ==0) & (y_pred_3class[i] in (1,2))):#erro no COVID\n",
        "    #print(i, y_test[i],y_pred1_3classb[i])\n",
        "    index1.append(i)\n",
        "#print(index1)\n",
        "#print(len(index1))\n",
        "\n",
        "i_ = 0\n",
        "plt.subplots_adjust(wspace=0, hspace=0)\n",
        "i_ = 0\n",
        "plt.rcParams['figure.figsize'] = (10.0, 10.0)\n",
        "print('COVID-19 identificado como outra pneumonia: ', len(index1) , 'RX em',len(np.where(y_test2==0)[0]))\n",
        "for l in index1[:169]:\n",
        "    #print(l)    \n",
        "    plt.subplot(10, 10, i_+1) #.set_title(l)\n",
        "    i_ += 1\n",
        "    im = X_test[l]\n",
        "    im = im[:,:,0]\n",
        "    plt.imshow(im, cmap=\"gray\")\n",
        "    plt.axis('off')\n",
        "    #print(y_pred1_3classb[i]) "
      ],
      "execution_count": 0,
      "outputs": [
        {
          "output_type": "stream",
          "text": [
            "COVID-19 identificado como outra pneumonia:  12 RX em 893\n"
          ],
          "name": "stdout"
        },
        {
          "output_type": "display_data",
          "data": {
            "image/png": "[encoded data removed]",
            "text/plain": [
              "<Figure size 720x720 with 12 Axes>"
            ]
          },
          "metadata": {
            "tags": [],
            "needs_background": "light"
          }
        }
      ]
    },
    {
      "cell_type": "markdown",
      "metadata": {
        "colab_type": "text",
        "id": "FdNzVYYD4AmD"
      },
      "source": [
        "* algumas das imagens Covid não identificadas aparecem numa postura atípica num RX, assim com o com má qualidade.\n",
        "* Porém, o erro mais grave é marcar o COVID-19 como uma situação normal (**apenas 19 casos**, representados nas imagens seguintes."
      ]
    },
    {
      "cell_type": "markdown",
      "metadata": {
        "colab_type": "text",
        "id": "IwS1XNNTQl3Z"
      },
      "source": [
        "### 13.3 Identificado como normal\n",
        "Esta última secção apresenta imagens COVID-19 classificadas como normais. Este é o erro mais grave do modelo, incidindo apenas em 25 das 881 imagens (2,8%) Covid-19 no conjunto de teste."
      ]
    },
    {
      "cell_type": "code",
      "metadata": {
        "colab_type": "code",
        "id": "J3N8KAho5QMH",
        "outputId": "7eff737c-deb2-40f4-adef-3ea0dcadcd22",
        "colab": {
          "base_uri": "https://localhost:8080/",
          "height": 101
        }
      },
      "source": [
        "index2=[]\n",
        "for i in range(0,len(y_test2),1):\n",
        "  if ((y_test2[i] ==0) & (y_pred_3class[i]==3)):#erro COVID-> normal\n",
        "    index2.append(i)\n",
        "\n",
        "plt.subplots_adjust(wspace=0, hspace=0)\n",
        "i_ = 0\n",
        "plt.rcParams['figure.figsize'] = (10.0, 10.0)\n",
        "print('COVID-19 marcado como normal:')\n",
        "for l in index2[:169]:\n",
        "    #print(i_)    \n",
        "    plt.subplot(10, 10, i_+1) #.set_title(l)\n",
        "    i_ += 1\n",
        "    im = X_test2[l]\n",
        "    im = im[:,:,0]\n",
        "    plt.imshow(im, cmap=\"gray\")\n",
        "    plt.axis('off')\n"
      ],
      "execution_count": 0,
      "outputs": [
        {
          "output_type": "stream",
          "text": [
            "COVID-19 marcado como normal:\n"
          ],
          "name": "stdout"
        },
        {
          "output_type": "display_data",
          "data": {
            "image/png": "[encoded data removed]",
            "text/plain": [
              "<Figure size 720x720 with 5 Axes>"
            ]
          },
          "metadata": {
            "tags": [],
            "needs_background": "light"
          }
        }
      ]
    },
    {
      "cell_type": "markdown",
      "metadata": {
        "colab_type": "text",
        "id": "7TowYYwD8Wtw"
      },
      "source": [
        "* 5 das 19 imagens anteriores apresentam disposição atípica\n",
        "* pode ainda questionar-se a qualidade da labelem alguns casos"
      ]
    },
    {
      "cell_type": "markdown",
      "metadata": {
        "colab_type": "text",
        "id": "hprUyX_r1FQ9"
      },
      "source": [
        "### 14. Otimização de hiperparâmetros\n",
        "\n",
        "O último modelo, que classifica imagens COVID, normais e outros tipos de pneumonia, apresenta uma performance interessante (91%). Efetuar-se-á nesta secção um processo de **otimização de hipermparâmetros**, de modo a aumentar este valor.\n",
        "\n",
        "Começamos por definir a função que alojará as várias topologias (convolucionais e pooling) e taxa de dropout:"
      ]
    },
    {
      "cell_type": "code",
      "metadata": {
        "colab_type": "code",
        "id": "cRsi8NRE1EgV",
        "colab": {}
      },
      "source": [
        "def setup_model(topo_c, topo_p, dropout_rate, input_size, output_size):\n",
        "  model = Sequential()\n",
        "  model.add(Conv2D(topo_c[0], (3, 3), activation='relu', input_shape=(200,200,1)))\n",
        "  if topo_p[0]==1: model.add(MaxPooling2D((2, 2)))\n",
        "  if dropout_rate > 0: model.add(Dropout(dropout_rate))\n",
        "  for i in range(1,len(topo_c)):\n",
        "    model.add(Conv2D(topo_c[i], (3, 3), activation='relu'))\n",
        "    if topo_p[i]==1: model.add(MaxPooling2D((2, 2)))\n",
        "    if dropout_rate > 0: model.add(Dropout(dropout_rate))\n",
        "  model.add(layers.Flatten())\n",
        "  if dropout_rate > 0: model.add(Dropout(dropout_rate))\n",
        "  model.add(Dense(64, activation='relu'))\n",
        "  model.add(Dense(16, activation='relu'))\n",
        "  model.add(Dense(4, activation='softmax'))\n",
        "  return model"
      ],
      "execution_count": 0,
      "outputs": []
    },
    {
      "cell_type": "markdown",
      "metadata": {
        "colab_type": "text",
        "id": "Y7F1jT6KdgIT"
      },
      "source": [
        "Na sequência define-se uma função que incorpora os vários algoritmos de treino, a loss e a amétrica a usar, o número de epochs e o batch size:"
      ]
    },
    {
      "cell_type": "code",
      "metadata": {
        "colab_type": "code",
        "id": "Dn8S_K_p1MH2",
        "colab": {}
      },
      "source": [
        "def train_cnn(model, alg, lr, Xtrain, Ytrain, epochs, batch_size):\n",
        "  if alg == \"adam\":\n",
        "    optimizer = optimizers.Adam(lr = lr)\n",
        "  elif alg == \"rmsprop\":\n",
        "    optimizer = optimizers.RMSprop(lr = lr)\n",
        "  elif alg == \"sgd_momentum\":\n",
        "   optimizer = optimizers.SGD(lr = lr, momentum = 0.9)\n",
        "  else: optimizer = optimizers.SGD(lr = lr)\n",
        "\n",
        "  model.compile(optimizer = optimizer, loss = \"sparse_categorical_crossentropy\", metrics = [\"accuracy\"])\n",
        "  history=model.fit(Xtrain, Ytrain, epochs = epochs, batch_size = batch_size, verbose = 0)\n",
        "  return model,history"
      ],
      "execution_count": 0,
      "outputs": []
    },
    {
      "cell_type": "markdown",
      "metadata": {
        "colab_type": "text",
        "id": "UCFUDOrudzpd"
      },
      "source": [
        "A última função vai treinando os vários modelos, guardando configuração com a melhor performance:"
      ]
    },
    {
      "cell_type": "code",
      "metadata": {
        "colab_type": "code",
        "id": "liGo42yj1MTK",
        "colab": {}
      },
      "source": [
        "def cnn_optimization(opt_params, Xtrain, Ytrain, Xval, Yval, iterations, verbose = True):\n",
        "  #verbose: producing detailed logging information\n",
        "  from random import choice\n",
        "  if verbose: print(\"Topology\\tDropout\\tAlgorithm\\tLRate\\tBatchSize\\tEpochs\\tValLoss\\tValAcc\\n\")\n",
        "  best_acc = None\n",
        "  input_size = Xtrain.shape[0]\n",
        "  output_size = Ytrain.shape[0]\n",
        "\n",
        "  if \"topology_c\" in opt_params: topologies_c = opt_params[\"topology_c\"]\n",
        "  else: topologies_c = [[64,64,64]]\n",
        "  if \"topology_p\" in opt_params: topologies_p = opt_params[\"topology_p\"]\n",
        "  else: topologies_p = [[1,1,1]]\n",
        "  if \"algorithm\" in opt_params: algs = opt_params[\"algorithm\"]\n",
        "  else: algs = [\"adam\"]\n",
        "  if \"lr\" in opt_params: lrs = opt_params[\"lr\"]\n",
        "  else: lrs = [0.001]\n",
        "  if \"dropout\" in opt_params: dropouts = opt_params[\"dropout\"]\n",
        "  else: dropouts= [0.0]\n",
        "  if \"batch_size\" in opt_params: batch_sizes = opt_params[\"batch_size\"]\n",
        "  else: batch_sizes= [512]\n",
        "  if \"epochs\" in opt_params: epoch = opt_params[\"epochs\"]\n",
        "  else: epoch= [5]\n",
        "\n",
        "  for it in range(iterations):\n",
        "    #print('Iteração', it+1, 'de', iterations)\n",
        "    #random item from the list\n",
        "    topo_c = choice(topologies_c)\n",
        "    topo_p = choice(topologies_p)   \n",
        "    dropout_rate = choice(dropouts)\n",
        "    dnn = setup_model (topo_c,topo_p, dropout_rate, input_size, output_size)\n",
        "    alg = choice(algs)\n",
        "    lr = choice(lrs)\n",
        "    bs=choice(batch_sizes)\n",
        "    epo=choice(epoch)\n",
        "\n",
        "    dnn, history = train_cnn(dnn, alg, lr, Xtrain, Ytrain, epo, bs)\n",
        "    val_loss, val_acc = dnn.evaluate(Xval, Yval, verbose = 0)\n",
        "    if verbose:\n",
        "      print(topo_c, \"\\t\", topo_p, \"\\t\", dropout_rate, \"\\t\", alg, \"\\t\", lr, \"\\t\", bs, \"\\t\", epo, \"\\t\", val_loss, \"\\t\", val_acc)\n",
        "    if best_acc is None or val_acc > best_acc:\n",
        "      best_acc = val_acc\n",
        "      best_config = (topo_c, topo_p, dropout_rate, alg, lr, bs, epo)\n",
        "      best_model=dnn\n",
        "      best_history=history\n",
        "    return best_config, best_acc,best_model,best_history"
      ],
      "execution_count": 0,
      "outputs": []
    },
    {
      "cell_type": "code",
      "metadata": {
        "colab_type": "code",
        "id": "WWa_J3aWe3qO",
        "colab": {}
      },
      "source": [
        "def cnn_optimization(opt_params, Xtrain, Ytrain, Xval, Yval, iterations, verbose = True):\n",
        "  #verbose: producing detailed logging information\n",
        "  from random import choice\n",
        "  if verbose: print(\"Topology\\tDropout\\tAlgorithm\\tLRate\\tBatchSize\\tEpochs\\tValLoss\\tValAcc\\n\")\n",
        "  best_acc = None\n",
        "  input_size = Xtrain.shape[0]\n",
        "  output_size = Ytrain.shape[0]\n",
        "\n",
        "  if \"topology_c\" in opt_params: topologies_c = opt_params[\"topology_c\"]\n",
        "  else: topologies_c = [[64,64,64]]\n",
        "  if \"topology_p\" in opt_params: topologies_p = opt_params[\"topology_p\"]\n",
        "  else: topologies_p = [[1,1,1]]\n",
        "  if \"algorithm\" in opt_params: algs = opt_params[\"algorithm\"]\n",
        "  else: algs = [\"adam\"]\n",
        "  if \"lr\" in opt_params: lrs = opt_params[\"lr\"]\n",
        "  else: lrs = [0.001]\n",
        "  if \"dropout\" in opt_params: dropouts = opt_params[\"dropout\"]\n",
        "  else: dropouts= [0.0]\n",
        "  if \"batch_size\" in opt_params: batch_sizes = opt_params[\"batch_size\"]\n",
        "  else: batch_sizes= [512]\n",
        "  if \"epochs\" in opt_params: epoch = opt_params[\"epochs\"]\n",
        "  else: epoch= [5]\n",
        "\n",
        "  for it in range(iterations):\n",
        "    #print('Iteração', it+1, 'de', iterations)\n",
        "    #random item from the list\n",
        "    topo_c = choice(topologies_c)\n",
        "    topo_p = choice(topologies_p)   \n",
        "    dropout_rate = choice(dropouts)\n",
        "    dnn = setup_model (topo_c,topo_p, dropout_rate, input_size, output_size)\n",
        "    alg = choice(algs)\n",
        "    lr = choice(lrs)\n",
        "    bs=choice(batch_sizes)\n",
        "    epo=choice(epoch)\n",
        "\n",
        "    dnn, history = train_cnn(dnn, alg, lr, Xtrain, Ytrain, epo, bs)\n",
        "    val_loss, val_acc = dnn.evaluate(Xval, Yval, verbose = 0)\n",
        "    #if verbose:\n",
        "    print(topo_c, \"\\t\", topo_p, \"\\t\", dropout_rate, \"\\t\", alg, \"\\t\", lr, \"\\t\", bs, \"\\t\", epo, \"\\t\", val_loss, \"\\t\", val_acc)\n",
        "    #config = (topo_c, topo_p, dropout_rate, alg, lr, bs, epo, val_loss, val_acc)\n",
        "    if best_acc is None or val_acc > best_acc:\n",
        "      best_acc = val_acc\n",
        "      best_config = (topo_c, topo_p, dropout_rate, alg, lr, bs, epo)\n",
        "\n",
        "      best_model=dnn\n",
        "      best_history=history\n",
        "  print(\"\\t\")\n",
        "  print(\"BestTopology\\tBestDropout\\tBestAlgorithm\\tBestLRate\\tBestBatchSize\\tBestEpochs\\tBestValLoss\\tBestValAcc\\n\")\n",
        "  print(best_config, \"\\t\", best_acc)\n",
        "  return best_config, best_acc,best_model,best_history"
      ],
      "execution_count": 0,
      "outputs": []
    },
    {
      "cell_type": "markdown",
      "metadata": {
        "colab_type": "text",
        "id": "2mbxIkVpd_Fg"
      },
      "source": [
        "Lestam-se os hiperparâmetros a otimizar:"
      ]
    },
    {
      "cell_type": "code",
      "metadata": {
        "colab_type": "code",
        "id": "PgNFFcsw1MQh",
        "colab": {}
      },
      "source": [
        "opt_pars = {\n",
        "     \"topology_c\":[[64,64,64], [32,64,128], [64,64,64,128,128]],\n",
        "     \"topology_p\":[[1,1,1,1,1], [1,0,1,0,1]],#pooling constante ou intercalado\n",
        "     \"algorithm\": [\"adam\",\"RMSprop\"],\n",
        "     \"lr\": [0.001, 0.0001], \n",
        "     \"dropout\": [0, 0.2],\n",
        "     \"batch_size\":  [64],\n",
        "     \"epochs\":[10]}"
      ],
      "execution_count": 0,
      "outputs": []
    },
    {
      "cell_type": "markdown",
      "metadata": {
        "colab_type": "text",
        "id": "Z3NMm9FkeGmR"
      },
      "source": [
        "E inicia-se o treino dos modelos e a seleção do mais preditivo:"
      ]
    },
    {
      "cell_type": "code",
      "metadata": {
        "colab_type": "code",
        "id": "rJEoh8chkoh3",
        "outputId": "d5b7b087-ab65-4b8f-99d7-602b69d411d1",
        "colab": {
          "base_uri": "https://localhost:8080/",
          "height": 602
        }
      },
      "source": [
        "best_config, best_val_acc,best_model,best_history=cnn_optimization(opt_pars, X_train2, y_train2, X_val2, y_val2, 30,verbose = True)"
      ],
      "execution_count": 0,
      "outputs": [
        {
          "output_type": "stream",
          "text": [
            "Topology\tDropout\tAlgorithm\tLRate\tBatchSize\tEpochs\tValLoss\tValAcc\n",
            "\n",
            "[32, 64, 128] \t [1, 1, 1, 1, 1] \t 0.2 \t RMSprop \t 0.001 \t 64 \t 10 \t 0.46261362950732704 \t 0.8442534804344177\n",
            "[64, 64, 64] \t [1, 1, 1, 1, 1] \t 0 \t adam \t 0.0001 \t 64 \t 10 \t 0.10914018354853805 \t 0.961868941783905\n",
            "[64, 64, 64, 128, 128] \t [1, 1, 1, 1, 1] \t 0 \t adam \t 0.001 \t 64 \t 10 \t 0.08827386205869894 \t 0.9747583270072937\n",
            "[32, 64, 128] \t [1, 0, 1, 0, 1] \t 0 \t adam \t 0.0001 \t 64 \t 10 \t 0.1011656987231733 \t 0.9645542502403259\n",
            "[32, 64, 128] \t [1, 1, 1, 1, 1] \t 0 \t RMSprop \t 0.001 \t 64 \t 10 \t 0.3754693109674177 \t 0.8614392876625061\n",
            "[64, 64, 64, 128, 128] \t [1, 0, 1, 0, 1] \t 0.2 \t adam \t 0.001 \t 64 \t 10 \t 0.11608098648592557 \t 0.9656283855438232\n",
            "[32, 64, 128] \t [1, 1, 1, 1, 1] \t 0.2 \t RMSprop \t 0.0001 \t 64 \t 10 \t 1.1003739607193288 \t 0.6385607123374939\n",
            "[32, 64, 128] \t [1, 1, 1, 1, 1] \t 0.2 \t RMSprop \t 0.0001 \t 64 \t 10 \t 1.065641270160163 \t 0.6863587498664856\n",
            "[64, 64, 64, 128, 128] \t [1, 0, 1, 0, 1] \t 0 \t RMSprop \t 0.001 \t 64 \t 10 \t 0.4015452420032882 \t 0.8490869998931885\n",
            "[64, 64, 64] \t [1, 0, 1, 0, 1] \t 0.2 \t RMSprop \t 0.0001 \t 64 \t 10 \t 0.898747837761163 \t 0.6450053453445435\n",
            "[64, 64, 64, 128, 128] \t [1, 1, 1, 1, 1] \t 0.2 \t RMSprop \t 0.0001 \t 64 \t 10 \t 1.3473258033858975 \t 0.33673468232154846\n",
            "[32, 64, 128] \t [1, 0, 1, 0, 1] \t 0 \t adam \t 0.0001 \t 64 \t 10 \t 0.0983920712444119 \t 0.9704618453979492\n",
            "[64, 64, 64] \t [1, 0, 1, 0, 1] \t 0 \t adam \t 0.0001 \t 64 \t 10 \t 0.10297607099107206 \t 0.9640172123908997\n",
            "[64, 64, 64, 128, 128] \t [1, 1, 1, 1, 1] \t 0 \t adam \t 0.001 \t 64 \t 10 \t 0.0977679562974255 \t 0.967239499092102\n",
            "[64, 64, 64, 128, 128] \t [1, 1, 1, 1, 1] \t 0 \t RMSprop \t 0.0001 \t 64 \t 10 \t 1.3586561104920958 \t 0.3093447983264923\n",
            "[64, 64, 64] \t [1, 1, 1, 1, 1] \t 0.2 \t RMSprop \t 0.0001 \t 64 \t 10 \t 1.3455353406779107 \t 0.5886144042015076\n",
            "[64, 64, 64, 128, 128] \t [1, 1, 1, 1, 1] \t 0 \t RMSprop \t 0.001 \t 64 \t 10 \t 1.0511904947227617 \t 0.8023630380630493\n",
            "[32, 64, 128] \t [1, 0, 1, 0, 1] \t 0 \t RMSprop \t 0.0001 \t 64 \t 10 \t 0.7393660512697812 \t 0.7051557302474976\n",
            "[64, 64, 64] \t [1, 1, 1, 1, 1] \t 0.2 \t RMSprop \t 0.001 \t 64 \t 10 \t 0.5339766134508954 \t 0.7588614225387573\n",
            "[32, 64, 128] \t [1, 1, 1, 1, 1] \t 0.2 \t adam \t 0.0001 \t 64 \t 10 \t 0.15785037464473226 \t 0.9468313455581665\n",
            "[64, 64, 64] \t [1, 0, 1, 0, 1] \t 0.2 \t adam \t 0.001 \t 64 \t 10 \t 0.11150554713626042 \t 0.9634801149368286\n",
            "[32, 64, 128] \t [1, 1, 1, 1, 1] \t 0 \t adam \t 0.0001 \t 64 \t 10 \t 0.10137733962750972 \t 0.9661654233932495\n",
            "[64, 64, 64] \t [1, 1, 1, 1, 1] \t 0 \t adam \t 0.001 \t 64 \t 10 \t 0.0930555137924682 \t 0.969924807548523\n",
            "[64, 64, 64, 128, 128] \t [1, 0, 1, 0, 1] \t 0 \t RMSprop \t 0.0001 \t 64 \t 10 \t 1.3736321323028056 \t 0.6471536159515381\n",
            "[64, 64, 64] \t [1, 0, 1, 0, 1] \t 0.2 \t adam \t 0.0001 \t 64 \t 10 \t 0.11210960902025568 \t 0.9661654233932495\n",
            "[64, 64, 64] \t [1, 0, 1, 0, 1] \t 0 \t adam \t 0.001 \t 64 \t 10 \t 0.10887612823034795 \t 0.9774436354637146\n",
            "[32, 64, 128] \t [1, 1, 1, 1, 1] \t 0.2 \t adam \t 0.001 \t 64 \t 10 \t 0.08594308635089887 \t 0.9736841917037964\n",
            "[32, 64, 128] \t [1, 0, 1, 0, 1] \t 0.2 \t adam \t 0.001 \t 64 \t 10 \t 0.12984978045495957 \t 0.9602577686309814\n",
            "[64, 64, 64, 128, 128] \t [1, 0, 1, 0, 1] \t 0 \t RMSprop \t 0.0001 \t 64 \t 10 \t 1.3445538880361523 \t 0.33673468232154846\n",
            "[32, 64, 128] \t [1, 0, 1, 0, 1] \t 0 \t RMSprop \t 0.001 \t 64 \t 10 \t 0.28678814104881245 \t 0.8920515775680542\n",
            "\t\n",
            "BestTopology\tBestDropout\tBestAlgorithm\tBestLRate\tBestBatchSize\tBestEpochs\tBestValLoss\tBestValAcc\n",
            "\n",
            "([64, 64, 64], [1, 0, 1, 0, 1], 0, 'adam', 0.001, 64, 10) \t 0.9774436354637146\n"
          ],
          "name": "stdout"
        }
      ]
    },
    {
      "cell_type": "markdown",
      "metadata": {
        "colab_type": "text",
        "id": "9Ms7427ztOF9"
      },
      "source": [
        "O output anterior indicia:\n",
        "* melhor performance com o algoritmo **Adam**\n",
        "* velocidade de aprendizagem **0.001** é preferível"
      ]
    },
    {
      "cell_type": "markdown",
      "metadata": {
        "colab_type": "text",
        "id": "2u9MvA2qeNGw"
      },
      "source": [
        "Das hipóteses testadas, identifica-se como mais preditivo um modelo com:\n",
        "* 3 camadas convolucionais de 64 filtros, intercaladas com camadas de pooling\n",
        "* ausência de dropout\n",
        "* algoritmo de treino: Adam\n",
        "* velocidade de aprendizagem: 0.001\n",
        "\n",
        "Para os parâmetros ótimos de algoritmo, batch-size e learning-rate selecionados, testam-se algumas topologias adicionais:"
      ]
    },
    {
      "cell_type": "code",
      "metadata": {
        "colab_type": "code",
        "id": "VPVEqJ8KvfrD",
        "colab": {}
      },
      "source": [
        "opt_pars = {\n",
        "     \"topology_c\":[[64,64],[64,64,64], [32,32,32], [128,128,128], [32,64,128], [64,64,64,128,128]],\n",
        "     \"topology_p\":[[1,1,1,1,1], [1,0,1,0,1]],#pooling constante ou intercalado\n",
        "     \"algorithm\": [\"adam\"],\n",
        "     \"lr\": [0.001], \n",
        "     \"dropout\": [0, 0.2],\n",
        "     \"batch_size\":  [64],\n",
        "     \"epochs\":[10]\n",
        "     }"
      ],
      "execution_count": 0,
      "outputs": []
    },
    {
      "cell_type": "code",
      "metadata": {
        "colab_type": "code",
        "id": "x8bR7drNRySt",
        "outputId": "addc292b-0ace-41ad-a55a-c798016e97e7",
        "colab": {
          "base_uri": "https://localhost:8080/",
          "height": 277
        }
      },
      "source": [
        "best_config, best_val_acc,best_model,best_history= cnn_optimization(opt_pars, X_train2, y_train2, X_val2, y_val2, 10,verbose = True)"
      ],
      "execution_count": 0,
      "outputs": [
        {
          "output_type": "stream",
          "text": [
            "Topology\tDropout\tAlgorithm\tLRate\tBatchSize\tEpochs\tValLoss\tValAcc\n",
            "\n",
            "[64, 64, 64, 128, 128] \t [1, 1, 1, 1, 1] \t 0 \t adam \t 0.001 \t 64 \t 10 \t 0.14309149499978593 \t 0.9570354223251343\n",
            "[32, 64, 128] \t [1, 0, 1, 0, 1] \t 0.2 \t adam \t 0.001 \t 64 \t 10 \t 0.11148770051087012 \t 0.9709989428520203\n",
            "[64, 64, 64] \t [1, 0, 1, 0, 1] \t 0 \t adam \t 0.001 \t 64 \t 10 \t 0.12002976178106572 \t 0.9688506722450256\n",
            "[64, 64, 64] \t [1, 1, 1, 1, 1] \t 0.2 \t adam \t 0.001 \t 64 \t 10 \t 0.1159377159544784 \t 0.9613319039344788\n",
            "[64, 64, 64] \t [1, 1, 1, 1, 1] \t 0 \t adam \t 0.001 \t 64 \t 10 \t 0.10594627390806709 \t 0.9688506722450256\n",
            "[128, 128, 128] \t [1, 0, 1, 0, 1] \t 0 \t adam \t 0.001 \t 64 \t 10 \t 0.1549760333525475 \t 0.9645542502403259\n",
            "[128, 128, 128] \t [1, 0, 1, 0, 1] \t 0 \t adam \t 0.001 \t 64 \t 10 \t 0.11035098346744521 \t 0.9677765965461731\n",
            "[32, 64, 128] \t [1, 0, 1, 0, 1] \t 0.2 \t adam \t 0.001 \t 64 \t 10 \t 0.11134747069261 \t 0.9656283855438232\n",
            "[64, 64, 64, 128, 128] \t [1, 1, 1, 1, 1] \t 0 \t adam \t 0.001 \t 64 \t 10 \t 0.09671446394523411 \t 0.9645542502403259\n",
            "[32, 64, 128] \t [1, 0, 1, 0, 1] \t 0 \t adam \t 0.001 \t 64 \t 10 \t 0.21398059010633722 \t 0.9473684430122375\n",
            "\t\n",
            "BestTopology\tBestDropout\tBestAlgorithm\tBestLRate\tBestBatchSize\tBestEpochs\tBestValLoss\tBestValAcc\n",
            "\n",
            "([32, 64, 128], [1, 0, 1, 0, 1], 0.2, 'adam', 0.001, 64, 10) \t 0.9709989428520203\n"
          ],
          "name": "stdout"
        }
      ]
    },
    {
      "cell_type": "markdown",
      "metadata": {
        "colab_type": "text",
        "id": "6rrm6Mq5wLJT"
      },
      "source": [
        "Treina-se de seguida a melhor configuração identificada para o modelo num conjunto de dados que engloba os dados de treino e validação."
      ]
    },
    {
      "cell_type": "code",
      "metadata": {
        "colab_type": "code",
        "id": "AaMN2uddkyRV",
        "outputId": "877465f5-4d3a-412e-aece-a03bd3892926",
        "colab": {
          "base_uri": "https://localhost:8080/",
          "height": 82
        }
      },
      "source": [
        "#unir treino e validação para uma última corrida com o modelo ótimo\n",
        "X_train_total=np.append(X_train2,X_val2)\n",
        "y_train_total=np.append(y_train2,y_val2)\n",
        "X_train_total=X_train_total.reshape(X_train2.shape[0]+X_val2.shape[0],200,200,1)\n",
        "y_train_total=y_train_total.reshape(y_train2.shape[0]+y_val2.shape[0],)\n",
        "print(X_train2.shape )\n",
        "print(X_val2.shape )\n",
        "print(X_train_total.shape)\n",
        "print(y_train_total.shape)"
      ],
      "execution_count": 0,
      "outputs": [
        {
          "output_type": "stream",
          "text": [
            "(4342, 200, 200, 1)\n",
            "(1862, 200, 200, 1)\n",
            "(6204, 200, 200, 1)\n",
            "(6204,)\n"
          ],
          "name": "stdout"
        }
      ]
    },
    {
      "cell_type": "code",
      "metadata": {
        "colab_type": "code",
        "id": "zmlJYxCmRyhv",
        "outputId": "c8619f2e-2093-428c-eae7-5773e45c967a",
        "colab": {
          "base_uri": "https://localhost:8080/",
          "height": 66
        }
      },
      "source": [
        "print(\"Best configuration:\", best_config)\n",
        "print(\"Best validation accuracy:\", best_val_acc)\n",
        "best_model = setup_model(best_config[0], best_config[1],best_config[2], X_train2.shape[0],y_train2.shape[0])\n",
        "best_model, best_history = train_cnn(best_model, best_config[3], best_config[4], X_train_total,y_train_total,best_config[5],50)\n",
        "test_loo, test_acc = best_model.evaluate(X_test2, y_test2, verbose = 0)\n",
        "print(\"Test set metrics:\", test_loo, test_acc)"
      ],
      "execution_count": 0,
      "outputs": [
        {
          "output_type": "stream",
          "text": [
            "Best configuration: ([32, 64, 128], [1, 0, 1, 0, 1], 0.2, 'adam', 0.001, 64, 10)\n",
            "Best validation accuracy: 0.9709989428520203\n",
            "Test set metrics: 0.21137263964617728 0.9759308099746704\n"
          ],
          "name": "stdout"
        }
      ]
    },
    {
      "cell_type": "code",
      "metadata": {
        "colab_type": "code",
        "id": "ggaUG4W46dG-",
        "outputId": "e75e34b2-e060-4e92-bb33-b64cbc4b9882",
        "colab": {
          "base_uri": "https://localhost:8080/",
          "height": 1000
        }
      },
      "source": [
        "best_model.summary()\n",
        "camadas(best_model)\n",
        "output_metrics2(best_model,best_history,X_test2, y_test2)"
      ],
      "execution_count": 0,
      "outputs": [
        {
          "output_type": "stream",
          "text": [
            "Model: \"sequential_47\"\n",
            "_________________________________________________________________\n",
            "Layer (type)                 Output Shape              Param #   \n",
            "=================================================================\n",
            "conv2d_163 (Conv2D)          (None, 198, 198, 32)      320       \n",
            "_________________________________________________________________\n",
            "max_pooling2d_135 (MaxPoolin (None, 99, 99, 32)        0         \n",
            "_________________________________________________________________\n",
            "dropout_76 (Dropout)         (None, 99, 99, 32)        0         \n",
            "_________________________________________________________________\n",
            "conv2d_164 (Conv2D)          (None, 97, 97, 64)        18496     \n",
            "_________________________________________________________________\n",
            "dropout_77 (Dropout)         (None, 97, 97, 64)        0         \n",
            "_________________________________________________________________\n",
            "conv2d_165 (Conv2D)          (None, 95, 95, 128)       73856     \n",
            "_________________________________________________________________\n",
            "max_pooling2d_136 (MaxPoolin (None, 47, 47, 128)       0         \n",
            "_________________________________________________________________\n",
            "dropout_78 (Dropout)         (None, 47, 47, 128)       0         \n",
            "_________________________________________________________________\n",
            "flatten_47 (Flatten)         (None, 282752)            0         \n",
            "_________________________________________________________________\n",
            "dropout_79 (Dropout)         (None, 282752)            0         \n",
            "_________________________________________________________________\n",
            "dense_139 (Dense)            (None, 64)                18096192  \n",
            "_________________________________________________________________\n",
            "dense_140 (Dense)            (None, 16)                1040      \n",
            "_________________________________________________________________\n",
            "dense_141 (Dense)            (None, 4)                 68        \n",
            "=================================================================\n",
            "Total params: 18,189,972\n",
            "Trainable params: 18,189,972\n",
            "Non-trainable params: 0\n",
            "_________________________________________________________________\n",
            "Camadas convolucionais:\n",
            "conv2d_163 (3, 3, 1, 32)\n",
            "conv2d_164 (3, 3, 32, 64)\n",
            "conv2d_165 (3, 3, 64, 128)\n",
            "Camadas fully connected:\n",
            "dense_139 (282752, 64)\n",
            "dense_140 (64, 16)\n",
            "dense_141 (16, 4)\n",
            "imagens saída de Capas Convolucionais:\n"
          ],
          "name": "stdout"
        },
        {
          "output_type": "display_data",
          "data": {
            "image/png": "[encoded data removed]",
            "text/plain": [
              "<Figure size 1440x1440 with 6 Axes>"
            ]
          },
          "metadata": {
            "tags": []
          }
        },
        {
          "output_type": "stream",
          "text": [
            "Predicted    0    1    2\n",
            "Actual                  \n",
            "0          886    1    6\n",
            "1            4  869   37\n",
            "2            1   15  840\n",
            "accuracy total: 0.9759308010530274\n",
            "precision covid: 0.9943883277216611\n",
            "recall covid: 0.9921612541993281\n",
            "precision total: 0.9758705366441364\n",
            "recall total: 0.9761382401197789\n",
            "label precision recall\n",
            "    0     0.994  0.992\n",
            "    1     0.982  0.955\n",
            "    2     0.951  0.981\n",
            "2659/2659 [==============================] - 4s 2ms/step\n",
            "[0.21137263964617728, 0.9759308099746704]\n"
          ],
          "name": "stdout"
        },
        {
          "output_type": "display_data",
          "data": {
            "image/png": "[encoded data removed]",
            "text/plain": [
              "<Figure size 864x288 with 2 Axes>"
            ]
          },
          "metadata": {
            "tags": [],
            "needs_background": "light"
          }
        }
      ]
    },
    {
      "cell_type": "code",
      "metadata": {
        "colab_type": "code",
        "id": "7UJuzig_hqcR",
        "colab": {}
      },
      "source": [
        "model_save_name = 'best_model.sav'\n",
        "path = F\"/content/{model_save_name}\" \n",
        "torch.save(best_model, path)"
      ],
      "execution_count": 0,
      "outputs": []
    },
    {
      "cell_type": "markdown",
      "metadata": {
        "colab_type": "text",
        "id": "wsJa0zjxfSz0"
      },
      "source": [
        "O modelo dinal, avaliado no conjunto de teste, apresenta uma **performance global de 97%**, identificando **99% dos casos COVID-19**.\n",
        "\n",
        "O maior erro está associado a pacientes normais classificados com pneumonia viral ou bacteriana (84 casos). Apesar de ser um erro, este não é o erro mais grave: são considerados erros graves as classificações de casos patológicos como casos normais (20+39 em 2.637, 2,2%)."
      ]
    },
    {
      "cell_type": "markdown",
      "metadata": {
        "colab_type": "text",
        "id": "G4Aksr8oFPGU"
      },
      "source": [
        "Casos COVID-19 marcados como normais:"
      ]
    },
    {
      "cell_type": "code",
      "metadata": {
        "colab_type": "code",
        "id": "deSGHFs7Dmhn",
        "outputId": "7cb2cf34-96fc-40d4-e7e3-67a3f5632f7f",
        "colab": {
          "base_uri": "https://localhost:8080/",
          "height": 101
        }
      },
      "source": [
        "y_pred_3class2=np.argmax(best_model.predict(X_test2),axis=1)\n",
        "\n",
        "index2=[]\n",
        "for i in range(0,len(y_test2),1):\n",
        "  if ((y_test2[i] ==0) & (y_pred_3class2[i]==3)):#erro COVID-> normal\n",
        "    index2.append(i)\n",
        "\n",
        "plt.subplots_adjust(wspace=0, hspace=0)\n",
        "i_ = 0\n",
        "plt.rcParams['figure.figsize'] = (10.0, 10.0)\n",
        "print('COVID-19 marcado como normal:')\n",
        "for l in index2[:169]:\n",
        "    #print(i_)    \n",
        "    plt.subplot(10, 10, i_+1) #.set_title(l)\n",
        "    i_ += 1\n",
        "    im = X_test2[l]\n",
        "    im = im[:,:,0]\n",
        "    plt.imshow(im, cmap=\"gray\")\n",
        "    plt.axis('off')"
      ],
      "execution_count": 0,
      "outputs": [
        {
          "output_type": "stream",
          "text": [
            "COVID-19 marcado como normal:\n"
          ],
          "name": "stdout"
        },
        {
          "output_type": "display_data",
          "data": {
            "image/png": "[encoded data removed]",
            "text/plain": [
              "<Figure size 720x720 with 6 Axes>"
            ]
          },
          "metadata": {
            "tags": [],
            "needs_background": "light"
          }
        }
      ]
    },
    {
      "cell_type": "markdown",
      "metadata": {
        "colab_type": "text",
        "id": "flthivmyFfRL"
      },
      "source": [
        "Duas das imagens não são esperadas numa situação real: TAC e imagem incompleta."
      ]
    },
    {
      "cell_type": "markdown",
      "metadata": {
        "colab_type": "text",
        "id": "rlew9-tCzkPB"
      },
      "source": [
        "### Machine learning"
      ]
    },
    {
      "cell_type": "code",
      "metadata": {
        "colab_type": "code",
        "id": "THqMkc2KzpDh",
        "colab": {}
      },
      "source": [
        "X_train_4, X_test_4, y_train_4, y_test_4 = train_test_split(X_all_vec,y_all2, test_size = 0.3,random_state=10)\n",
        "\n",
        "from sklearn.neighbors import KNeighborsClassifier\n",
        "knn = KNeighborsClassifier(n_neighbors=1,p=1, weights='uniform')\n",
        "knn_model_3=knn.fit(X_train_4, y_train_4)\n",
        "print(knn_model_3)\n",
        "Y_pred_test = knn_model_3.predict(X_test_4)\n",
        "\n",
        "conf_mat=confusion_matrix(y_test_4,knn.predict(X_test_4))\n",
        "conf_mat=pd.DataFrame(conf_mat)\n",
        "conf_mat.index.name='Actual'\n",
        "conf_mat.columns.name='Predicted'\n",
        "knn_model_score=knn_model.score(X_test_4, y_test_4)\n",
        "print(conf_mat)\n",
        "print('Score:',knn_model_score)\n",
        "model_save_name = 'knn_model_3.sav'\n",
        "path = F\"/content/{model_save_name}\" \n",
        "torch.save(knn_model_3, path)"
      ],
      "execution_count": 0,
      "outputs": []
    },
    {
      "cell_type": "markdown",
      "metadata": {
        "colab_type": "text",
        "id": "qLirNCcA1lvI"
      },
      "source": [
        "### 15. API funcional\n",
        "### 15.1 Versão 1"
      ]
    },
    {
      "cell_type": "code",
      "metadata": {
        "colab_type": "code",
        "id": "OUXyXoXd1MNj",
        "outputId": "ed805149-962a-459e-af67-7fbb0e567cb6",
        "colab": {
          "base_uri": "https://localhost:8080/",
          "height": 1000
        }
      },
      "source": [
        "visible = Input(shape=(200,200,1))\n",
        "# first feature extractor\n",
        "conv1 = Conv2D(64, kernel_size=4, activation='relu')(visible)\n",
        "pool1 = MaxPooling2D(pool_size=(2, 2))(conv1)\n",
        "conv2 = Conv2D(64, kernel_size=4, activation='relu')(pool1)\n",
        "pool2 = MaxPooling2D(pool_size=(2, 2))(conv2)\n",
        "conv3 = Conv2D(64, kernel_size=4, activation='relu')(pool2)\n",
        "pool3 = MaxPooling2D(pool_size=(2, 2))(conv3)\n",
        "flat1 = Flatten()(pool3)\n",
        "# second feature extractor\n",
        "\n",
        "conv2_1 = Conv2D(32, kernel_size=4, activation='relu')(visible)\n",
        "pool2_1 = AveragePooling2D(pool_size=(2, 2))(conv2_1)\n",
        "conv2_2 = Conv2D(32, kernel_size=4, activation='relu')(pool2_1)\n",
        "pool2_2 = AveragePooling2D(pool_size=(2, 2))(conv2_2)\n",
        "conv2_3 = Conv2D(32, kernel_size=4, activation='relu')(pool2_2)\n",
        "pool2_2 = AveragePooling2D(pool_size=(2, 2))(conv2_3)\n",
        "flat2 = Flatten()(pool2_2)\n",
        "# merge feature extractors\n",
        "merge = concatenate([flat1, flat2])\n",
        "# interpretation layer\n",
        "hidden1 = Dense(128, activation='relu')(merge)\n",
        "hidden2 = Dense(64, activation='relu')(hidden1)\n",
        "hidden3 = Dense(32, activation='relu')(hidden2)    \n",
        "# prediction output\n",
        "output = Dense(4, activation='softmax')(hidden3)\n",
        "model8 = Model(inputs=visible, outputs=output)\n",
        "model8.compile(optimizers.Adam(lr=0.00001),loss='sparse_categorical_crossentropy',metrics=['accuracy'])\n",
        "history8=model8.fit(X_train2, y_train2, epochs=50,validation_data=(X_val2,y_val2))"
      ],
      "execution_count": 0,
      "outputs": [
        {
          "output_type": "stream",
          "text": [
            "Train on 4342 samples, validate on 1862 samples\n",
            "Epoch 1/50\n",
            "4342/4342 [==============================] - 31s 7ms/step - loss: 1.0659 - accuracy: 0.7395 - val_loss: 0.6243 - val_accuracy: 0.8636\n",
            "Epoch 2/50\n",
            "4342/4342 [==============================] - 30s 7ms/step - loss: 0.4766 - accuracy: 0.8542 - val_loss: 0.4059 - val_accuracy: 0.8432\n",
            "Epoch 3/50\n",
            "4342/4342 [==============================] - 30s 7ms/step - loss: 0.3321 - accuracy: 0.8904 - val_loss: 0.2969 - val_accuracy: 0.8958\n",
            "Epoch 4/50\n",
            "4342/4342 [==============================] - 31s 7ms/step - loss: 0.2656 - accuracy: 0.9111 - val_loss: 0.2490 - val_accuracy: 0.9184\n",
            "Epoch 5/50\n",
            "4342/4342 [==============================] - 31s 7ms/step - loss: 0.2384 - accuracy: 0.9162 - val_loss: 0.2325 - val_accuracy: 0.9243\n",
            "Epoch 6/50\n",
            "4342/4342 [==============================] - 31s 7ms/step - loss: 0.2085 - accuracy: 0.9270 - val_loss: 0.1999 - val_accuracy: 0.9307\n",
            "Epoch 7/50\n",
            "4342/4342 [==============================] - 31s 7ms/step - loss: 0.1890 - accuracy: 0.9337 - val_loss: 0.1883 - val_accuracy: 0.9361\n",
            "Epoch 8/50\n",
            "4342/4342 [==============================] - 31s 7ms/step - loss: 0.1757 - accuracy: 0.9387 - val_loss: 0.1792 - val_accuracy: 0.9361\n",
            "Epoch 9/50\n",
            "4342/4342 [==============================] - 31s 7ms/step - loss: 0.1666 - accuracy: 0.9433 - val_loss: 0.1680 - val_accuracy: 0.9393\n",
            "Epoch 10/50\n",
            "4342/4342 [==============================] - 31s 7ms/step - loss: 0.1577 - accuracy: 0.9477 - val_loss: 0.1610 - val_accuracy: 0.9436\n",
            "Epoch 11/50\n",
            "4342/4342 [==============================] - 31s 7ms/step - loss: 0.1499 - accuracy: 0.9473 - val_loss: 0.1875 - val_accuracy: 0.9350\n",
            "Epoch 12/50\n",
            "4342/4342 [==============================] - 31s 7ms/step - loss: 0.1440 - accuracy: 0.9468 - val_loss: 0.1528 - val_accuracy: 0.9441\n",
            "Epoch 13/50\n",
            "4342/4342 [==============================] - 31s 7ms/step - loss: 0.1441 - accuracy: 0.9475 - val_loss: 0.1412 - val_accuracy: 0.9474\n",
            "Epoch 14/50\n",
            "4342/4342 [==============================] - 31s 7ms/step - loss: 0.1300 - accuracy: 0.9532 - val_loss: 0.1542 - val_accuracy: 0.9447\n",
            "Epoch 15/50\n",
            "4342/4342 [==============================] - 31s 7ms/step - loss: 0.1258 - accuracy: 0.9549 - val_loss: 0.1349 - val_accuracy: 0.9495\n",
            "Epoch 16/50\n",
            "4342/4342 [==============================] - 31s 7ms/step - loss: 0.1262 - accuracy: 0.9546 - val_loss: 0.1284 - val_accuracy: 0.9527\n",
            "Epoch 17/50\n",
            "4342/4342 [==============================] - 31s 7ms/step - loss: 0.1239 - accuracy: 0.9560 - val_loss: 0.1486 - val_accuracy: 0.9447\n",
            "Epoch 18/50\n",
            "4342/4342 [==============================] - 31s 7ms/step - loss: 0.1191 - accuracy: 0.9569 - val_loss: 0.1573 - val_accuracy: 0.9398\n",
            "Epoch 19/50\n",
            "4342/4342 [==============================] - 31s 7ms/step - loss: 0.1156 - accuracy: 0.9581 - val_loss: 0.1239 - val_accuracy: 0.9549\n",
            "Epoch 20/50\n",
            "4342/4342 [==============================] - 31s 7ms/step - loss: 0.1122 - accuracy: 0.9634 - val_loss: 0.1225 - val_accuracy: 0.9576\n",
            "Epoch 21/50\n",
            "4342/4342 [==============================] - 31s 7ms/step - loss: 0.1110 - accuracy: 0.9629 - val_loss: 0.1214 - val_accuracy: 0.9554\n",
            "Epoch 22/50\n",
            "4342/4342 [==============================] - 31s 7ms/step - loss: 0.1102 - accuracy: 0.9638 - val_loss: 0.1155 - val_accuracy: 0.9565\n",
            "Epoch 23/50\n",
            "4342/4342 [==============================] - 31s 7ms/step - loss: 0.1086 - accuracy: 0.9629 - val_loss: 0.1132 - val_accuracy: 0.9613\n",
            "Epoch 24/50\n",
            "4342/4342 [==============================] - 31s 7ms/step - loss: 0.1053 - accuracy: 0.9632 - val_loss: 0.1210 - val_accuracy: 0.9603\n",
            "Epoch 25/50\n",
            "4342/4342 [==============================] - 31s 7ms/step - loss: 0.1026 - accuracy: 0.9652 - val_loss: 0.1112 - val_accuracy: 0.9613\n",
            "Epoch 26/50\n",
            "4342/4342 [==============================] - 31s 7ms/step - loss: 0.1057 - accuracy: 0.9629 - val_loss: 0.1135 - val_accuracy: 0.9597\n",
            "Epoch 27/50\n",
            "4342/4342 [==============================] - 31s 7ms/step - loss: 0.1014 - accuracy: 0.9655 - val_loss: 0.1165 - val_accuracy: 0.9592\n",
            "Epoch 28/50\n",
            "4342/4342 [==============================] - 31s 7ms/step - loss: 0.1037 - accuracy: 0.9648 - val_loss: 0.1065 - val_accuracy: 0.9613\n",
            "Epoch 29/50\n",
            "4342/4342 [==============================] - 31s 7ms/step - loss: 0.0930 - accuracy: 0.9712 - val_loss: 0.1102 - val_accuracy: 0.9603\n",
            "Epoch 30/50\n",
            "4342/4342 [==============================] - 31s 7ms/step - loss: 0.0919 - accuracy: 0.9673 - val_loss: 0.1014 - val_accuracy: 0.9619\n",
            "Epoch 31/50\n",
            "4342/4342 [==============================] - 31s 7ms/step - loss: 0.0986 - accuracy: 0.9655 - val_loss: 0.1189 - val_accuracy: 0.9592\n",
            "Epoch 32/50\n",
            "4342/4342 [==============================] - 31s 7ms/step - loss: 0.0904 - accuracy: 0.9684 - val_loss: 0.1027 - val_accuracy: 0.9613\n",
            "Epoch 33/50\n",
            "4342/4342 [==============================] - 31s 7ms/step - loss: 0.0921 - accuracy: 0.9701 - val_loss: 0.1040 - val_accuracy: 0.9629\n",
            "Epoch 34/50\n",
            "4342/4342 [==============================] - 31s 7ms/step - loss: 0.0925 - accuracy: 0.9703 - val_loss: 0.0986 - val_accuracy: 0.9662\n",
            "Epoch 35/50\n",
            "4342/4342 [==============================] - 31s 7ms/step - loss: 0.0861 - accuracy: 0.9726 - val_loss: 0.0961 - val_accuracy: 0.9646\n",
            "Epoch 36/50\n",
            "4342/4342 [==============================] - 31s 7ms/step - loss: 0.0843 - accuracy: 0.9744 - val_loss: 0.1082 - val_accuracy: 0.9619\n",
            "Epoch 37/50\n",
            "4342/4342 [==============================] - 31s 7ms/step - loss: 0.0862 - accuracy: 0.9710 - val_loss: 0.0969 - val_accuracy: 0.9651\n",
            "Epoch 38/50\n",
            "4342/4342 [==============================] - 31s 7ms/step - loss: 0.0817 - accuracy: 0.9721 - val_loss: 0.1144 - val_accuracy: 0.9597\n",
            "Epoch 39/50\n",
            "4342/4342 [==============================] - 31s 7ms/step - loss: 0.0855 - accuracy: 0.9698 - val_loss: 0.1056 - val_accuracy: 0.9597\n",
            "Epoch 40/50\n",
            "4342/4342 [==============================] - 31s 7ms/step - loss: 0.0815 - accuracy: 0.9724 - val_loss: 0.0971 - val_accuracy: 0.9640\n",
            "Epoch 41/50\n",
            "4342/4342 [==============================] - 31s 7ms/step - loss: 0.0804 - accuracy: 0.9719 - val_loss: 0.1310 - val_accuracy: 0.9544\n",
            "Epoch 42/50\n",
            "4342/4342 [==============================] - 31s 7ms/step - loss: 0.0761 - accuracy: 0.9760 - val_loss: 0.1006 - val_accuracy: 0.9672\n",
            "Epoch 43/50\n",
            "4342/4342 [==============================] - 31s 7ms/step - loss: 0.0838 - accuracy: 0.9721 - val_loss: 0.0935 - val_accuracy: 0.9646\n",
            "Epoch 44/50\n",
            "4342/4342 [==============================] - 31s 7ms/step - loss: 0.0735 - accuracy: 0.9772 - val_loss: 0.0938 - val_accuracy: 0.9678\n",
            "Epoch 45/50\n",
            "4342/4342 [==============================] - 31s 7ms/step - loss: 0.0758 - accuracy: 0.9756 - val_loss: 0.0911 - val_accuracy: 0.9683\n",
            "Epoch 46/50\n",
            "4342/4342 [==============================] - 31s 7ms/step - loss: 0.0727 - accuracy: 0.9749 - val_loss: 0.0898 - val_accuracy: 0.9667\n",
            "Epoch 47/50\n",
            "4342/4342 [==============================] - 31s 7ms/step - loss: 0.0715 - accuracy: 0.9779 - val_loss: 0.0939 - val_accuracy: 0.9678\n",
            "Epoch 48/50\n",
            "4342/4342 [==============================] - 31s 7ms/step - loss: 0.0699 - accuracy: 0.9767 - val_loss: 0.1061 - val_accuracy: 0.9635\n",
            "Epoch 49/50\n",
            "4342/4342 [==============================] - 31s 7ms/step - loss: 0.0717 - accuracy: 0.9754 - val_loss: 0.0983 - val_accuracy: 0.9651\n",
            "Epoch 50/50\n",
            "4342/4342 [==============================] - 31s 7ms/step - loss: 0.0685 - accuracy: 0.9779 - val_loss: 0.0952 - val_accuracy: 0.9619\n"
          ],
          "name": "stdout"
        }
      ]
    },
    {
      "cell_type": "code",
      "metadata": {
        "colab_type": "code",
        "id": "t9XCK9MqYRXr",
        "colab": {}
      },
      "source": [
        "model8.summary()\n",
        "output_metrics(model8,history8,X_test2, y_test2)"
      ],
      "execution_count": 0,
      "outputs": []
    },
    {
      "cell_type": "markdown",
      "metadata": {
        "colab_type": "text",
        "id": "TAB56nzRYlT3"
      },
      "source": [
        "### 15.2 Versão 2"
      ]
    },
    {
      "cell_type": "code",
      "metadata": {
        "colab_type": "code",
        "id": "LPCoxJ-GYgab",
        "outputId": "d754e522-847e-47c5-99a8-c84c3b552ea4",
        "colab": {
          "base_uri": "https://localhost:8080/",
          "height": 1000
        }
      },
      "source": [
        "visible = Input(shape=(200,200,1))\n",
        "# first feature extractor\n",
        "conv1 = Conv2D(64, kernel_size=4, activation='relu')(visible)\n",
        "pool1 = MaxPooling2D(pool_size=(2, 2))(conv1)\n",
        "conv2 = Conv2D(64, kernel_size=4, activation='relu')(pool1)\n",
        "pool2 = MaxPooling2D(pool_size=(2, 2))(conv2)\n",
        "conv3 = Conv2D(64, kernel_size=4, activation='relu')(pool2)\n",
        "pool3 = MaxPooling2D(pool_size=(2, 2))(conv3)\n",
        "flat1 = Flatten()(pool3)\n",
        "# second feature extractor\n",
        "\n",
        "conv2_1 = Conv2D(32, kernel_size=4, activation='relu')(visible)\n",
        "pool2_1 = AveragePooling2D(pool_size=(2, 2))(conv2_1)\n",
        "conv2_2 = Conv2D(32, kernel_size=4, activation='relu')(pool2_1)\n",
        "pool2_2 = AveragePooling2D(pool_size=(2, 2))(conv2_2)\n",
        "conv2_3 = Conv2D(32, kernel_size=4, activation='relu')(pool2_2)\n",
        "pool2_2 = AveragePooling2D(pool_size=(2, 2))(conv2_3)\n",
        "flat2 = Flatten()(pool2_2)\n",
        "# merge feature extractors\n",
        "merge = concatenate([flat1, flat2])\n",
        "# interpretation layer\n",
        "hidden1 = Dense(128, activation='relu')(merge)\n",
        "hidden2 = Dense(64, activation='relu',)(hidden1)\n",
        "hidden3 = Dense(32, activation='relu')(hidden2)\n",
        "hidden4 = Dense(16, activation='relu')(hidden3)\n",
        "hidden5 = Dense(32, activation='relu')(hidden4)\n",
        "hidden6 = Dense(16, activation='relu')(hidden5)\n",
        "hidden7 = Dense(8, activation='relu')(hidden6)\n",
        "\n",
        "hidden1_1 = Dense(128, activation='relu')(merge)\n",
        "hidden2_1 = Dense(64, activation='relu')(hidden1_1)\n",
        "hidden3_1 = Dense(32, activation='relu')(hidden2_1)\n",
        "hidden4_1 = Dense(32, activation='relu')(hidden3_1)\n",
        "concatenated = concatenate([hidden3, hidden4_1])\n",
        "output = Dense(4, activation='sigmoid')(concatenated)\n",
        "model9 = Model(inputs=visible, outputs=output)\n",
        "\n",
        "model9.compile(optimizers.Adam(lr=0.00001),loss='sparse_categorical_crossentropy',metrics=['accuracy'])\n",
        "history9=model9.fit(X_train2, y_train2, epochs=50,validation_data=(X_val2,y_val2))"
      ],
      "execution_count": 0,
      "outputs": [
        {
          "output_type": "stream",
          "text": [
            "Train on 4342 samples, validate on 1862 samples\n",
            "Epoch 1/50\n",
            "4342/4342 [==============================] - 32s 7ms/step - loss: 1.0296 - accuracy: 0.5963 - val_loss: 0.6654 - val_accuracy: 0.6074\n",
            "Epoch 2/50\n",
            "4342/4342 [==============================] - 31s 7ms/step - loss: 0.4886 - accuracy: 0.8075 - val_loss: 0.4207 - val_accuracy: 0.8083\n",
            "Epoch 3/50\n",
            "4342/4342 [==============================] - 31s 7ms/step - loss: 0.3307 - accuracy: 0.8807 - val_loss: 0.3051 - val_accuracy: 0.8770\n",
            "Epoch 4/50\n",
            "4342/4342 [==============================] - 32s 7ms/step - loss: 0.2766 - accuracy: 0.9023 - val_loss: 0.2655 - val_accuracy: 0.8985\n",
            "Epoch 5/50\n",
            "4342/4342 [==============================] - 32s 7ms/step - loss: 0.2407 - accuracy: 0.9152 - val_loss: 0.2424 - val_accuracy: 0.9119\n",
            "Epoch 6/50\n",
            "4342/4342 [==============================] - 31s 7ms/step - loss: 0.2185 - accuracy: 0.9212 - val_loss: 0.2077 - val_accuracy: 0.9248\n",
            "Epoch 7/50\n",
            "4342/4342 [==============================] - 32s 7ms/step - loss: 0.2052 - accuracy: 0.9277 - val_loss: 0.2486 - val_accuracy: 0.9028\n",
            "Epoch 8/50\n",
            "4342/4342 [==============================] - 32s 7ms/step - loss: 0.2038 - accuracy: 0.9240 - val_loss: 0.1915 - val_accuracy: 0.9291\n",
            "Epoch 9/50\n",
            "4342/4342 [==============================] - 32s 7ms/step - loss: 0.1866 - accuracy: 0.9339 - val_loss: 0.1845 - val_accuracy: 0.9334\n",
            "Epoch 10/50\n",
            "4342/4342 [==============================] - 32s 7ms/step - loss: 0.1710 - accuracy: 0.9406 - val_loss: 0.1754 - val_accuracy: 0.9350\n",
            "Epoch 11/50\n",
            "4342/4342 [==============================] - 32s 7ms/step - loss: 0.1620 - accuracy: 0.9445 - val_loss: 0.1740 - val_accuracy: 0.9372\n",
            "Epoch 12/50\n",
            "4342/4342 [==============================] - 32s 7ms/step - loss: 0.1569 - accuracy: 0.9456 - val_loss: 0.1606 - val_accuracy: 0.9452\n",
            "Epoch 13/50\n",
            "4342/4342 [==============================] - 32s 7ms/step - loss: 0.1516 - accuracy: 0.9480 - val_loss: 0.1572 - val_accuracy: 0.9415\n",
            "Epoch 14/50\n",
            "4342/4342 [==============================] - 32s 7ms/step - loss: 0.1465 - accuracy: 0.9477 - val_loss: 0.2564 - val_accuracy: 0.9141\n",
            "Epoch 15/50\n",
            "4342/4342 [==============================] - 32s 7ms/step - loss: 0.1478 - accuracy: 0.9463 - val_loss: 0.1560 - val_accuracy: 0.9463\n",
            "Epoch 16/50\n",
            "4342/4342 [==============================] - 32s 7ms/step - loss: 0.1490 - accuracy: 0.9456 - val_loss: 0.1915 - val_accuracy: 0.9264\n",
            "Epoch 17/50\n",
            "4342/4342 [==============================] - 32s 7ms/step - loss: 0.1469 - accuracy: 0.9456 - val_loss: 0.1664 - val_accuracy: 0.9398\n",
            "Epoch 18/50\n",
            "4342/4342 [==============================] - 32s 7ms/step - loss: 0.1347 - accuracy: 0.9528 - val_loss: 0.1421 - val_accuracy: 0.9506\n",
            "Epoch 19/50\n",
            "4342/4342 [==============================] - 32s 7ms/step - loss: 0.1346 - accuracy: 0.9521 - val_loss: 0.1357 - val_accuracy: 0.9517\n",
            "Epoch 20/50\n",
            "4342/4342 [==============================] - 32s 7ms/step - loss: 0.1284 - accuracy: 0.9558 - val_loss: 0.1293 - val_accuracy: 0.9522\n",
            "Epoch 21/50\n",
            "4342/4342 [==============================] - 32s 7ms/step - loss: 0.1248 - accuracy: 0.9574 - val_loss: 0.1259 - val_accuracy: 0.9527\n",
            "Epoch 22/50\n",
            "4342/4342 [==============================] - 32s 7ms/step - loss: 0.1206 - accuracy: 0.9567 - val_loss: 0.1334 - val_accuracy: 0.9490\n",
            "Epoch 23/50\n",
            "4342/4342 [==============================] - 32s 7ms/step - loss: 0.1162 - accuracy: 0.9595 - val_loss: 0.1618 - val_accuracy: 0.9409\n",
            "Epoch 24/50\n",
            "4342/4342 [==============================] - 32s 7ms/step - loss: 0.1112 - accuracy: 0.9599 - val_loss: 0.1514 - val_accuracy: 0.9436\n",
            "Epoch 25/50\n",
            "4342/4342 [==============================] - 32s 7ms/step - loss: 0.1126 - accuracy: 0.9611 - val_loss: 0.1581 - val_accuracy: 0.9441\n",
            "Epoch 26/50\n",
            "4342/4342 [==============================] - 32s 7ms/step - loss: 0.1126 - accuracy: 0.9629 - val_loss: 0.1337 - val_accuracy: 0.9501\n",
            "Epoch 27/50\n",
            "4342/4342 [==============================] - 32s 7ms/step - loss: 0.1056 - accuracy: 0.9632 - val_loss: 0.1275 - val_accuracy: 0.9517\n",
            "Epoch 28/50\n",
            "4342/4342 [==============================] - 32s 7ms/step - loss: 0.1070 - accuracy: 0.9636 - val_loss: 0.1367 - val_accuracy: 0.9511\n",
            "Epoch 29/50\n",
            "4342/4342 [==============================] - 32s 7ms/step - loss: 0.1061 - accuracy: 0.9622 - val_loss: 0.1170 - val_accuracy: 0.9576\n",
            "Epoch 30/50\n",
            "4342/4342 [==============================] - 32s 7ms/step - loss: 0.1053 - accuracy: 0.9627 - val_loss: 0.1553 - val_accuracy: 0.9425\n",
            "Epoch 31/50\n",
            "4342/4342 [==============================] - 32s 7ms/step - loss: 0.1006 - accuracy: 0.9652 - val_loss: 0.1123 - val_accuracy: 0.9586\n",
            "Epoch 32/50\n",
            "4342/4342 [==============================] - 32s 7ms/step - loss: 0.0952 - accuracy: 0.9664 - val_loss: 0.1942 - val_accuracy: 0.9323\n",
            "Epoch 33/50\n",
            "4342/4342 [==============================] - 32s 7ms/step - loss: 0.0983 - accuracy: 0.9687 - val_loss: 0.1372 - val_accuracy: 0.9511\n",
            "Epoch 34/50\n",
            "4342/4342 [==============================] - 32s 7ms/step - loss: 0.0949 - accuracy: 0.9701 - val_loss: 0.1196 - val_accuracy: 0.9597\n",
            "Epoch 35/50\n",
            "4342/4342 [==============================] - 32s 7ms/step - loss: 0.0950 - accuracy: 0.9678 - val_loss: 0.1099 - val_accuracy: 0.9592\n",
            "Epoch 36/50\n",
            "4342/4342 [==============================] - 32s 7ms/step - loss: 0.0937 - accuracy: 0.9673 - val_loss: 0.1123 - val_accuracy: 0.9613\n",
            "Epoch 37/50\n",
            "4342/4342 [==============================] - 32s 7ms/step - loss: 0.0862 - accuracy: 0.9724 - val_loss: 0.1326 - val_accuracy: 0.9522\n",
            "Epoch 38/50\n",
            "4342/4342 [==============================] - 32s 7ms/step - loss: 0.0839 - accuracy: 0.9721 - val_loss: 0.1097 - val_accuracy: 0.9613\n",
            "Epoch 39/50\n",
            "4342/4342 [==============================] - 32s 7ms/step - loss: 0.0888 - accuracy: 0.9705 - val_loss: 0.1064 - val_accuracy: 0.9629\n",
            "Epoch 40/50\n",
            "4342/4342 [==============================] - 32s 7ms/step - loss: 0.0857 - accuracy: 0.9717 - val_loss: 0.1079 - val_accuracy: 0.9597\n",
            "Epoch 41/50\n",
            "4342/4342 [==============================] - 32s 7ms/step - loss: 0.0861 - accuracy: 0.9710 - val_loss: 0.0979 - val_accuracy: 0.9646\n",
            "Epoch 42/50\n",
            "4342/4342 [==============================] - 32s 7ms/step - loss: 0.0827 - accuracy: 0.9726 - val_loss: 0.1033 - val_accuracy: 0.9624\n",
            "Epoch 43/50\n",
            "4342/4342 [==============================] - 32s 7ms/step - loss: 0.0838 - accuracy: 0.9714 - val_loss: 0.0969 - val_accuracy: 0.9635\n",
            "Epoch 44/50\n",
            "4342/4342 [==============================] - 32s 7ms/step - loss: 0.0811 - accuracy: 0.9737 - val_loss: 0.1036 - val_accuracy: 0.9624\n",
            "Epoch 45/50\n",
            "4342/4342 [==============================] - 32s 7ms/step - loss: 0.0780 - accuracy: 0.9749 - val_loss: 0.1098 - val_accuracy: 0.9640\n",
            "Epoch 46/50\n",
            "4342/4342 [==============================] - 32s 7ms/step - loss: 0.0748 - accuracy: 0.9744 - val_loss: 0.0959 - val_accuracy: 0.9640\n",
            "Epoch 47/50\n",
            "4342/4342 [==============================] - 32s 7ms/step - loss: 0.0744 - accuracy: 0.9756 - val_loss: 0.1098 - val_accuracy: 0.9586\n",
            "Epoch 48/50\n",
            "4342/4342 [==============================] - 32s 7ms/step - loss: 0.0768 - accuracy: 0.9740 - val_loss: 0.1194 - val_accuracy: 0.9597\n",
            "Epoch 49/50\n",
            "4342/4342 [==============================] - 32s 7ms/step - loss: 0.0794 - accuracy: 0.9719 - val_loss: 0.1024 - val_accuracy: 0.9651\n",
            "Epoch 50/50\n",
            "4342/4342 [==============================] - 32s 7ms/step - loss: 0.0723 - accuracy: 0.9781 - val_loss: 0.0956 - val_accuracy: 0.9672\n"
          ],
          "name": "stdout"
        }
      ]
    },
    {
      "cell_type": "markdown",
      "metadata": {
        "colab_type": "text",
        "id": "aIzmOhGZgo-q"
      },
      "source": [
        "O modelo apresenta uma performance de 90%."
      ]
    },
    {
      "cell_type": "markdown",
      "metadata": {
        "colab_type": "text",
        "id": "UhF7rzUZGxQO"
      },
      "source": [
        "### 15.3 Versão 3"
      ]
    },
    {
      "cell_type": "code",
      "metadata": {
        "colab_type": "code",
        "id": "fLLYlGZhG06l",
        "colab": {}
      },
      "source": [
        "visible = Input(shape=(200,200,1))\n",
        "# first feature extractor\n",
        "conv1 = Conv2D(64, kernel_size=3, activation='relu')(visible)\n",
        "pool1 = MaxPooling2D(pool_size=(2, 2))(conv1)\n",
        "conv2 = Conv2D(64, kernel_size=3, activation='relu')(pool1)\n",
        "conv3 = Conv2D(64, kernel_size=3, activation='relu')(conv2)\n",
        "pool3 = MaxPooling2D(pool_size=(2, 2))(conv3)\n",
        "flat1 = Flatten()(pool3)\n",
        "# second feature extractor\n",
        "\n",
        "conv2_1 = Conv2D(64, kernel_size=3, activation='relu')(visible)\n",
        "batc2_1= BatchNormalization()(conv2_1)\n",
        "\n",
        "pool2_1 = MaxPooling2D(pool_size=(2, 2))(batc2_1)\n",
        "drop2_1=Dropout(0.5)(pool2_1)\n",
        "conv2_2 = Conv2D(64, kernel_size=3, activation='relu')(drop2_1)\n",
        "batc2_2= BatchNormalization()(conv2_2)\n",
        "conv2_3 = Conv2D(64, kernel_size=3, activation='relu')(batc2_2)\n",
        "batc2_3= BatchNormalization()(conv2_3)\n",
        "pool2_2 = MaxPooling2D(pool_size=(2, 2))(batc2_3)\n",
        "drop2_2=Dropout(0.5)(pool2_2)\n",
        "conv2_4 = Conv2D(128, kernel_size=4, activation='relu')(drop2_2)\n",
        "batc2_3= BatchNormalization()(conv2_4)\n",
        "conv2_5 = Conv2D(128, kernel_size=4, activation='relu')(batc2_3)\n",
        "batc2_4= BatchNormalization()(conv2_5)\n",
        "pool2_3 = MaxPooling2D(pool_size=(2, 2))(batc2_4)\n",
        "drop2_3=Dropout(0.5)(pool2_3)\n",
        "\n",
        "flat2 = Flatten()(pool2_3)\n",
        "# merge feature extractors\n",
        "merge = concatenate([flat1, flat2])\n",
        "# interpretation layer\n",
        "drop2_4=Dropout(0.5)(merge)\n",
        "hidden1 = Dense(128, activation='relu')(drop2_4)\n",
        "hidden2 = Dense(64, activation='relu')(hidden1)\n",
        "hidden3 = Dense(32, activation='relu')(hidden2)    \n",
        "# prediction output\n",
        "output = Dense(4, activation='softmax')(hidden3)\n",
        "model10 = Model(inputs=visible, outputs=output)\n",
        "model10.compile(optimizers.Adam(lr=0.001),loss='sparse_categorical_crossentropy',metrics=['accuracy'])\n",
        "history10=model10.fit(X_train2, y_train2, epochs=10,validation_data=(X_val2,y_val2))"
      ],
      "execution_count": 0,
      "outputs": []
    },
    {
      "cell_type": "code",
      "metadata": {
        "colab_type": "code",
        "id": "1bZhM7yZYgkI",
        "colab": {}
      },
      "source": [
        "model10.summary()\n",
        "output_metrics(model10,history10,X_test2, y_test2)"
      ],
      "execution_count": 0,
      "outputs": []
    },
    {
      "cell_type": "markdown",
      "metadata": {
        "colab_type": "text",
        "id": "hArieFWA-7oz"
      },
      "source": [
        "### 16. Comparação de resultados"
      ]
    },
    {
      "cell_type": "code",
      "metadata": {
        "colab_type": "code",
        "id": "wTESQd5Y5IeQ",
        "outputId": "4c03472e-d009-4e49-de6a-5579b1c32ec7",
        "colab": {
          "base_uri": "https://localhost:8080/",
          "height": 282
        }
      },
      "source": [
        "\n",
        "Rfc=Accuracy_total_Rfc\n",
        "Rfc2=scores_rf2_mean\n",
        "ada=scores_ada_mean\n",
        "knn=knn_model_score\n",
        "CNN1=((history1.history['accuracy'])[-1])*100\n",
        "CNN2_drp_05=((history2.history['accuracy'])[-1])*100\n",
        "CNN3=((history3.history['accuracy'])[-1])*100\n",
        "CNN4_drp_02=((history4.history['accuracy'])[-1])*100\n",
        "CNN5=((history5.history['accuracy'])[-1])*100\n",
        "#CNN6=((history6.history['accuracy'])[-1])*100\n",
        "best_model_OP=((best_history.history['accuracy'])[-1])*100\n",
        "KNN_3=knn_model_score\n",
        "API1=((history8.history['accuracy'])[-1])*100\n",
        "API2=((history9.history['accuracy'])[-1])*100\n",
        "#API3=((history10.history['accuracy'])[-1])*100\n",
        "\n",
        "plt.figure(figsize=(18,4))\n",
        "ind = np.arange(15)\n",
        "width = 0.2\n",
        "##Accuracy_total_Rfc,scores_rf2_mean,scores_ada_mean,knn_model_score,history1,history2,history3,history4,history5##\n",
        "#3_label###model7,-->API->history8,history9,history10--->> \n",
        "#optimaz-->knn_model.score(X_test_4, y_test_4)\n",
        "labels = ['Rfc', 'Rfc2', 'ada_tree', 'knn', 'CNN1', 'CNN2_drp_0.5', 'CNN3', 'CNN4_drp_0.2','CNN5','CNN6','best_model_OP','KNN_3','API1','API2','API3']\n",
        "bar_08 = plt.bar(ind, [89.01, 86.76, 66.4, 87.92,85.22 , 87.02, 86.23,86.34,86.91,95.48,97.1,96.08,96.27,97,97.63], width, color='r', label='4_label')\n",
        "bar_18 = plt.bar(ind+width, [0, 0, 0, 0, 0, 0, 0,0,0,95.48,0,96.08,96.27,97.63,97], width, color='b', label='3_label')\n",
        "bar_28 = plt.bar(ind, [0, 0, 0, 0, 0, 0, 0,0,0,0,0,0,97.1,0,0,], width, color='g', label='opti_hiper_par')\n",
        "location = ind+width/2\n",
        "labels=labels\n",
        "plt.xticks(location, labels)\n",
        "plt.legend()# 85.22"
      ],
      "execution_count": 0,
      "outputs": [
        {
          "output_type": "execute_result",
          "data": {
            "text/plain": [
              "<matplotlib.legend.Legend at 0x7f0e4d277e80>"
            ]
          },
          "metadata": {
            "tags": []
          },
          "execution_count": 94
        },
        {
          "output_type": "display_data",
          "data": {
            "image/png": "[encoded data removed]",
            "text/plain": [
              "<Figure size 1296x288 with 1 Axes>"
            ]
          },
          "metadata": {
            "tags": [],
            "needs_background": "light"
          }
        }
      ]
    },
    {
      "cell_type": "code",
      "metadata": {
        "colab_type": "code",
        "id": "OWpwZcM8yVMF",
        "outputId": "dae1b8e7-843b-4b1c-b97d-a2e6a64ee661",
        "colab": {
          "base_uri": "https://localhost:8080/",
          "height": 627
        }
      },
      "source": [
        "with plt.style.context('Solarize_Light2'):\n",
        "    plt.plot((history1.history['accuracy']),label='CNN1')\n",
        "    plt.plot((history2.history['accuracy']),label='CNN2_drp_0.5')\n",
        "    plt.plot((history3.history['accuracy']),label='CNN3')\n",
        "    plt.plot((history4.history['accuracy']),label='CNN4_drp_0.2')\n",
        "    plt.plot((history5.history['accuracy']),label='CNN5')\n",
        "   # plt.plot((history6.history['accuracy']),label='CNN6')\n",
        "    plt.plot((best_history.history['accuracy']),label='best_model_OP')\n",
        "    plt.plot((history8.history['accuracy']),label='API1')\n",
        "    plt.plot((history9.history['accuracy']),label='API1')\n",
        "   # plt.plot((history10.history['accuracy']),label='API3_10_Epoch')    \n",
        "    # Number of accent colors in the color scheme\n",
        "    plt.title('ACCURENCY CNN - Line')\n",
        "    plt.xlabel('x label', fontsize=14)\n",
        "    plt.ylabel('y label', fontsize=14)\n",
        "    plt.legend(loc='best')\n",
        "\n",
        "plt.show()"
      ],
      "execution_count": 0,
      "outputs": [
        {
          "output_type": "display_data",
          "data": {
            "image/png": "[encoded data removed]",
            "text/plain": [
              "<Figure size 720x720 with 1 Axes>"
            ]
          },
          "metadata": {
            "tags": []
          }
        }
      ]
    },
    {
      "cell_type": "code",
      "metadata": {
        "colab_type": "code",
        "id": "uuwfoIZxymSE",
        "colab": {}
      },
      "source": [
        ""
      ],
      "execution_count": 0,
      "outputs": []
    }
  ]
}