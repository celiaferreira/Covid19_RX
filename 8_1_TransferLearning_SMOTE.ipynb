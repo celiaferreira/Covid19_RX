{
  "nbformat": 4,
  "nbformat_minor": 0,
  "metadata": {
    "accelerator": "GPU",
    "colab": {
      "name": "8_1_TransferLearning_SMOTE.ipynb",
      "provenance": [],
      "collapsed_sections": [],
      "toc_visible": true,
      "machine_shape": "hm",
      "include_colab_link": true
    },
    "kernelspec": {
      "display_name": "Python 3",
      "language": "python",
      "name": "python3"
    },
    "language_info": {
      "codemirror_mode": {
        "name": "ipython",
        "version": 3
      },
      "file_extension": ".py",
      "mimetype": "text/x-python",
      "name": "python",
      "nbconvert_exporter": "python",
      "pygments_lexer": "ipython3",
      "version": "3.7.4"
    }
  },
  "cells": [
    {
      "cell_type": "markdown",
      "metadata": {
        "id": "view-in-github",
        "colab_type": "text"
      },
      "source": [
        "<a href=\"https://colab.research.google.com/github/celiaferreira/Covid19_RX/blob/master/8_1_TransferLearning_SMOTE.ipynb\" target=\"_parent\"><img src=\"https://colab.research.google.com/assets/colab-badge.svg\" alt=\"Open In Colab\"/></a>"
      ]
    },
    {
      "cell_type": "markdown",
      "metadata": {
        "id": "PfHWgLJ-iCdi",
        "colab_type": "text"
     },
      "source": [
        "### 8.1. Transfer learning\n",
        "\n",
        "In this section we evaluate the predictive power of pre-trained networks: **InceptionResNetV2** and **ResNet50**.\n",
        "\n",
        "•\tThe convolutional layers closest to the model's input layer learn low-level features, such as lines.\n",
        "\n",
        "•\tIntermediate layers learn abstract and complex features that combine lower-level features extracted from the input.\n",
        "\n",
        "•\tThe layers closest to the output interpret the extracted features in the context of a classification task.\n",
        "\n",
        "Thus, when using weights from pre-trained networks, it may be convenient to allow them to be updated to better fit the problem.\n",
        "\n",
        "\n"
      ]
    },
    {
      "cell_type": "markdown",
      "metadata": {
        "id": "N_RXahzviCZ7",
        "colab_type": "text"
      },
      "source": [
        "### 8.1.1. InceptionResNetV2: imagenet weights | Untrainable\n",
        "\n",
        "The first model uses the InceptionResNetV2 network. We will use the imagenet pre-trained weights and calculate the outputs of pre-trained networks for our training cases. These outputs will be used as inputs in a complementary connected network, which will be trained. will allow the feature extraction part to be retrained.\n",
        "\n",
        "Since X-ray images are very different from *imagenet* images, we anticipate that training the weights of the convolutional layers will be necessary.\n"
      ]
    },
    {
      "cell_type": "code",
      "metadata": {
        "id": "2yESPPRsLJ-z",
        "colab_type": "code",
        "colab": {
          "base_uri": "https://localhost:8080/",
          "height": 50
        },
        "outputId": "29c79721-0587-487a-afae-87e1ae92d25b"
      },
      "source": [
        "from keras.applications import InceptionResNetV2, ResNet50\n",
        "InceptionResNetV2_model1 = InceptionResNetV2(weights='imagenet',include_top=False, input_shape=(200,200,3))\n",
        "#Inception-ResNet-v2 combines the advantages of Inception networks and residual connections to achieve state-of-the-art accuracy on the ILSVRC image classification benchmark"
      ],
      "execution_count": null,
      "outputs": [
        {
          "output_type": "stream",
          "text": [
            "Downloading data from https://github.com/fchollet/deep-learning-models/releases/download/v0.7/inception_resnet_v2_weights_tf_dim_ordering_tf_kernels_notop.h5\n",
            "219062272/219055592 [==============================] - 5s 0us/step\n"
          ],
          "name": "stdout"
        }
      ]
    },
    {
      "cell_type": "markdown",
      "metadata": {
        "id": "vcqKPZBAWWNz",
        "colab_type": "text"
      },
      "source": [
        "Since our input images are already pre-processed, they will only be converted to RGB and the predictive power of the **InceptionResNetV2** network will be evaluated, to avoid a new import without any pre-processing."
      ]
    },
    {
      "cell_type": "code",
      "metadata": {
        "id": "EdN2dIQZMdQZ",
        "colab_type": "code",
        "colab": {}
      },
      "source": [
        "#By default, the model expects color input images to be rescaled to the size of 224×224 squares.\n",
        "\n",
        "X_over3_rgb = X_over3.reshape(len(y_over3),200,200)\n",
        "\n",
        "print(X_over3_rgb.shape) \n",
        "X_over3_rgb = np.repeat(X_over3_rgb[..., np.newaxis], 3, -1)\n",
        "print(X_over3_rgb.shape)\n",
        "\n",
        "X_val_rgb = X_val.reshape(len(y_val3),200,200)\n",
        "X_val_rgb = np.repeat(X_val_rgb[..., np.newaxis], 3, -1)\n",
        "print(X_val_rgb.shape)\n",
        "\n",
        "X_test_rgb = X_test.reshape(len(y_test3),200,200)\n",
        "X_test_rgb = np.repeat(X_test_rgb[..., np.newaxis], 3, -1)\n",
        "print(X_test_rgb.shape)"
      ],
      "execution_count": null,
      "outputs": []
    },
    {
      "cell_type": "markdown",
      "metadata": {
        "id": "hP4eqG-uXBSj",
        "colab_type": "text"
      },
      "source": [
      "We present the model that uses the InceptionResNetV2 network, combined with dropout layers to minimize overfitting. It is also identified that the weights of the convolutional layers should not be trained."
      ]
    },
    {
      "cell_type": "code",
      "metadata": {
        "id": "Telsv5NsfiLm",
        "colab_type": "code",
        "colab": {}
      },
      "source": [
        "headModel = InceptionResNetV2_model1.output\n",
        "headModel = Dropout(0.5)(headModel)\n",
        "headModel = Flatten()(headModel)\n",
        "\n",
        "headModel=Dense(64,activation='relu')(headModel) \n",
        "headModel = Dropout(0.5)(headModel)\n",
        "headModel=Dense(16,activation='relu')(headModel)\n",
        "headModel = Dropout(0.5)(headModel) \n",
        "headModel=Dense(3,activation='softmax')(headModel)\n",
        "model11 = Model(inputs=InceptionResNetV2_model1.input, outputs=headModel)\n",
        "\n",
        "for layer in InceptionResNetV2_model1.layers:\n",
        "    layer.trainable = False\n",
        "\n",
        "model11.compile(optimizers.Adam(lr=0.001),loss='sparse_categorical_crossentropy',metrics=['acc'])"
      ],
      "execution_count": null,
      "outputs": []
    },
    {
      "cell_type": "code",
      "metadata": {
        "id": "RHNRRPyzfiIU",
        "colab_type": "code",
        "colab": {}
      },
      "source": [
        "history11=model11.fit(X_over3_rgb, y_over3, epochs=20, validation_data=(X_val_rgb,y_val3), callbacks = callbacks, verbose=0)"
      ],
      "execution_count": null,
      "outputs": []
    },
    {
      "cell_type": "code",
      "metadata": {
        "id": "dAAh1YlsQonb",
        "colab_type": "code",
        "colab": {
          "base_uri": "https://localhost:8080/",
          "height": 555
        },
        "outputId": "e9fe1565-501f-4e5b-f424-1dbd9672ad19"
      },
      "source": [
        "output_metrics_b(model11,history11,X_test_rgb, y_test3)"
      ],
      "execution_count": null,
      "outputs": [
        {
          "output_type": "stream",
          "text": [
            "Predicted    0    1    2\n",
            "Actual                  \n",
            "0          193  132    5\n",
            "1            1  754  148\n",
            "2            0  115  759\n",
            "accuracy total: 0.8096820123398196\n",
            "precision covid: 0.9948453608247423\n",
            "recall covid: 0.5848484848484848\n",
            "precision total: 0.8601096520589196\n",
            "recall total: 0.7627546667938345\n",
            "label precision recall\n",
            "    0     0.995  0.585\n",
            "    1     0.753  0.835\n",
            "    2     0.832  0.868\n",
            "2107/2107 [==============================] - 10s 5ms/step\n",
            "[0.5115011525369109, 0.8096820116043091]\n"
          ],
          "name": "stdout"
        },
        {
          "output_type": "display_data",
          "data": {
            "image/png": "[encoded data removed]",
            "text/plain": [
              "<Figure size 864x288 with 2 Axes>"
            ]
          },
          "metadata": {
            "tags": [],
            "needs_background": "light"
          }
        }
      ]
    },
    {
      "cell_type": "markdown",
      "metadata": {
        "id": "JvCvGSPMXhcW",
        "colab_type": "text"
      },
      "source": [
        "The model achieves an overall performance of 81%, lower than previous models. However, the biggest problem is the COVID recall: only 58.5% of cases are identified, which is very poor, despite training for 18 epochs.\n",
        "\n",
        "The graphs also present greater instability in the validation set, as well as overfitting, despite the dropout layers used.\n",
        "\n",
        "As expected, the weights/features learned in imagenet are not being very useful for identifying COVID in X-ray images."
      ]
    },
    {
      "cell_type": "markdown",
      "metadata": {
        "id": "Ydo7-Y8aXhX2",
        "colab_type": "text"
      },
      "source": [
       "### 8.1.2. InceptionResNetV2: imagenet weights | Trainable\n",
        "\n",
        "Although using *imagenet* weights, in this section we will allow the last layers (which learn more specific aspects of the problems under analysis) to be retrained.\n",
        "\n",
        "Let's identify the name of the network layers:"
      ]
    },
    {
      "cell_type": "code",
      "metadata": {
        "id": "x6BDIN2EGBHM",
        "colab_type": "code",
        "colab": {}
      },
      "source": [
        "#InceptionResNetV2_model1.summary()"
      ],
      "execution_count": null,
      "outputs": []
    },
    {
      "cell_type": "markdown",
      "metadata": {
        "id": "kCZBncE8Bpkt",
        "colab_type": "text"
      },
      "source": [
        "We will allow the training of the layers **block8_10_conv**, **conv_7b** and **conv_7b_bn** (other networks were also trained, but the results did not improve):"
      ]
    },
    {
      "cell_type": "code",
      "metadata": {
        "id": "wX0abYD7fiBO",
        "colab_type": "code",
        "colab": {}
      },
      "source": [
        "InceptionResNetV2_model1.trainable = True\n",
        "#treinar últimos layers\n",
        "set_trainable = False\n",
        "for layer in InceptionResNetV2_model1.layers:\n",
        "    if layer.name in ( 'block8_10_conv', 'conv_7b','conv_7b_bn'):\n",
        "      #'block8_9_conv', 'conv2d_201', 'conv2d_202', 'conv2d_200', 'conv2d_203',\n",
        "        set_trainable = True\n",
        "    if set_trainable:\n",
        "        layer.trainable = True\n",
        "    else:\n",
        "        layer.trainable = False\n",
        "                \n",
        "headModel = InceptionResNetV2_model1.output\n",
        "headModel = Dropout(0.5)(headModel)\n",
        "headModel = Flatten()(headModel)\n",
        "headModel=Dense(64,activation='relu')(headModel) \n",
        "headModel = Dropout(0.5)(headModel)\n",
        "headModel=Dense(16,activation='relu')(headModel) \n",
        "headModel = Dropout(0.5)(headModel)\n",
        "headModel=Dense(3,activation='softmax')(headModel)\n",
        "model11b = Model(inputs=InceptionResNetV2_model1.input, outputs=headModel)\n",
        "\n",
        "model11b.compile(optimizers.Adam(lr=0.001),loss='sparse_categorical_crossentropy',metrics=['acc'])"
      ],
      "execution_count": null,
      "outputs": []
    },
    {
      "cell_type": "code",
      "metadata": {
        "id": "LYc5_nSvpZZU",
        "colab_type": "code",
        "colab": {
          "base_uri": "https://localhost:8080/",
          "height": 33
        },
        "outputId": "9af1bf15-7fe0-4118-9e67-2b04d16066c1"
      },
      "source": [
        "history11b=model11b.fit(X_over3_rgb, y_over3, epochs=20,validation_data=(X_val_rgb,y_val3), callbacks = callbacks,verbose=0)"
      ],
      "execution_count": null,
      "outputs": [
        {
          "output_type": "stream",
          "text": [
            "Epoch 00019: early stopping\n"
          ],
          "name": "stdout"
        }
      ]
    },
    {
      "cell_type": "code",
      "metadata": {
        "id": "edRHLPppW93B",
        "colab_type": "code",
        "colab": {
          "base_uri": "https://localhost:8080/",
          "height": 555
        },
        "outputId": "b13c5e1a-d232-4002-e572-ddd97fca0b44"
      },
      "source": [
        "output_metrics_b(model11b,history11b,X_test_rgb, y_test3)"
      ],
      "execution_count": null,
      "outputs": [
        {
          "output_type": "stream",
          "text": [
            "Predicted    0    1    2\n",
            "Actual                  \n",
            "0          280   30   20\n",
            "1          199  313  391\n",
            "2           65  151  658\n",
            "accuracy total: 0.593735168485999\n",
            "precision covid: 0.5147058823529411\n",
            "recall covid: 0.8484848484848485\n",
            "precision total: 0.587945884185679\n",
            "recall total: 0.6493225434207819\n",
            "label precision recall\n",
            "    0     0.515  0.848\n",
            "    1     0.634  0.347\n",
            "    2     0.616  0.753\n",
            "2107/2107 [==============================] - 10s 5ms/step\n",
            "[4.539995085304814, 0.5937351584434509]\n"
          ],
          "name": "stdout"
        },
        {
          "output_type": "display_data",
          "data": {
            "image/png": "[encoded data removed]",
            "text/plain": [
              "<Figure size 864x288 with 2 Axes>"
            ]
          },
          "metadata": {
            "tags": [],
            "needs_background": "light"
          }
        }
      ]
    },
    {
      "cell_type": "markdown",
      "metadata": {
        "id": "wkf7mskJaQfv",
        "colab_type": "text"
      },
      "source": [
        "After 19 epochs, the model achieves an even lower overall performance: 59.4%, but identifying 84.4% COVID cases: the model makes fewer mistakes in COVID, but more in general. It also reveals a high overfitting. Conclusion- If so, the direct use of *imagenet* weights does not present good results in our problem."
      ]
    },
    {
      "cell_type": "markdown",
      "metadata": {
        "id": "aMuJFTy5aQrf",
        "colab_type": "text"
      },
      "source": [
        "### 8.1.3. InceptionResNetV2: use topology | Trainable weights"
      ]
    },
    {
      "cell_type": "markdown",
      "metadata": {
        "id": "vR_Qlf-6SQrc",
        "colab_type": "text"
      },
      "source": [
        "In this section we will use the **InceptionResNetV2** pre-trained model architecture on our dataset, but without using the pre-trained weights: the model will be initialized with random weights and trained from scratch. To do this, we configure the argument **weights=None**, instead of weights='Imagenet'."
      ]
    },
    {
      "cell_type": "code",
      "metadata": {
        "id": "FLrPWAMViQvA",
        "colab_type": "code",
        "colab": {}
      },
      "source": [
        "#Inception-ResNet-v2 combines the advantages of Inception networks and residual connections to achieve state-of-the-art accuracy on the ILSVRC image classification benchmark"
      ],
      "execution_count": null,
      "outputs": []
    },
    {
      "cell_type": "markdown",
      "metadata": {
        "id": "0kMgWxjPZoYo",
        "colab_type": "text"
      },
      "source": [
        "In this approach we will only use the InceptionResNetV2 network architecture on our dataset, but without using the pre-trained weights, which will be randomly initialized and re-trained from scratch."
      ]
    },
    {
      "cell_type": "code",
      "metadata": {
        "id": "HMZvjk0eiNP4",
        "colab_type": "code",
        "colab": {}
      },
      "source": [
        "InceptionResNetV2_model = InceptionResNetV2(weights=None, include_top=False,\tinput_tensor=Input(shape=(200, 200, 1)))"
      ],
      "execution_count": null,
      "outputs": []
    },
    {
      "cell_type": "markdown",
      "metadata": {
        "id": "O8CCPcTjcf47",
        "colab_type": "text"
      },
      "source": [
       "To the model we combined dropout layers to control overfitting and the usual fully-connected layer."
      ]
    },
    {
      "cell_type": "code",
      "metadata": {
        "id": "qYV6c-pHiP0b",
        "colab_type": "code",
        "colab": {}
      },
      "source": [
        "headModel = InceptionResNetV2_model.output\n",
        "headModel = Dropout(0.5)(headModel)\n",
        "headModel = Flatten()(headModel)\n",
        "headModel=Dense(64,activation='relu')(headModel) \n",
        "headModel = Dropout(0.2)(headModel)\n",
        "headModel=Dense(16,activation='relu')(headModel) \n",
        "headModel = Dropout(0.2)(headModel)\n",
        "headModel=Dense(3,activation='softmax')(headModel)\n",
        "model11c = Model(inputs=InceptionResNetV2_model.input, outputs=headModel)"
      ],
      "execution_count": null,
      "outputs": []
    },
    {
      "cell_type": "markdown",
      "metadata": {
        "id": "dWZ-hxcScrJy",
        "colab_type": "text"
      },
      "source": [
        "We give instructions to train the weights and start the training:"
      ]
    },
    {
      "cell_type": "code",
      "metadata": {
        "id": "sx6QGbnkiWbY",
        "colab_type": "code",
        "colab": {
          "base_uri": "https://localhost:8080/",
          "height": 33
        },
        "outputId": "1cf81fc0-e415-469c-f029-efcd42a1dfc9"
      },
      "source": [
        "InceptionResNetV2_model.trainable = True\n",
        "\n",
        "model11c.compile(optimizers.Adam(lr=0.001),loss='sparse_categorical_crossentropy',metrics=['accuracy'])\n",
        "history11c=model11c.fit(X_over3, y_over3, epochs=50,validation_data=(X_val,y_val3),callbacks = callbacks, verbose=0)"
      ],
      "execution_count": null,
      "outputs": [
        {
          "output_type": "stream",
          "text": [
            "Epoch 00020: early stopping\n"
          ],
          "name": "stdout"
        }
      ]
    },
    {
      "cell_type": "code",
      "metadata": {
        "id": "9i9RljnCe72E",
        "colab_type": "code",
        "colab": {
          "base_uri": "https://localhost:8080/",
          "height": 555
        },
        "outputId": "abbfa931-9e09-41e1-80ca-8fe6a6e10348"
      },
      "source": [
        "output_metrics(model11c,history11c,X_test, y_test3)"
      ],
      "execution_count": null,
      "outputs": [
        {
          "output_type": "stream",
          "text": [
            "Predicted    0    1    2\n",
            "Actual                  \n",
            "0          325    6    7\n",
            "1           19  803   80\n",
            "2            6   15  846\n",
            "accuracy total: 0.9368770764119602\n",
            "precision covid: 0.9285714285714286\n",
            "recall covid: 0.9615384615384616\n",
            "precision total: 0.9366128010845959\n",
            "recall total: 0.9425203035634295\n",
            "label precision recall\n",
            "    0     0.929  0.962\n",
            "    1     0.975  0.890\n",
            "    2     0.907  0.976\n",
            "2107/2107 [==============================] - 9s 4ms/step\n",
            "[0.2698990872362297, 0.9368770718574524]\n"
          ],
          "name": "stdout"
        },
        {
          "output_type": "display_data",
          "data": {
            "image/png": "[encoded data removed]",
            "text/plain": [
              "<Figure size 864x288 with 2 Axes>"
            ]
          },
          "metadata": {
            "tags": [],
            "needs_background": "light"
          }
        }
      ]
    },
    {
      "cell_type": "markdown",
      "metadata": {
        "id": "poUKyRiCdFDS",
        "colab_type": "text"
      },
      "source": [
        "This model gives interesting results:\n",
        "\n",
        "* overall performance of 93.7%\n",
        "* COVID recall: 96.2%\n",
        "* absence of overfitting\n",
        "\n",
        "This is because the weights were trained from the feature extractor layer for our problem."
      ]
    },
    {
      "cell_type": "markdown",
      "metadata": {
        "id": "wuR9f7BJiqPx",
        "colab_type": "text"
      },
      "source": [
        "### 8.1.4. ResNet50: Frozen layers\n",
        "\n",
        "Nesta secção usamos mais um modelo de TL: o ResNet50, para comparar a performance com a rede anterior.\n",
        "\n",
        "Começamos por importar os pesos da rede Resnet50:"
      ]
    },
    {
      "cell_type": "code",
      "metadata": {
        "id": "I_n7gq5MiiSP",
        "colab_type": "code",
        "colab": {
          "base_uri": "https://localhost:8080/",
          "height": 50
        },
        "outputId": "0423eef9-fba2-4bdb-de1d-30fb853324ce"
      },
      "source": [
        "WEIGHTS_PATH_NO_TOP = 'https://github.com/fchollet/deep-learning-models/releases/download/v0.2/resnet50_weights_tf_dim_ordering_tf_kernels_notop.h5'\n",
        "\n",
        "from keras.utils.data_utils import get_file\n",
        "weights_path = get_file('resnet50_weights_tf_dim_ordering_tf_kernels_notop.h5',\n",
        "                                    WEIGHTS_PATH_NO_TOP,\n",
        "                                    cache_subdir='models',\n",
        "                                    md5_hash='a268eb855778b3df3c7506639542a6af')\n"
      ],
      "execution_count": null,
      "outputs": [
        {
          "output_type": "stream",
          "text": [
            "Downloading data from https://github.com/fchollet/deep-learning-models/releases/download/v0.2/resnet50_weights_tf_dim_ordering_tf_kernels_notop.h5\n",
            "94658560/94653016 [==============================] - 2s 0us/step\n"
          ],
          "name": "stdout"
        }
      ]
    },
    {
      "cell_type": "markdown",
      "metadata": {
        "id": "CoSQdZ9Ziu6O",
        "colab_type": "text"
      },
      "source": [
        "Transformar imagens em RGB (3 canais), para usar weights de redes pré-treinadas."
      ]
    },
    {
      "cell_type": "code",
      "metadata": {
        "id": "vvX5XTkPix90",
        "colab_type": "code",
        "colab": {
          "base_uri": "https://localhost:8080/",
          "height": 147
        },
        "outputId": "9e154316-2c06-462a-ee3f-e2531e3668f7"
      },
      "source": [
        "print(X_train.shape)\n",
        "X_train2 = X_train.reshape(len(y_train3),200,200)\n",
        "X_train2 = np.repeat(X_train2[..., np.newaxis], 3, -1)\n",
        "print(X_train2.shape)  \n",
        "\n",
        "print(X_val.shape)\n",
        "X_val2 = X_val.reshape(len(y_val3),200,200)\n",
        "X_val2 = np.repeat(X_val2[..., np.newaxis], 3, -1)\n",
        "print(X_val2.shape)  \n",
        "\n",
        "\n",
        "print(X_test.shape)\n",
        "X_test2 = X_test.reshape(len(y_test3),200,200)\n",
        "X_test2 = np.repeat(X_test2[..., np.newaxis], 3, -1)\n",
        "print(X_test2.shape) \n",
        "\n",
        "print(X_over3.shape)\n",
        "X_over2 = X_over3.reshape(len(y_over3),200,200)\n",
        "X_over2 = np.repeat(X_over2[..., np.newaxis], 3, -1)\n",
        "print(X_over2.shape)  "
      ],
      "execution_count": null,
      "outputs": [
        {
          "output_type": "stream",
          "text": [
            "(3441, 200, 200, 1)\n",
            "(3441, 200, 200, 3)\n",
            "(1475, 200, 200, 1)\n",
            "(1475, 200, 200, 3)\n",
            "(2107, 200, 200, 1)\n",
            "(2107, 200, 200, 3)\n",
            "(4494, 200, 200, 1)\n",
            "(4494, 200, 200, 3)\n"
          ],
          "name": "stdout"
        }
      ]
    },
    {
      "cell_type": "markdown",
      "metadata": {
        "id": "tQksFyVqeKgQ",
        "colab_type": "text"
      },
      "source": [
        "Iremos usar os pesos importados da camada concolucional, excluíndo a camada fully-connected, de classificação, da rede resnet50."
      ]
    },
    {
      "cell_type": "code",
      "metadata": {
        "id": "mMxnNFgUIa7S",
        "colab_type": "code",
        "colab": {
          "base_uri": "https://localhost:8080/",
          "height": 70
        },
        "outputId": "2d660275-9c8b-4a86-a6dd-73c3c7198484"
      },
      "source": [
        "ResNet50_model = ResNet50(weights=weights_path, include_top=False,\tinput_tensor=Input(shape=(200, 200, 3)))"
      ],
      "execution_count": null,
      "outputs": [
        {
          "output_type": "stream",
          "text": [
            "/usr/local/lib/python3.6/dist-packages/keras_applications/resnet50.py:265: UserWarning: The output shape of `ResNet50(include_top=False)` has been changed since Keras 2.2.0.\n",
            "  warnings.warn('The output shape of `ResNet50(include_top=False)` '\n"
          ],
          "name": "stderr"
        }
      ]
    },
    {
      "cell_type": "markdown",
      "metadata": {
        "id": "qqeFiEGueXbk",
        "colab_type": "text"
      },
      "source": [
        "Especificamos o modelo conjugando a rede Resnet50 com camadas de dropout e fully-connected:"
      ]
    },
    {
      "cell_type": "code",
      "metadata": {
        "id": "RPijOWwki1oa",
        "colab_type": "code",
        "colab": {}
      },
      "source": [
        "headModel = ResNet50_model.output\n",
        "headModel = Dropout(0.5)(headModel)\n",
        "headModel = Flatten()(headModel)\n",
        "headModel=Dense(64,activation='relu')(headModel) \n",
        "headModel = Dropout(0.2)(headModel)\n",
        "headModel=Dense(16,activation='relu')(headModel) \n",
        "headModel = Dropout(0.2)(headModel)\n",
        "headModel=Dense(3,activation='softmax')(headModel)\n",
        "model12 = Model(inputs=ResNet50_model.input, outputs=headModel)"
      ],
      "execution_count": null,
      "outputs": []
    },
    {
      "cell_type": "markdown",
      "metadata": {
        "id": "lIYJ5Nx6ez_9",
        "colab_type": "text"
      },
      "source": [
        "Indicamos que os pesos da camada convolucional não devem ser re-treinados e iniciamos o treino do modelo:"
      ]
    },
    {
      "cell_type": "code",
      "metadata": {
        "id": "q_qAPtoRi5a7",
        "colab_type": "code",
        "colab": {
          "base_uri": "https://localhost:8080/",
          "height": 33
        },
        "outputId": "30842302-5694-4d8e-cb77-2e77fec7124b"
      },
      "source": [
        "ResNet50_model.trainable = False\n",
        "\n",
        "model12.compile(optimizers.Adam(lr=0.001),loss='sparse_categorical_crossentropy',metrics=['accuracy'])\n",
        "history12=model12.fit(X_over2, y_over3, epochs=50,validation_data=(X_val2,y_val3), verbose=0, callbacks = callbacks)"
      ],
      "execution_count": null,
      "outputs": [
        {
          "output_type": "stream",
          "text": [
            "Epoch 00017: early stopping\n"
          ],
          "name": "stdout"
        }
      ]
    },
    {
      "cell_type": "code",
      "metadata": {
        "id": "q-FoTxmGhyYT",
        "colab_type": "code",
        "colab": {
          "base_uri": "https://localhost:8080/",
          "height": 555
        },
        "outputId": "33f16cad-a4e2-4bc0-9853-397f8e3135ad"
      },
      "source": [
        "output_metrics(model12,history12,X_test2, y_test3)"
      ],
      "execution_count": null,
      "outputs": [
        {
          "output_type": "stream",
          "text": [
            "Predicted    0    1    2\n",
            "Actual                  \n",
            "0          336    0    2\n",
            "1          176  253  473\n",
            "2           33    3  831\n",
            "accuracy total: 0.6739439962031324\n",
            "precision covid: 0.6165137614678899\n",
            "recall covid: 0.9940828402366864\n",
            "precision total: 0.7470296796776581\n",
            "recall total: 0.744349384588418\n",
            "label precision recall\n",
            "    0     0.617  0.994\n",
            "    1     0.988  0.280\n",
            "    2     0.636  0.958\n",
            "2107/2107 [==============================] - 7s 3ms/step\n",
            "[1.31810581073073, 0.6739439964294434]\n"
          ],
          "name": "stdout"
        },
        {
          "output_type": "display_data",
          "data": {
            "image/png": "[encoded data removed]",
            "text/plain": [
              "<Figure size 864x288 with 2 Axes>"
            ]
          },
          "metadata": {
            "tags": [],
            "needs_background": "light"
          }
        }
      ]
    },
    {
      "cell_type": "markdown",
      "metadata": {
        "id": "fDvtGGmUe4n3",
        "colab_type": "text"
      },
      "source": [
        "* O modelo apresenta uma performance global de 67,4%, com um recall muito interessante de 99,4% no COVID, embora a precisão COVID seja de apenas 61,7%.\n",
        "\n",
        "* Adicionalmente, observa-se overfitting.\n",
        "\n",
        "Assim, este modelo com pesos não treináveis também não apresenta resultados satisfatórios."
      ]
    },
    {
      "cell_type": "markdown",
      "metadata": {
        "id": "PA0dBhTGi_6_",
        "colab_type": "text"
      },
      "source": [
        "### 8.1.5.  ResNet50: Fine-tune Layers\n",
        "\n",
        "Para a rede ResNet50, vamos permitir o fine-tuning das últimas 6 camadas da rede (res5b_branch2a, res5b_branch2b, res5b_branch2c, res5c_branch2a, res5c_branch2b, res5c_branch2c)."
      ]
    },
    {
      "cell_type": "code",
      "metadata": {
        "id": "EAzmT5elJqxm",
        "colab_type": "code",
        "colab": {}
      },
      "source": [
        "#print(ResNet50_model.summary())"
      ],
      "execution_count": null,
      "outputs": []
    },
    {
      "cell_type": "markdown",
      "metadata": {
        "id": "4lZV1JF4Jpzz",
        "colab_type": "text"
      },
      "source": [
        "\n",
        "O descongelamento dos layer iniciais não é aconselhável porque estes são mais genéricos e reutilizáveis, enquanto os layers finais extraem features mais especializadas, mais dependentes dos dados do treino e do problema em análise.\n",
        "Adicionalmente, o treino de mais parâmetros potencia o risco de overfitting.\n",
        "\n",
        "\n",
        "**Definição dos layers a re-treinar:**"
      ]
    },
    {
      "cell_type": "code",
      "metadata": {
        "id": "gunFNRXbjCoF",
        "colab_type": "code",
        "colab": {
          "base_uri": "https://localhost:8080/",
          "height": 391
        },
        "outputId": "33952b4c-e803-46de-ee2e-9aefeee4a2cc"
      },
      "source": [
        "ResNet50_model.trainable = True\n",
        "#treinar 2 últimor layers 'identity', com 3 camadas convolucionais cada\n",
        "set_trainable = False\n",
        "for layer in ResNet50_model.layers:\n",
        "    if layer.name in ('res5b_branch2a', 'res5b_branch2b','res5b_branch2c','res5c_branch2a','res5c_branch2b','res5c_branch2c'):\n",
        "        set_trainable = True\n",
        "    if set_trainable:\n",
        "        layer.trainable = True\n",
        "    else:\n",
        "        layer.trainable = False\n",
        "\n",
        "layers = [(layer, layer.name, layer.trainable) for layer in ResNet50_model.layers]\n",
        "pd.DataFrame(layers, columns=['Layer Type', 'Layer Name', 'Layer Trainable'])"
      ],
      "execution_count": null,
      "outputs": [
        {
          "output_type": "execute_result",
          "data": {
            "text/html": [
              "<div>\n",
              "<style scoped>\n",
              "    .dataframe tbody tr th:only-of-type {\n",
              "        vertical-align: middle;\n",
              "    }\n",
              "\n",
              "    .dataframe tbody tr th {\n",
              "        vertical-align: top;\n",
              "    }\n",
              "\n",
              "    .dataframe thead th {\n",
              "        text-align: right;\n",
              "    }\n",
              "</style>\n",
              "<table border=\"1\" class=\"dataframe\">\n",
              "  <thead>\n",
              "    <tr style=\"text-align: right;\">\n",
              "      <th></th>\n",
              "      <th>Layer Type</th>\n",
              "      <th>Layer Name</th>\n",
              "      <th>Layer Trainable</th>\n",
              "    </tr>\n",
              "  </thead>\n",
              "  <tbody>\n",
              "    <tr>\n",
              "      <th>0</th>\n",
              "      <td>&lt;keras.engine.input_layer.InputLayer object at...</td>\n",
              "      <td>input_3</td>\n",
              "      <td>False</td>\n",
              "    </tr>\n",
              "    <tr>\n",
              "      <th>1</th>\n",
              "      <td>&lt;keras.layers.convolutional.ZeroPadding2D obje...</td>\n",
              "      <td>conv1_pad</td>\n",
              "      <td>False</td>\n",
              "    </tr>\n",
              "    <tr>\n",
              "      <th>2</th>\n",
              "      <td>&lt;keras.layers.convolutional.Conv2D object at 0...</td>\n",
              "      <td>conv1</td>\n",
              "      <td>False</td>\n",
              "    </tr>\n",
              "    <tr>\n",
              "      <th>3</th>\n",
              "      <td>&lt;keras.layers.normalization.BatchNormalization...</td>\n",
              "      <td>bn_conv1</td>\n",
              "      <td>False</td>\n",
              "    </tr>\n",
              "    <tr>\n",
              "      <th>4</th>\n",
              "      <td>&lt;keras.layers.core.Activation object at 0x7fe8...</td>\n",
              "      <td>activation_407</td>\n",
              "      <td>False</td>\n",
              "    </tr>\n",
              "    <tr>\n",
              "      <th>...</th>\n",
              "      <td>...</td>\n",
              "      <td>...</td>\n",
              "      <td>...</td>\n",
              "    </tr>\n",
              "    <tr>\n",
              "      <th>170</th>\n",
              "      <td>&lt;keras.layers.core.Activation object at 0x7fe4...</td>\n",
              "      <td>activation_454</td>\n",
              "      <td>True</td>\n",
              "    </tr>\n",
              "    <tr>\n",
              "      <th>171</th>\n",
              "      <td>&lt;keras.layers.convolutional.Conv2D object at 0...</td>\n",
              "      <td>res5c_branch2c</td>\n",
              "      <td>True</td>\n",
              "    </tr>\n",
              "    <tr>\n",
              "      <th>172</th>\n",
              "      <td>&lt;keras.layers.normalization.BatchNormalization...</td>\n",
              "      <td>bn5c_branch2c</td>\n",
              "      <td>True</td>\n",
              "    </tr>\n",
              "    <tr>\n",
              "      <th>173</th>\n",
              "      <td>&lt;keras.layers.merge.Add object at 0x7fe444a9bc88&gt;</td>\n",
              "      <td>add_16</td>\n",
              "      <td>True</td>\n",
              "    </tr>\n",
              "    <tr>\n",
              "      <th>174</th>\n",
              "      <td>&lt;keras.layers.core.Activation object at 0x7fe4...</td>\n",
              "      <td>activation_455</td>\n",
              "      <td>True</td>\n",
              "    </tr>\n",
              "  </tbody>\n",
              "</table>\n",
              "<p>175 rows × 3 columns</p>\n",
              "</div>"
            ],
            "text/plain": [
              "                                            Layer Type  ... Layer Trainable\n",
              "0    <keras.engine.input_layer.InputLayer object at...  ...           False\n",
              "1    <keras.layers.convolutional.ZeroPadding2D obje...  ...           False\n",
              "2    <keras.layers.convolutional.Conv2D object at 0...  ...           False\n",
              "3    <keras.layers.normalization.BatchNormalization...  ...           False\n",
              "4    <keras.layers.core.Activation object at 0x7fe8...  ...           False\n",
              "..                                                 ...  ...             ...\n",
              "170  <keras.layers.core.Activation object at 0x7fe4...  ...            True\n",
              "171  <keras.layers.convolutional.Conv2D object at 0...  ...            True\n",
              "172  <keras.layers.normalization.BatchNormalization...  ...            True\n",
              "173  <keras.layers.merge.Add object at 0x7fe444a9bc88>  ...            True\n",
              "174  <keras.layers.core.Activation object at 0x7fe4...  ...            True\n",
              "\n",
              "[175 rows x 3 columns]"
            ]
          },
          "metadata": {
            "tags": []
          },
          "execution_count": 34
        }
      ]
    },
    {
      "cell_type": "code",
      "metadata": {
        "id": "URaBQg4sjFwz",
        "colab_type": "code",
        "colab": {
          "base_uri": "https://localhost:8080/",
          "height": 33
        },
        "outputId": "36ec824b-924b-4eda-b16a-38e34986e854"
      },
      "source": [
        "headModel = ResNet50_model.output\n",
        "headModel = Dropout(0.5)(headModel)\n",
        "headModel = Flatten()(headModel)\n",
        "headModel=Dense(64,activation='relu')(headModel) \n",
        "headModel = Dropout(0.2)(headModel)\n",
        "headModel=Dense(16,activation='relu')(headModel) \n",
        "headModel = Dropout(0.2)(headModel)\n",
        "headModel=Dense(3,activation='softmax')(headModel)\n",
        "model13 = Model(inputs=ResNet50_model.input, outputs=headModel)\n",
        "\n",
        "model13.compile(optimizers.Adam(lr=0.0001),loss='sparse_categorical_crossentropy',metrics=['accuracy'])\n",
        "history13=model13.fit(X_over2, y_over3, epochs=50,validation_data=(X_val2,y_val3), verbose=0, callbacks = callbacks)"
      ],
      "execution_count": null,
      "outputs": [
        {
          "output_type": "stream",
          "text": [
            "Epoch 00006: early stopping\n"
          ],
          "name": "stdout"
        }
      ]
    },
    {
      "cell_type": "code",
      "metadata": {
        "id": "BUr9PVBJlVm0",
        "colab_type": "code",
        "colab": {
          "base_uri": "https://localhost:8080/",
          "height": 555
        },
        "outputId": "f70e5ca2-7069-4a78-d78e-b17e28bd5d74"
      },
      "source": [
        "output_metrics(model13,history13,X_test2, y_test3)"
      ],
      "execution_count": null,
      "outputs": [
        {
          "output_type": "stream",
          "text": [
            "Predicted    0   1    2\n",
            "Actual                 \n",
            "0          336   0    2\n",
            "1          240  58  604\n",
            "2           18   0  849\n",
            "accuracy total: 0.589938300901756\n",
            "precision covid: 0.5656565656565656\n",
            "recall covid: 0.9940828402366864\n",
            "precision total: 0.7163872400985803\n",
            "recall total: 0.6792077155561254\n",
            "label precision recall\n",
            "    0     0.566  0.994\n",
            "    1     1.000  0.064\n",
            "    2     0.584  0.979\n",
            "2107/2107 [==============================] - 7s 3ms/step\n",
            "[11.52650690735037, 0.5899382829666138]\n"
          ],
          "name": "stdout"
        },
        {
          "output_type": "display_data",
          "data": {
            "image/png": "[encoded data removed]",
            "text/plain": [
              "<Figure size 864x288 with 2 Axes>"
            ]
          },
          "metadata": {
            "tags": [],
            "needs_background": "light"
          }
        }
      ]
    },
    {
      "cell_type": "markdown",
      "metadata": {
        "id": "tnXabj_9jQvL",
        "colab_type": "text"
      },
      "source": [
        "* Nesta situação a performance global é de 59%, com um recall 99% no COVID. O modelo garante o mínimo de falsos negativos COVID, mas apresenta lobalmente erros elevados.\n",
        "\n",
        "* Observa-se ainda elevado overfitting, apesar das camadas de dropout usadas."
      ]
    },
    {
      "cell_type": "markdown",
      "metadata": {
        "id": "M7HZBVKkjQqI",
        "colab_type": "text"
      },
      "source": [
        "\n",
        "---\n",
        "\n",
        "\n",
        "Quanto à utilização de transfer learning para prever o COVID foi obtido apenas um modelo interessante:\n",
        "\n",
        "* usar a arquitetura da rede InnceptionRedNetV2, mas re-treinando os pesos. \n",
        "\n",
        "---\n",
        "\n"
      ]
    }
  ]
}
