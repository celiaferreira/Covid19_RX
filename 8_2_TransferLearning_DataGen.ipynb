{
  "nbformat": 4,
  "nbformat_minor": 0,
  "metadata": {
    "colab": {
      "name": "Transfer_learning_InceptionResNetV2_Frozen_layers (1).ipynb",
      "provenance": [],
      "toc_visible": true,
      "include_colab_link": true
    },
    "kernelspec": {
      "name": "python3",
      "display_name": "Python 3"
    },
    "accelerator": "GPU"
  },
  "cells": [
    {
      "cell_type": "markdown",
      "metadata": {
        "id": "view-in-github",
        "colab_type": "text"
      },
      "source": [
        "<a href=\"https://colab.research.google.com/github/celiaferreira/Covid19_RX/blob/master/8_2_TransferLearning_DataGen.ipynb\" target=\"_parent\"><img src=\"https://colab.research.google.com/assets/colab-badge.svg\" alt=\"Open In Colab\"/></a>"
      ]
    },
    {
      "cell_type": "markdown",
      "metadata": {
        "id": "GGZupyu0nBeq",
        "colab_type": "text"
      },
      "source": [
        "### 8.2. Transfer learning\n",
        "\n",
        "Nesta seção avalia-se o poder preditivo da rede pré-treinada InceptionResNetV2.\n"
      ]
    },
    {
      "cell_type": "markdown",
      "metadata": {
        "id": "-mpPSsELoK4a",
        "colab_type": "text"
      },
      "source": [
        "### 8.2.1. InceptionResNetV2: usar topologia | Pesos treináveis\n",
        "\n",
        "Como visto na secção 8.1, a importação dos pesos imagenet não tem bons resultados.\n",
        "\n",
        "Nesta secção vamos usar a arquitetura do modelo pré-treinado InceptionResNetV2 no nosso dataset, mas sem usar os pesos pré-treinados: o modelo será inicializado com pesos aleatórios e treinado de raíz. Para tal, configura-se o argumento weights=None, em vez de weights='Imagenet'."
      ]
    },
    {
      "cell_type": "code",
      "metadata": {
        "id": "K_jaystcnFYp",
        "colab_type": "code",
        "colab": {}
      },
      "source": [
        "from keras.applications import VGG19, InceptionResNetV2, ResNet50\n",
        "#Inception-ResNet-v2 combines the advantages of Inception networks and residual connections to achieve state-of-the-art accuracy on the ILSVRC image classification benchmark"
      ],
      "execution_count": null,
      "outputs": []
    },
    {
      "cell_type": "code",
      "metadata": {
        "id": "Yf5Tb6mOJloQ",
        "colab_type": "code",
        "colab": {}
      },
      "source": [
        "InceptionResNetV2_model = InceptionResNetV2(weights=None, include_top=False,\tinput_tensor=Input(shape=(200, 200, 1)))\n",
        "#print(InceptionResNetV2_model.summary())"
      ],
      "execution_count": null,
      "outputs": []
    },
    {
      "cell_type": "markdown",
      "metadata": {
        "id": "zinyZKIvPhRn",
        "colab_type": "text"
      },
      "source": [
        "Ao modelo conjugámos camadas de dropout para controlar o overfitting e a camada habitual fully-connected."
      ]
    },
    {
      "cell_type": "code",
      "metadata": {
        "id": "FnfFB-L8-lsI",
        "colab_type": "code",
        "colab": {}
      },
      "source": [
        "headModel = InceptionResNetV2_model.output\n",
        "headModel = Dropout(0.5)(headModel)\n",
        "headModel = Flatten()(headModel)\n",
        "headModel=Dense(64,activation='relu')(headModel) \n",
        "headModel = Dropout(0.2)(headModel)\n",
        "headModel=Dense(16,activation='relu')(headModel) \n",
        "headModel = Dropout(0.2)(headModel)\n",
        "headModel=Dense(3,activation='softmax')(headModel)\n",
        "model12 = Model(inputs=InceptionResNetV2_model.input, outputs=headModel)"
      ],
      "execution_count": null,
      "outputs": []
    },
    {
      "cell_type": "code",
      "metadata": {
        "id": "_BpYFjQ1-uyH",
        "colab_type": "code",
        "colab": {
          "base_uri": "https://localhost:8080/",
          "height": 33
        },
        "outputId": "ce965207-7eec-4ac0-b3e7-325a73b3a67d"
      },
      "source": [
        "InceptionResNetV2_model.trainable = True\n",
        "\n",
        "model12.compile(optimizers.Adam(lr=0.001),loss='sparse_categorical_crossentropy',metrics=['accuracy'])\n",
        "history12=model12.fit(X_train2, y_train2, epochs=50,validation_data=(X_val2,y_val2),callbacks = callbacks, verbose=0)\n",
        "\n",
        "model_save_name = 'InceptionResNetV2_model.sav'\n",
        "path = F\"/content/{model_save_name}\" \n",
        "torch.save(model12, path)"
      ],
      "execution_count": null,
      "outputs": [
        {
          "output_type": "stream",
          "text": [
            "Epoch 00021: early stopping\n"
          ],
          "name": "stdout"
        }
      ]
    },
    {
      "cell_type": "code",
      "metadata": {
        "id": "D7C1P598-vA_",
        "colab_type": "code",
        "colab": {
          "base_uri": "https://localhost:8080/",
          "height": 555
        },
        "outputId": "729b9c81-6982-468b-a525-b6a9023fa145"
      },
      "source": [
        "output_metrics(model12,history12,X_test2, y_test2)"
      ],
      "execution_count": null,
      "outputs": [
        {
          "output_type": "stream",
          "text": [
            "Predicted    0    1    2\n",
            "Actual                  \n",
            "0          226    5    0\n",
            "1           35  889    7\n",
            "2           15  150  679\n",
            "accuracy total: 0.8943170488534397\n",
            "precision covid: 0.8188405797101449\n",
            "recall covid: 0.9783549783549783\n",
            "precision total: 0.8867230217091001\n",
            "recall total: 0.9125815220227792\n",
            "label precision recall\n",
            "    0     0.819  0.978\n",
            "    1     0.852  0.955\n",
            "    2     0.990  0.805\n",
            "2006/2006 [==============================] - 9s 4ms/step\n",
            "[0.30629293682984077, 0.8943170309066772]\n"
          ],
          "name": "stdout"
        },
        {
          "output_type": "display_data",
          "data": {
            "image/png": "[encoded data removed]",
            "text/plain": [
              "<Figure size 864x288 with 2 Axes>"
            ]
          },
          "metadata": {
            "tags": [],
            "needs_background": "light"
          }
        }
      ]
    },
    {
      "cell_type": "markdown",
      "metadata": {
        "id": "SCjZNeBvPoym",
        "colab_type": "text"
      },
      "source": [
        "Este modelo origina:\n",
        "\n",
        "* performance global de 89,4%\n",
        "* recall COVID: 97,8%\n",
        "* ausência de overfitting significativo\n",
        "\n",
        "Isto porque os pesos foram treinados desde a camada extratora de features para o nosso problema."
      ]
    }
  ]
}