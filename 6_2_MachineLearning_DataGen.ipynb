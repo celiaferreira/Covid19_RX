{
  "nbformat": 4,
  "nbformat_minor": 0,
  "metadata": {
    "colab": {
      "name": "import_data_dataAugmented_ML (1).ipynb",
      "provenance": [],
      "collapsed_sections": [],
      "toc_visible": true,
      "include_colab_link": true
    },
    "kernelspec": {
      "display_name": "Python 3",
      "language": "python",
      "name": "python3"
    },
    "language_info": {
      "codemirror_mode": {
        "name": "ipython",
        "version": 3
      },
      "file_extension": ".py",
      "mimetype": "text/x-python",
      "name": "python",
      "nbconvert_exporter": "python",
      "pygments_lexer": "ipython3",
      "version": "3.7.6"
    }
  },
  "cells": [
    {
      "cell_type": "markdown",
      "metadata": {
        "id": "view-in-github",
        "colab_type": "text"
      },
      "source": [
        "<a href=\"https://colab.research.google.com/github/celiaferreira/Covid19_RX/blob/master/6_2_MachineLearning_DataGen.ipynb\" target=\"_parent\"><img src=\"https://colab.research.google.com/assets/colab-badge.svg\" alt=\"Open In Colab\"/></a>"
      ]
    },
    {
      "cell_type": "markdown",
      "metadata": {
        "colab_type": "text",
        "id": "61jmoyQnfpwM"
     },
      "source": [
        "### 6.2. Machine learning models - via Data Generation"
      ]
    },
    {
      "cell_type": "markdown",
      "metadata": {
        "colab_type": "text",
        "id": "rPZos2B4GPXS"
      },
      "source": [
        "In this section, traditional machine learning models are presented, with the training data being augmented via Data Generation. The target with 4 labels was used. \n",
        "\n",
        "We start by placing the images in a list, to serve as input for the models.\n"
      ]
    },
    {
      "cell_type": "code",
      "metadata": {
        "id": "sW7s_Hl8nBNa",
        "colab_type": "code",
        "colab": {}
      },
      "source": [
        "def X_to_vector(X):\n",
        "  X_all_vec=[]\n",
        "  X_allReshaped = X.reshape(len(X),200,200)\n",
        "  print(X_allReshaped.shape)\n",
        "  for i in X_allReshaped:\n",
        "      img = i\n",
        "      #print(img.shape)\n",
        "      cols,colors = img.shape # gives dimensions for RGB array\n",
        "      img_size = cols*colors\n",
        "      img_1D_vector = img.reshape(img_size)\n",
        "      # you can recover the orginal image with:\n",
        "      img2 = img_1D_vector.reshape(cols,colors)\n",
        "      X_all_vec.append(img_1D_vector)\n",
        "  return X_all_vec"
      ],
      "execution_count": null,
      "outputs": []
    },
    {
      "cell_type": "code",
      "metadata": {
        "id": "hdvoKSUcnFTI",
        "colab_type": "code",
        "colab": {}
      },
      "source": [
        "X_train_vec=X_to_vector(X_train_aug)\n",
        "X_test_vec=X_to_vector(X_test)"
      ],
      "execution_count": null,
      "outputs": []
    },
    {
      "cell_type": "markdown",
      "metadata": {
        "colab_type": "text",
        "id": "MT4oP9U1lFMX"
      },
      "source": [
        "### 6.2.1. Random Forests\n",
        "O primeiro modelo de ML a testar é uma Random Forest."
      ]
    },
    {
      "cell_type": "code",
      "metadata": {
        "colab_type": "code",
        "id": "gyCWWJ1-gL_z",
        "colab": {}
      },
      "source": [
        "Rfc = RandomForestClassifier(n_estimators = 200, criterion = \"entropy\", random_state = 42,\n",
        "                                      min_samples_split=10,min_samples_leaf=1,\n",
        "                                      max_features='sqrt', max_depth=90, bootstrap=False)\n",
        "\n",
        "Rfc=Rfc.fit(X_train_vec, y_train)\n",
        "y_pred  = Rfc.predict(X_test_vec)"
      ],
      "execution_count": null,
      "outputs": []
    },
    {
      "cell_type": "code",
      "metadata": {
        "colab_type": "code",
        "id": "u_DDozkD_zDU",
        "colab": {
          "base_uri": "https://localhost:8080/",
          "height": 293
        },
        "outputId": "665a6c69-6c4f-4dbd-c3ad-443fc2a5e013"
      },
      "source": [
        "Accuracy_total_Rfc=Rfc.score(X_test_vec, y_test)\n",
        "print('Accuracy total:',Accuracy_total_Rfc)\n",
        "\n",
        "cm = confusion_matrix(y_test, y_pred)\n",
        "conf_mat=pd.DataFrame(cm)\n",
        "conf_mat.index.name='Actual'\n",
        "conf_mat.columns.name='Predicted'\n",
        "print(conf_mat)\n",
        "\n",
        "print('accuracy total:', accuracy(cm))\n",
        "print('precision covid:', precision(0,cm))\n",
        "print('recall covid:', recall(0,cm))\n",
        "print('precision total:', precision_macro_average(cm))\n",
        "print('recall total:', recall_macro_average(cm))\n",
        "print(\"label precision recall\")\n",
        "for label in range(len(unique_labels(y_test))):\n",
        " print(f\"{label:5d} {precision(label, cm):9.3f} {recall(label, cm):6.3f}\")"
      ],
      "execution_count": null,
      "outputs": [
        {
          "output_type": "stream",
          "text": [
            "Accuracy total: 0.8809629959875167\n",
            "Predicted    0    1    2    3\n",
            "Actual                       \n",
            "0          575   84    0    1\n",
            "1           37  568   17   51\n",
            "2            0   42  145    2\n",
            "3            0   33    0  688\n",
            "accuracy total: 0.8809629959875167\n",
            "precision covid: 0.9395424836601307\n",
            "recall covid: 0.8712121212121212\n",
            "precision total: 0.885780229150267\n",
            "recall total: 0.8591550733955774\n",
            "label precision recall\n",
            "    0     0.940  0.871\n",
            "    1     0.781  0.844\n",
            "    2     0.895  0.767\n",
            "    3     0.927  0.954\n"
          ],
          "name": "stdout"
        }
      ]
    },
    {
      "cell_type": "code",
      "metadata": {
        "colab_type": "code",
        "id": "0zvhQfi1aDvH",
        "colab": {
          "base_uri": "https://localhost:8080/",
          "height": 196
        },
        "outputId": "abb0f5bc-fc92-4f68-ae96-e66bbfd4d949"
      },
      "source": [
        "print(classification_report(y_test, y_pred))"
      ],
      "execution_count": null,
      "outputs": [
        {
          "output_type": "stream",
          "text": [
            "              precision    recall  f1-score   support\n",
            "\n",
            "           0       0.94      0.87      0.90       660\n",
            "           1       0.78      0.84      0.81       673\n",
            "           2       0.90      0.77      0.83       189\n",
            "           3       0.93      0.95      0.94       721\n",
            "\n",
            "    accuracy                           0.88      2243\n",
            "   macro avg       0.89      0.86      0.87      2243\n",
            "weighted avg       0.88      0.88      0.88      2243\n",
            "\n"
          ],
          "name": "stdout"
        }
      ]
    },
    {
      "cell_type": "markdown",
      "metadata": {
        "colab_type": "text",
        "id": "bROUOjMEIASn"
      },
      "source": [
        "It is concluded that the model presents an **global accuracy of 88%**, identifying **87% of COVID-19 cases**.\n",
        "\n",
        "The biggest mistake is associated with bacterial pneumonia."
      ]
    },
    {
      "cell_type": "markdown",
      "metadata": {
        "colab_type": "text",
        "id": "Sf1AJu7ticY9"
      },
      "source": [
        "### 6.2.2 Ensamble-Adaptive Boosting\n",
        "This section presents an Adaptive Boosting model."
      ]
    },
    {
      "cell_type": "code",
      "metadata": {
        "colab_type": "code",
        "id": "AYMqYHtoprR4",
        "colab": {}
      },
      "source": [
        "#Subsequent classifications are adjusted in favor of those misclassified by previous classifications.\n",
        "#weak learner\n",
        "#cons: loss of generalization ability after learning many training patterns (overfitting)\n",
        "ada_tree = AdaBoostClassifier(n_estimators=100)\n",
        "ada_tree=ada_tree.fit(X_train_vec, y_train)\n",
        "Y_pred_test = ada_tree.predict(X_test_vec)"
      ],
      "execution_count": null,
      "outputs": []
    },
    {
      "cell_type": "code",
      "metadata": {
        "colab_type": "code",
        "id": "rBvmi8ml1SID",
        "colab": {
          "base_uri": "https://localhost:8080/",
          "height": 136
        },
        "outputId": "fed6af56-2df5-41c4-ea1e-8ee0c932ea60"
      },
      "source": [
        "Accuracy_total_AdaBoost=ada_tree.score(X_test_vec, y_test)\n",
        "print('Accuracy total:',Accuracy_total_AdaBoost)\n",
        "\n",
        "conf_mat=confusion_matrix(y_test,Y_pred_test)\n",
        "conf_mat=pd.DataFrame(conf_mat)\n",
        "conf_mat.index.name='Actual'\n",
        "conf_mat.columns.name='Predicted'\n",
        "print(conf_mat)"
      ],
      "execution_count": null,
      "outputs": [
        {
          "output_type": "stream",
          "text": [
            "Accuracy total: 0.7566754418954494\n",
            "Predicted    0    1    2    3\n",
            "Actual                       \n",
            "0          864   22    2    5\n",
            "1            2  252  194  166\n",
            "2            2  120  140   34\n",
            "3            0   68   32  756\n"
          ],
          "name": "stdout"
        }
      ]
    },
    {
      "cell_type": "markdown",
      "metadata": {
        "id": "rEStAVHyoDZz",
        "colab_type": "text"
      },
      "source": [
        "This has an **accuracy of 75.7%**, lower than random forests."
      ]
    },
    {
      "cell_type": "markdown",
      "metadata": {
        "colab_type": "text",
        "id": "xpCPwKIPV4mM"
      },
      "source": [
        "### 6.2.3. KNN\n",
        "This section presents another version of ML classification: KNeighborsClassifier."
      ]

    },
    {
      "cell_type": "code",
      "metadata": {
        "colab_type": "code",
        "id": "9J3Wa8J9V6vL",
        "colab": {}
      },
      "source": [
        "knn = KNeighborsClassifier(n_neighbors=1,p=1, weights='uniform')"
      ],
      "execution_count": null,
      "outputs": []
    },
    {
      "cell_type": "code",
      "metadata": {
        "colab_type": "code",
        "id": "0Afsk7U0WMBM",
        "colab": {
          "base_uri": "https://localhost:8080/",
          "height": 66
        },
        "outputId": "be999abd-f5cb-4f4a-c030-db2385327ece"
      },
      "source": [
        "knn_model=knn.fit(X_train_vec, y_train)\n",
        "print(knn_model)\n",
        "Y_pred_test = knn_model.predict(X_test_vec)"
      ],
      "execution_count": null,
      "outputs": [
        {
          "output_type": "stream",
          "text": [
            "KNeighborsClassifier(algorithm='auto', leaf_size=30, metric='minkowski',\n",
            "                     metric_params=None, n_jobs=None, n_neighbors=1, p=1,\n",
            "                     weights='uniform')\n"
          ],
          "name": "stdout"
        }
      ]
    },
    {
      "cell_type": "code",
      "metadata": {
        "colab_type": "code",
        "id": "QVGt_dODWL6c",
        "colab": {
          "base_uri": "https://localhost:8080/",
          "height": 115
        },
        "outputId": "edfa9f2e-c3b0-460d-a51d-8b4726a57604"
      },
      "source": [
        "conf_mat=confusion_matrix(y_test,knn.predict(X_test_vec))\n",
        "conf_mat=pd.DataFrame(conf_mat)\n",
        "conf_mat.index.name='Actual'\n",
        "conf_mat.columns.name='Predicted'\n",
        "print(conf_mat)"
      ],
      "execution_count": null,
      "outputs": [
        {
          "output_type": "stream",
          "text": [
            "Predicted    0    1    2    3\n",
            "Actual                       \n",
            "0          582   77    1    0\n",
            "1           46  533   47   47\n",
            "2            0   26  159    4\n",
            "3            1   48    6  666\n"
          ],
          "name": "stdout"
        }
      ]
    },
    {
      "cell_type": "code",
      "metadata": {
        "colab_type": "code",
        "id": "m0sxNt5KW74L",
        "colab": {
          "base_uri": "https://localhost:8080/",
          "height": 33
        },
        "outputId": "db0fba9c-bfbc-41d3-de02-c814d1ad9e19"
      },
      "source": [
        "print('Score:',knn_model_score)"
      ],
      "execution_count": null,
      "outputs": [
        {
          "output_type": "stream",
          "text": [
            "Score: 0.8649130628622381\n"
          ],
          "name": "stdout"
        }
      ]
    },
    {
      "cell_type": "markdown",
      "metadata": {
        "colab_type": "text",
        "id": "Bgj4ZhP5crSQ"
      },
      "source": [
        "The model has an accuracy of **86%**, comparable to random forests.\n",
        "\n"
      ]
    }
  ]
}
