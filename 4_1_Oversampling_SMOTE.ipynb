{
  "nbformat": 4,
  "nbformat_minor": 0,
  "metadata": {
    "colab": {
      "name": "4_1_SMOTE.ipynb",
      "provenance": [],
      "collapsed_sections": [],
      "include_colab_link": true
    },
    "kernelspec": {
      "name": "python3",
      "display_name": "Python 3"
    }
  },
  "cells": [
    {
      "cell_type": "markdown",
      "metadata": {
        "id": "view-in-github",
        "colab_type": "text"
      },
      "source": [
        "<a href=\"https://colab.research.google.com/github/celiaferreira/Covid19_RX/blob/master/4_1_SMOTE.ipynb\" target=\"_parent\"><img src=\"https://colab.research.google.com/assets/colab-badge.svg\" alt=\"Open In Colab\"/></a>"
      ]
    },
    {
      "cell_type": "markdown",
      "metadata": {
        "id": "gkGjd454YCFA",
        "colab_type": "text"
      },
      "source": [
        "### 4.1 Oversampling\n",
        "\n",
        "The SMOTE (Sythetic Minority Oversampling TEchnique) oversampling technique consists of generating synthetic cases for the classes of interest from existing cases.\n",
        "The new cases are generated in the neighborhood of each case of the minority class with the aim of expanding the decision space of this class and increasing the generalization power of the classifiers obtained.\n",
        "\n",
        "Visually, in the sample space of the data set, the new synthetic cases are randomly interpolated along the straight line that joins each case of the minority class to one of its k nearest neighbors, chosen at random. \n"
      ]
    },
    {
      "cell_type": "markdown",
      "metadata": {
        "id": "LaaXtp-taYqp",
        "colab_type": "text"
      },
      "source": [
      "Technique requires input data to be in a vector:"
      ]
    },
    {
      "cell_type": "code",
      "metadata": {
        "id": "Zh6PpZ9laAVK",
        "colab_type": "code",
        "colab": {
          "base_uri": "https://localhost:8080/",
          "height": 34
        },
        "outputId": "fa4fde38-5cf7-456b-d242-8eff1f37505d"
      },
      "source": [
        "X_train_vec=[]\n",
        "X_trainReshaped = X_train.reshape(len(X_train),200,200)\n",
        "print(X_trainReshaped.shape)\n",
        "for i in X_trainReshaped:\n",
        "    img = i\n",
        "    #print(img.shape)\n",
        "    cols,colors = img.shape # gives dimensions for RGB array\n",
        "    img_size = cols*colors\n",
        "    img_1D_vector = img.reshape(img_size)\n",
        "    # you can recover the orginal image with:\n",
        "    img2 = img_1D_vector.reshape(cols,colors)\n",
        "    X_train_vec.append(img_1D_vector)"
      ],
      "execution_count": null,
      "outputs": [
        {
          "output_type": "stream",
          "text": [
            "(3346, 200, 200)\n"
          ],
          "name": "stdout"
        }
      ]
    },
    {
      "cell_type": "markdown",
      "metadata": {
        "id": "R52fqPw1a7Ss",
        "colab_type": "text"
      },
      "source": [
        "### 4.1.1 Target com 4 labels"
      ]
    },
    {
      "cell_type": "code",
      "metadata": {
        "id": "OJJq8fJHZ1CW",
        "colab_type": "code",
        "colab": {
          "base_uri": "https://localhost:8080/",
          "height": 141
        },
        "outputId": "70cfb11e-b79c-445d-d476-a7bc6bf36c4c"
      },
      "source": [
        "oversample = SMOTE(random_state=42)\n",
        "# fit and apply the transform\n",
        "X_over4, y_over4 = oversample.fit_resample(X_train_vec, y_train)\n",
        "print(Counter(y_over4))"
      ],
      "execution_count": null,
      "outputs": [
        {
          "output_type": "stream",
          "text": [
            "/usr/local/lib/python3.6/dist-packages/sklearn/utils/deprecation.py:87: FutureWarning: Function safe_indexing is deprecated; safe_indexing is deprecated in version 0.22 and will be removed in version 0.24.\n",
            "  warnings.warn(msg, category=FutureWarning)\n",
            "/usr/local/lib/python3.6/dist-packages/sklearn/utils/deprecation.py:87: FutureWarning: Function safe_indexing is deprecated; safe_indexing is deprecated in version 0.22 and will be removed in version 0.24.\n",
            "  warnings.warn(msg, category=FutureWarning)\n",
            "/usr/local/lib/python3.6/dist-packages/sklearn/utils/deprecation.py:87: FutureWarning: Function safe_indexing is deprecated; safe_indexing is deprecated in version 0.22 and will be removed in version 0.24.\n",
            "  warnings.warn(msg, category=FutureWarning)\n"
          ],
          "name": "stderr"
        },
        {
          "output_type": "stream",
          "text": [
            "Counter({3: 1372, 1: 1372, 0: 1372, 2: 1372})\n"
          ],
          "name": "stdout"
        }
      ]
    },
    {
      "cell_type": "markdown",
      "metadata": {
        "id": "BLjFx6DObX5R",
        "colab_type": "text"
      },
      "source": [
        "* Voltar ao shape inicial do X_train:"
      ]
    },
    {
      "cell_type": "code",
      "metadata": {
        "id": "3Zw1mf3aZ1AO",
        "colab_type": "code",
        "colab": {
          "base_uri": "https://localhost:8080/",
          "height": 87
        },
        "outputId": "b92ee0a2-a4d4-449b-be43-67a296dec218"
      },
      "source": [
        "X_over4 = X_over4.reshape(len(y_over4),200,200,1)\n",
        "print('X_oversampled_shape:',X_over4.shape)\n",
        "print('X_train_shape:',X_train.shape)\n",
        "print('X_val_shape:',X_val.shape)\n",
        "print('X_test_shape:',X_test.shape)"
      ],
      "execution_count": null,
      "outputs": [
        {
          "output_type": "stream",
          "text": [
            "X_oversampled_shape: (5488, 200, 200, 1)\n",
            "X_train_shape: (3346, 200, 200, 1)\n",
            "X_val_shape: (1434, 200, 200, 1)\n",
            "X_test_shape: (2049, 200, 200, 1)\n"
          ],
          "name": "stdout"
        }
      ]
    },
    {
      "cell_type": "markdown",
      "metadata": {
        "id": "Ww7_y4PRdMz8",
        "colab_type": "text"
      },
      "source": [
        "* Confirmar nova dimensão dos dados:"
      ]
    },
    {
      "cell_type": "code",
      "metadata": {
        "id": "qlcbmO7RdHBz",
        "colab_type": "code",
        "colab": {}
      },
      "source": [
        "def count_labels(y_all):\n",
        "  how_many_0 = len(np.where(y_all==0)[0])\n",
        "  how_many_1 = len(np.where(y_all==1)[0])\n",
        "  how_many_2 = len(np.where(y_all==2)[0])\n",
        "  how_many_3 = len(np.where(y_all==3)[0])\n",
        "\n",
        "  print('#covid:',how_many_0)\n",
        "  print('#viral:',how_many_1)\n",
        "  print('#bacteriana:',how_many_2)\n",
        "  print('#normal:',how_many_3)"
      ],
      "execution_count": null,
      "outputs": []
    },
    {
      "cell_type": "code",
      "metadata": {
        "id": "0jAviMyqdQyi",
        "colab_type": "code",
        "colab": {
          "base_uri": "https://localhost:8080/",
          "height": 87
        },
        "outputId": "378ec3ea-287e-4c50-a50a-e404549509e1"
      },
      "source": [
        "count_labels(y_train)"
      ],
      "execution_count": null,
      "outputs": [
        {
          "output_type": "stream",
          "text": [
            "#covid: 469\n",
            "#viral: 1039\n",
            "#bacteriana: 466\n",
            "#normal: 1372\n"
          ],
          "name": "stdout"
        }
      ]
    },
    {
      "cell_type": "code",
      "metadata": {
        "id": "WKybi8OodDP7",
        "colab_type": "code",
        "colab": {
          "base_uri": "https://localhost:8080/",
          "height": 87
        },
        "outputId": "ef877bbe-6a74-4c2a-8081-31a350a93a53"
      },
      "source": [
        "count_labels(y_over4)"
      ],
      "execution_count": null,
      "outputs": [
        {
          "output_type": "stream",
          "text": [
            "#covid: 1372\n",
            "#viral: 1372\n",
            "#bacteriana: 1372\n",
            "#normal: 1372\n"
          ],
          "name": "stdout"
        }
      ]
    },
    {
      "cell_type": "markdown",
      "metadata": {
        "id": "_dkbJxdJdUTB",
        "colab_type": "text"
      },
      "source": [
        "- It appears that, via SMOTE, the majority class in the training set (normal), with 1,372 images, served as a reference for oversampling, with images up to this size being generated in each of the labels.\n",
        "\n",
        "- COVID cases in the training set tripled: from 469 to 1372.\n",
        "\n",
        "- Bacterial pneumonia also benefited from oversampling, increasing from 466 cases to 1372."
      ]
    },
    {
      "cell_type": "markdown",
      "metadata": {
        "id": "RosHA9BscIpF",
        "colab_type": "text"
      },
      "source": [
      "### 4.1.2 Target with 3 labels\n",
        "\n",
        "In order to train a model with only 3 labels (Covid, pneumonia, normal), oversampling is also implemented in this scenario."
      ]
    },
    {
      "cell_type": "markdown",
      "metadata": {
        "id": "-fc-c_apd-HH",
        "colab_type": "text"
      },
      "source": [
        "* Criar target com 3 labels\n",
        "\n"
      ]
    },
    {
      "cell_type": "code",
      "metadata": {
        "id": "tJXrK1t9chzs",
        "colab_type": "code",
        "colab": {
          "base_uri": "https://localhost:8080/",
          "height": 34
        },
        "outputId": "42fa41c5-8398-4d96-9396-a3d966164fab"
      },
      "source": [
        "y_train3=y_train.copy()\n",
        "for i in range(0,len(y_train),1):\n",
        "  if y_train[i]==2: y_train3[i]=1\n",
        "  elif y_train[i]==3: y_train3[i]=2\n",
        "unique_labels(y_train3)"
      ],
      "execution_count": null,
      "outputs": [
        {
          "output_type": "execute_result",
          "data": {
            "text/plain": [
              "array([0, 1, 2])"
            ]
          },
          "metadata": {
            "tags": []
          },
          "execution_count": 30
        }
      ]
    },
    {
      "cell_type": "code",
      "metadata": {
        "id": "moedyKcxfRXQ",
        "colab_type": "code",
        "colab": {
          "base_uri": "https://localhost:8080/",
          "height": 34
        },
        "outputId": "de39aec6-d725-41a3-fb2a-7a922ecde523"
      },
      "source": [
        "y_test3=y_test.copy()\n",
        "for i in range(0,len(y_test),1):\n",
        "  if y_test[i]==2: y_test3[i]=1\n",
        "  elif y_test[i]==3: y_test3[i]=2\n",
        "unique_labels(y_test3)"
      ],
      "execution_count": null,
      "outputs": [
        {
          "output_type": "execute_result",
          "data": {
            "text/plain": [
              "array([0, 1, 2])"
            ]
          },
          "metadata": {
            "tags": []
          },
          "execution_count": 31
        }
      ]
    },
    {
      "cell_type": "code",
      "metadata": {
        "id": "wegIs3jdfgzs",
        "colab_type": "code",
        "colab": {
          "base_uri": "https://localhost:8080/",
          "height": 34
        },
        "outputId": "3f79538b-d688-4220-ad6b-cdbbf0fc9aca"
      },
      "source": [
        "y_val3=y_val.copy()\n",
        "for i in range(0,len(y_val),1):\n",
        "  if y_val[i]==2: y_val3[i]=1\n",
        "  elif y_val[i]==3: y_val3[i]=2\n",
        "unique_labels(y_val3)"
      ],
      "execution_count": null,
      "outputs": [
        {
          "output_type": "execute_result",
          "data": {
            "text/plain": [
              "array([0, 1, 2])"
            ]
          },
          "metadata": {
            "tags": []
          },
          "execution_count": 32
        }
      ]
    },
    {
      "cell_type": "code",
      "metadata": {
        "id": "GgFzcHfpf-Uj",
        "colab_type": "code",
        "colab": {
          "base_uri": "https://localhost:8080/",
          "height": 105
        },
        "outputId": "51670d0c-9050-46b7-92f8-3a3644aefb77"
      },
      "source": [
        "oversample = SMOTE(random_state=42)\n",
        "# fit and apply the transform\n",
        "X_over3, y_over3 = oversample.fit_resample(X_train_vec, y_train3)\n",
        "print(Counter(y_over3))"
      ],
      "execution_count": null,
      "outputs": [
        {
          "output_type": "stream",
          "text": [
            "/usr/local/lib/python3.6/dist-packages/sklearn/utils/deprecation.py:87: FutureWarning: Function safe_indexing is deprecated; safe_indexing is deprecated in version 0.22 and will be removed in version 0.24.\n",
            "  warnings.warn(msg, category=FutureWarning)\n",
            "/usr/local/lib/python3.6/dist-packages/sklearn/utils/deprecation.py:87: FutureWarning: Function safe_indexing is deprecated; safe_indexing is deprecated in version 0.22 and will be removed in version 0.24.\n",
            "  warnings.warn(msg, category=FutureWarning)\n"
          ],
          "name": "stderr"
        },
        {
          "output_type": "stream",
          "text": [
            "Counter({2: 1505, 1: 1505, 0: 1505})\n"
          ],
          "name": "stdout"
        }
      ]
    },
    {
      "cell_type": "markdown",
      "metadata": {
        "id": "vMP8w_LAgVnE",
        "colab_type": "text"
      },
      "source": [
        "* Return to the initial X_train shape:"
      ]
    },
    {
      "cell_type": "code",
      "metadata": {
        "id": "Z8TbooNagNTi",
        "colab_type": "code",
        "colab": {
          "base_uri": "https://localhost:8080/",
          "height": 87
        },
        "outputId": "ae0499b7-133d-4ae4-ea2c-81d680253b2e"
      },
      "source": [
        "X_over3 = X_over3.reshape(len(y_over3),200,200,1)\n",
        "print('X_oversampled_shape:',X_over3.shape)\n",
        "print('X_train_shape:',X_train.shape)\n",
        "print('X_val_shape:',X_val.shape)\n",
        "print('X_test_shape:',X_test.shape)"
      ],
      "execution_count": null,
      "outputs": [
        {
          "output_type": "stream",
          "text": [
            "X_oversampled_shape: (4515, 200, 200, 1)\n",
            "X_train_shape: (3346, 200, 200, 1)\n",
            "X_val_shape: (1434, 200, 200, 1)\n",
            "X_test_shape: (2049, 200, 200, 1)\n"
          ],
          "name": "stdout"
        }
      ]
    },
    {
      "cell_type": "markdown",
      "metadata": {
        "id": "FJCHDrfOgjZJ",
        "colab_type": "text"
      },
      "source": [
        "* Confirm new data dimension:"
      ]
    },
    {
      "cell_type": "code",
      "metadata": {
        "id": "TLa5dmbAhYyI",
        "colab_type": "code",
        "colab": {}
      },
      "source": [
        "def count_labels3(y_all):\n",
        "  how_many_0 = len(np.where(y_all==0)[0])\n",
        "  how_many_1 = len(np.where(y_all==1)[0])\n",
        "  how_many_2 = len(np.where(y_all==2)[0])\n",
        "\n",
        "  print('#covid:',how_many_0)\n",
        "  print('#penumonia:',how_many_1)\n",
        "  print('#normal:',how_many_2)"
      ],
      "execution_count": null,
      "outputs": []
    },
    {
      "cell_type": "code",
      "metadata": {
        "id": "HDb8Ooc-gjsj",
        "colab_type": "code",
        "colab": {
          "base_uri": "https://localhost:8080/",
          "height": 70
        },
        "outputId": "b03d5d71-f9c2-4181-ed51-033f92d4cb85"
      },
      "source": [
        "count_labels3(y_train3)"
      ],
      "execution_count": null,
      "outputs": [
        {
          "output_type": "stream",
          "text": [
            "#covid: 469\n",
            "#penumonia: 1505\n",
            "#normal: 1372\n"
          ],
          "name": "stdout"
        }
      ]
    },
    {
      "cell_type": "code",
      "metadata": {
        "id": "Wmvx9doMgma4",
        "colab_type": "code",
        "colab": {
          "base_uri": "https://localhost:8080/",
          "height": 70
        },
        "outputId": "bce01385-c310-445c-dbab-4b29a8279f9a"
      },
      "source": [
        "count_labels3(y_over3)"
      ],
      "execution_count": null,
      "outputs": [
        {
          "output_type": "stream",
          "text": [
            "#covid: 1505\n",
            "#penumonia: 1505\n",
            "#normal: 1505\n"
          ],
          "name": "stdout"
        }
      ]
    },
    {
      "cell_type": "markdown",
      "metadata": {
        "id": "jYz14PscgtSc",
        "colab_type": "text"
      },
      "source": [
       "- It appears that, via SMOTE, the majority class in the training set (now pneumonia, considering 3 labels), with 1,505 images, served as a reference for oversampling, with images up to this size being generated in each of the labels. \n",
        "- COVID cases increased from 469 to 1505 (triple)."
      ]
    }
  ]
}
